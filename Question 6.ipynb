{
 "cells": [
  {
   "cell_type": "code",
   "execution_count": 29,
   "metadata": {
    "collapsed": true
   },
   "outputs": [],
   "source": [
    "# __author__ = 'Bhanu Verma'\n",
    "# GTid = '903151012'"
   ]
  },
  {
   "cell_type": "code",
   "execution_count": 30,
   "metadata": {
    "collapsed": true
   },
   "outputs": [],
   "source": [
    "import pandas as pd\n",
    "import numpy as np\n",
    "from sklearn.feature_extraction import DictVectorizer\n",
    "from pyfm import pylibfm\n",
    "import matplotlib.pyplot as plt\n",
    "from scipy.sparse import csc_matrix\n",
    "%matplotlib inline"
   ]
  },
  {
   "cell_type": "markdown",
   "metadata": {},
   "source": [
    "# Question 3.a"
   ]
  },
  {
   "cell_type": "code",
   "execution_count": 31,
   "metadata": {
    "collapsed": true
   },
   "outputs": [],
   "source": [
    "df = pd.read_csv('ml-100k/ua.base', sep='\\t', header=None, names=['user_id', 'item_id', 'rating', 'timestamp'])"
   ]
  },
  {
   "cell_type": "code",
   "execution_count": 32,
   "metadata": {
    "collapsed": true
   },
   "outputs": [],
   "source": [
    "test_df = pd.read_csv('ml-100k/ua.test', sep='\\t', header=None, names=['user_id', 'item_id', 'rating', 'timestamp'])"
   ]
  },
  {
   "cell_type": "code",
   "execution_count": 33,
   "metadata": {
    "collapsed": false
   },
   "outputs": [],
   "source": [
    "user_df = df.groupby(['user_id']).count()\n",
    "item_df = df.groupby(['item_id']).count()"
   ]
  },
  {
   "cell_type": "code",
   "execution_count": 34,
   "metadata": {
    "collapsed": false
   },
   "outputs": [
    {
     "data": {
      "image/png": "[encoded data removed]",
      "text/plain": [
       "<matplotlib.figure.Figure at 0x1154a4090>"
      ]
     },
     "metadata": {},
     "output_type": "display_data"
    }
   ],
   "source": [
    "plt.figure(1, figsize=(12, 7))\n",
    "plt.xlabel('Movie Bins')\n",
    "plt.ylabel('Count')\n",
    "plt.title('Histogram for Movie Ratings')\n",
    "plt.hist(item_df['user_id'], bins=50, facecolor='green', alpha=0.6)\n",
    "plt.grid(True)\n",
    "plt.show()"
   ]
  },
  {
   "cell_type": "markdown",
   "metadata": {},
   "source": [
    "# Question 3.b"
   ]
  },
  {
   "cell_type": "code",
   "execution_count": 35,
   "metadata": {
    "collapsed": false
   },
   "outputs": [
    {
     "data": {
      "image/png": "[encoded data removed]",
      "text/plain": [
       "<matplotlib.figure.Figure at 0x118735590>"
      ]
     },
     "metadata": {},
     "output_type": "display_data"
    }
   ],
   "source": [
    "plt.figure(1, figsize=(12, 7))\n",
    "plt.xlabel('User Bins')\n",
    "plt.ylabel('Count')\n",
    "plt.title('Histogram for User Ratings')\n",
    "plt.hist(user_df['item_id'], bins=50, facecolor='green', alpha=0.6)\n",
    "plt.grid(True)\n",
    "plt.show()"
   ]
  },
  {
   "cell_type": "code",
   "execution_count": 36,
   "metadata": {
    "collapsed": true
   },
   "outputs": [],
   "source": [
    "user = df['user_id'].values\n",
    "item = df['item_id'].values\n",
    "ratings = df['rating'].values\n",
    "mat = csc_matrix((ratings, (user, item)))\n",
    "mat = mat[1:,1:]"
   ]
  },
  {
   "cell_type": "markdown",
   "metadata": {},
   "source": [
    "# Question 6.a"
   ]
  },
  {
   "cell_type": "code",
   "execution_count": 53,
   "metadata": {
    "collapsed": true
   },
   "outputs": [],
   "source": [
    "# Code referenced from https://github.com/coreylynch/pyFM\n",
    "def loadData(filePathStr,path=\"ml-100k/\"):\n",
    "    data = []\n",
    "    y = []\n",
    "    user_age = {}\n",
    "    user_gender = {}\n",
    "    \n",
    "    if len(filePathStr) == 1:\n",
    "        with open(path+filePathStr[0]) as f:\n",
    "            for line in f:\n",
    "                (user,movieid,rating,timestamp)=line.split('\\t')\n",
    "                data.append({\"user_id\": str(user),\"movie_id\": str(movieid)})\n",
    "                y.append(float(rating))\n",
    "    else:\n",
    "        with open(path+filePathStr[0]) as f:\n",
    "            for line in f:\n",
    "                (user,age,gender,occupation,zipcode) = line.split('|')\n",
    "                user_age[user] = str(age)\n",
    "                user_gender[user] = str(gender)\n",
    "                \n",
    "        with open(path+filePathStr[1]) as f:\n",
    "            for line in f:\n",
    "                (user,movieid,rating,timestamp)=line.split('\\t')\n",
    "                data.append({\"user_id\": str(user),\"movie_id\": str(movieid),\"user_age\":user_age[user],\n",
    "                             \"user_gender\":user_gender[user]})\n",
    "                y.append(float(rating))\n",
    "\n",
    "    return (data, np.array(y))"
   ]
  },
  {
   "cell_type": "code",
   "execution_count": 55,
   "metadata": {
    "collapsed": false
   },
   "outputs": [
    {
     "name": "stdout",
     "output_type": "stream",
     "text": [
      "Creating validation dataset of 0.01 of training for adaptive regularization\n",
      "-- Epoch 1\n",
      "Training MSE: 0.59477\n",
      "-- Epoch 2\n",
      "Training MSE: 0.51789\n",
      "-- Epoch 3\n",
      "Training MSE: 0.49024\n",
      "-- Epoch 4\n",
      "Training MSE: 0.47448\n",
      "-- Epoch 5\n",
      "Training MSE: 0.46395\n",
      "-- Epoch 6\n",
      "Training MSE: 0.45640\n",
      "-- Epoch 7\n",
      "Training MSE: 0.45077\n",
      "-- Epoch 8\n",
      "Training MSE: 0.44629\n",
      "-- Epoch 9\n",
      "Training MSE: 0.44243\n",
      "-- Epoch 10\n",
      "Training MSE: 0.43928\n",
      "-- Epoch 11\n",
      "Training MSE: 0.43659\n",
      "-- Epoch 12\n",
      "Training MSE: 0.43418\n",
      "-- Epoch 13\n",
      "Training MSE: 0.43210\n",
      "-- Epoch 14\n",
      "Training MSE: 0.43017\n",
      "-- Epoch 15\n",
      "Training MSE: 0.42841\n",
      "-- Epoch 16\n",
      "Training MSE: 0.42670\n",
      "-- Epoch 17\n",
      "Training MSE: 0.42521\n",
      "-- Epoch 18\n",
      "Training MSE: 0.42377\n",
      "-- Epoch 19\n",
      "Training MSE: 0.42248\n",
      "-- Epoch 20\n",
      "Training MSE: 0.42120\n",
      "-- Epoch 21\n",
      "Training MSE: 0.41987\n",
      "-- Epoch 22\n",
      "Training MSE: 0.41861\n",
      "-- Epoch 23\n",
      "Training MSE: 0.41742\n",
      "-- Epoch 24\n",
      "Training MSE: 0.41634\n",
      "-- Epoch 25\n",
      "Training MSE: 0.41517\n",
      "-- Epoch 26\n",
      "Training MSE: 0.41393\n",
      "-- Epoch 27\n",
      "Training MSE: 0.41273\n",
      "-- Epoch 28\n",
      "Training MSE: 0.41146\n",
      "-- Epoch 29\n",
      "Training MSE: 0.41032\n",
      "-- Epoch 30\n",
      "Training MSE: 0.40903\n",
      "-- Epoch 31\n",
      "Training MSE: 0.40780\n",
      "-- Epoch 32\n",
      "Training MSE: 0.40644\n",
      "-- Epoch 33\n",
      "Training MSE: 0.40507\n",
      "-- Epoch 34\n",
      "Training MSE: 0.40361\n",
      "-- Epoch 35\n",
      "Training MSE: 0.40219\n",
      "-- Epoch 36\n",
      "Training MSE: 0.40065\n",
      "-- Epoch 37\n",
      "Training MSE: 0.39916\n",
      "-- Epoch 38\n",
      "Training MSE: 0.39758\n",
      "-- Epoch 39\n",
      "Training MSE: 0.39581\n",
      "-- Epoch 40\n",
      "Training MSE: 0.39421\n",
      "-- Epoch 41\n",
      "Training MSE: 0.39241\n",
      "-- Epoch 42\n",
      "Training MSE: 0.39058\n",
      "-- Epoch 43\n",
      "Training MSE: 0.38875\n",
      "-- Epoch 44\n",
      "Training MSE: 0.38680\n",
      "-- Epoch 45\n",
      "Training MSE: 0.38485\n",
      "-- Epoch 46\n",
      "Training MSE: 0.38295\n",
      "-- Epoch 47\n",
      "Training MSE: 0.38092\n",
      "-- Epoch 48\n",
      "Training MSE: 0.37883\n",
      "-- Epoch 49\n",
      "Training MSE: 0.37679\n",
      "-- Epoch 50\n",
      "Training MSE: 0.37481\n",
      "-- Epoch 51\n",
      "Training MSE: 0.37271\n",
      "-- Epoch 52\n",
      "Training MSE: 0.37064\n",
      "-- Epoch 53\n",
      "Training MSE: 0.36848\n",
      "-- Epoch 54\n",
      "Training MSE: 0.36642\n",
      "-- Epoch 55\n",
      "Training MSE: 0.36448\n",
      "-- Epoch 56\n",
      "Training MSE: 0.36242\n",
      "-- Epoch 57\n",
      "Training MSE: 0.36050\n",
      "-- Epoch 58\n",
      "Training MSE: 0.35851\n",
      "-- Epoch 59\n",
      "Training MSE: 0.35656\n",
      "-- Epoch 60\n",
      "Training MSE: 0.35478\n",
      "-- Epoch 61\n",
      "Training MSE: 0.35291\n",
      "-- Epoch 62\n",
      "Training MSE: 0.35112\n",
      "-- Epoch 63\n",
      "Training MSE: 0.34941\n",
      "-- Epoch 64\n",
      "Training MSE: 0.34772\n",
      "-- Epoch 65\n",
      "Training MSE: 0.34603\n",
      "-- Epoch 66\n",
      "Training MSE: 0.34457\n",
      "-- Epoch 67\n",
      "Training MSE: 0.34298\n",
      "-- Epoch 68\n",
      "Training MSE: 0.34147\n",
      "-- Epoch 69\n",
      "Training MSE: 0.34015\n",
      "-- Epoch 70\n",
      "Training MSE: 0.33877\n",
      "-- Epoch 71\n",
      "Training MSE: 0.33739\n",
      "-- Epoch 72\n",
      "Training MSE: 0.33617\n",
      "-- Epoch 73\n",
      "Training MSE: 0.33491\n",
      "-- Epoch 74\n",
      "Training MSE: 0.33382\n",
      "-- Epoch 75\n",
      "Training MSE: 0.33267\n",
      "-- Epoch 76\n",
      "Training MSE: 0.33155\n",
      "-- Epoch 77\n",
      "Training MSE: 0.33058\n",
      "-- Epoch 78\n",
      "Training MSE: 0.32970\n",
      "-- Epoch 79\n",
      "Training MSE: 0.32880\n",
      "-- Epoch 80\n",
      "Training MSE: 0.32782\n",
      "-- Epoch 81\n",
      "Training MSE: 0.32697\n",
      "-- Epoch 82\n",
      "Training MSE: 0.32617\n",
      "-- Epoch 83\n",
      "Training MSE: 0.32546\n",
      "-- Epoch 84\n",
      "Training MSE: 0.32472\n",
      "-- Epoch 85\n",
      "Training MSE: 0.32398\n",
      "-- Epoch 86\n",
      "Training MSE: 0.32334\n",
      "-- Epoch 87\n",
      "Training MSE: 0.32280\n",
      "-- Epoch 88\n",
      "Training MSE: 0.32210\n",
      "-- Epoch 89\n",
      "Training MSE: 0.32155\n",
      "-- Epoch 90\n",
      "Training MSE: 0.32100\n",
      "-- Epoch 91\n",
      "Training MSE: 0.32048\n",
      "-- Epoch 92\n",
      "Training MSE: 0.32003\n",
      "-- Epoch 93\n",
      "Training MSE: 0.31955\n",
      "-- Epoch 94\n",
      "Training MSE: 0.31912\n",
      "-- Epoch 95\n",
      "Training MSE: 0.31863\n",
      "-- Epoch 96\n",
      "Training MSE: 0.31831\n",
      "-- Epoch 97\n",
      "Training MSE: 0.31791\n",
      "-- Epoch 98\n",
      "Training MSE: 0.31750\n",
      "-- Epoch 99\n",
      "Training MSE: 0.31714\n",
      "-- Epoch 100\n",
      "Training MSE: 0.31681\n"
     ]
    }
   ],
   "source": [
    "(train_data, y_train) = loadData([\"ua.base\"])\n",
    "(test_data, y_test) = loadData([\"ua.test\"])\n",
    "v = DictVectorizer()\n",
    "X_train = v.fit_transform(train_data)\n",
    "X_test = v.transform(test_data)\n",
    "\n",
    "# Train factorization machine\n",
    "fm = pylibfm.FM(num_factors=10, num_iter=100, verbose=True, task=\"regression\",\n",
    "                initial_learning_rate=0.001, learning_rate_schedule=\"optimal\")\n",
    "fm.fit(X_train,y_train)"
   ]
  },
  {
   "cell_type": "code",
   "execution_count": 51,
   "metadata": {
    "collapsed": false
   },
   "outputs": [
    {
     "name": "stdout",
     "output_type": "stream",
     "text": [
      "FM RMSE: 0.9570\n"
     ]
    }
   ],
   "source": [
    "# Find Root_Mean_Square_Error\n",
    "preds = fm.predict(X_test)\n",
    "from sklearn.metrics import mean_squared_error\n",
    "print(\"FM RMSE: %.4f\" % (mean_squared_error(y_test,preds))**0.5)"
   ]
  },
  {
   "cell_type": "markdown",
   "metadata": {},
   "source": [
    "# Question 6.b"
   ]
  },
  {
   "cell_type": "code",
   "execution_count": 52,
   "metadata": {
    "collapsed": false
   },
   "outputs": [],
   "source": [
    "(train_data, y_train) = loadData([\"u.user\",\"ua.base\"])\n",
    "(test_data, y_test) = loadData([\"u.user\",\"ua.test\"])\n",
    "v = DictVectorizer()\n",
    "X_train = v.fit_transform(train_data)\n",
    "X_test = v.transform(test_data)\n",
    "\n",
    "# Train factorization machine\n",
    "fm = pylibfm.FM(num_factors=10, num_iter=100, verbose=True, task=\"regression\",\n",
    "                initial_learning_rate=0.001, learning_rate_schedule=\"optimal\")\n",
    "fm.fit(X_train,y_train)"
   ]
  },
  {
   "cell_type": "code",
   "execution_count": 48,
   "metadata": {
    "collapsed": false
   },
   "outputs": [
    {
     "name": "stdout",
     "output_type": "stream",
     "text": [
      "FM MSE: 0.9242\n"
     ]
    }
   ],
   "source": [
    "# Find Root_Mean_Square_Error\n",
    "preds = fm.predict(X_test)\n",
    "from sklearn.metrics import mean_squared_error\n",
    "print(\"FM RMSE: %.4f\" % (mean_squared_error(y_test,preds))**0.5)"
   ]
  },
  {
   "cell_type": "code",
   "execution_count": 56,
   "metadata": {
    "collapsed": false
   },
   "outputs": [
    {
     "name": "stdout",
     "output_type": "stream",
     "text": [
      "bhanu\n"
     ]
    }
   ],
   "source": [
    "print 'bhanu'"
   ]
  },
  {
   "cell_type": "code",
   "execution_count": null,
   "metadata": {
    "collapsed": true
   },
   "outputs": [],
   "source": []
  }
 ],
 "metadata": {
  "kernelspec": {
   "display_name": "Python 2",
   "language": "python",
   "name": "python2"
  },
  "language_info": {
   "codemirror_mode": {
    "name": "ipython",
    "version": 2
   },
   "file_extension": ".py",
   "mimetype": "text/x-python",
   "name": "python",
   "nbconvert_exporter": "python",
   "pygments_lexer": "ipython2",
   "version": "2.7.11"
  }
 },
 "nbformat": 4,
 "nbformat_minor": 0
}
