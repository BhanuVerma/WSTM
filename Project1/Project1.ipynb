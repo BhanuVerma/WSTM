{
 "cells": [
  {
   "cell_type": "markdown",
   "metadata": {
    "collapsed": false
   },
   "source": [
    "# Question 2.2, SVD"
   ]
  },
  {
   "cell_type": "code",
   "execution_count": 39,
   "metadata": {
    "collapsed": false
   },
   "outputs": [],
   "source": [
    "import tensorflow as tf\n",
    "import matplotlib.pyplot as plt\n",
    "import numpy as np\n",
    "from scipy import linalg\n",
    "from sklearn.decomposition import RandomizedPCA\n",
    "from sklearn.decomposition import TruncatedSVD\n",
    "import os, os.path\n",
    "from PIL import Image\n",
    "from scipy.sparse import lil_matrix,linalg\n",
    "from scipy.stats import truncnorm\n",
    "from scipy.spatial.distance import pdist\n",
    "from scipy.spatial.distance import squareform\n",
    "from sklearn.metrics import confusion_matrix\n",
    "%matplotlib inline"
   ]
  },
  {
   "cell_type": "code",
   "execution_count": 2,
   "metadata": {
    "collapsed": false
   },
   "outputs": [],
   "source": [
    "size_tup = (256,256)\n",
    "count = 0\n",
    "imageNameArr = []\n",
    "categoryArr = []\n",
    "sizeArr = []\n",
    "grayImageArr = []\n",
    "cumSizeArr = []\n",
    "indArr = []\n",
    "animalPath = 'Data/Animal'\n",
    "fungusPath = 'Data/Fungus'\n",
    "geoPath = 'Data/Geological Formation'\n",
    "personPath = 'Data/Person'\n",
    "plantPath = 'Data/Plant, flora, plant life'\n",
    "sportPath = 'Data/Sport'\n",
    "\n",
    "# animal:0, fungus:1, geo:2, person:3, plant:4, sport:5\n",
    "categoryArr = [animalPath, fungusPath, geoPath, personPath, plantPath, sportPath]\n",
    "totalSize = 0\n",
    "\n",
    "for category in categoryArr:\n",
    "    fold_size = len([name for name in os.listdir(category)])\n",
    "    sizeArr.append(fold_size)\n",
    "    totalSize += fold_size\n",
    "    cumSizeArr.append(totalSize)\n",
    "    \n",
    "single_mat = np.empty([totalSize, size_tup[0]*size_tup[1]*3])\n",
    "ind = 0\n",
    "\n",
    "for a,category in enumerate(categoryArr):\n",
    "    dirList = os.listdir(category)\n",
    "\n",
    "    for i,fname in enumerate(dirList):\n",
    "        img = Image.open(category+'/'+fname)\n",
    "        img = img.resize(size_tup)\n",
    "        np_img = np.asarray(img)\n",
    "        shape_tup = np_img.shape\n",
    "        imageNameArr.append(fname)\n",
    "\n",
    "        r_img = np.empty([size_tup[0],size_tup[1]])\n",
    "        g_img = np.empty([size_tup[0],size_tup[1]])\n",
    "        b_img = np.empty([size_tup[0],size_tup[1]])\n",
    "\n",
    "        # check if image is grayscale\n",
    "        if len(shape_tup) < 3:\n",
    "            r_img = np_img\n",
    "            g_img = np_img\n",
    "            b_img = np_img\n",
    "            grayImageArr.append(np_img)\n",
    "            count += 1\n",
    "        else:\n",
    "            # iterate through img and store r,g,b\n",
    "            for color in range(shape_tup[len(shape_tup)-1]):\n",
    "                if color == 0:\n",
    "                    r_img = np_img[:,:,color]\n",
    "                elif color == 1:\n",
    "                    g_img = np_img[:,:,color]\n",
    "                else:\n",
    "                    b_img = np_img[:,:,color]\n",
    "\n",
    "        r_vect = np.transpose(r_img).flatten()\n",
    "        g_vect = np.transpose(g_img).flatten()\n",
    "        b_vect = np.transpose(b_img).flatten()\n",
    "        temp_vect = np.empty([3, size_tup[0]*size_tup[1]])\n",
    "        temp_vect[0] = r_vect\n",
    "        temp_vect[1] = g_vect\n",
    "        temp_vect[2] = b_vect\n",
    "        new_vect = temp_vect.flatten()\n",
    "        single_mat[ind] = new_vect\n",
    "        indArr.append(ind)\n",
    "        ind += 1"
   ]
  },
  {
   "cell_type": "code",
   "execution_count": 3,
   "metadata": {
    "collapsed": false
   },
   "outputs": [
    {
     "name": "stdout",
     "output_type": "stream",
     "text": [
      "(8987, 196608)\n"
     ]
    }
   ],
   "source": [
    "print single_mat.shape"
   ]
  },
  {
   "cell_type": "code",
   "execution_count": 4,
   "metadata": {
    "collapsed": false
   },
   "outputs": [],
   "source": [
    "svd = TruncatedSVD(n_components=256)\n",
    "new_mat = svd.fit_transform(single_mat)"
   ]
  },
  {
   "cell_type": "code",
   "execution_count": 5,
   "metadata": {
    "collapsed": false
   },
   "outputs": [
    {
     "name": "stdout",
     "output_type": "stream",
     "text": [
      "(8987, 256)\n"
     ]
    }
   ],
   "source": [
    "print new_mat.shape"
   ]
  },
  {
   "cell_type": "markdown",
   "metadata": {},
   "source": [
    "# Question 3\n",
    "User Image Matrix"
   ]
  },
  {
   "cell_type": "code",
   "execution_count": 111,
   "metadata": {
    "collapsed": false
   },
   "outputs": [],
   "source": [
    "users = [x for x in range(1000)]\n",
    "u_c_mat = lil_matrix((len(users), totalSize), dtype=np.float64)\n",
    "img_ind = 0\n",
    "mean_arr = []\n",
    "\n",
    "# for arr in categoryArr:\n",
    "#     cat_mean = np.random.uniform(1.5,4.5)\n",
    "#     mean_arr.append(cat_mean)\n",
    "    \n",
    "for user in users:\n",
    "    catChoiceArr = list(np.random.choice(6,4,replace=False))\n",
    "    catChoiceArr.sort()\n",
    "    choiceInd = 0\n",
    "    for catInd,catPath in enumerate(categoryArr):\n",
    "        if choiceInd >= 4:\n",
    "            break\n",
    "        if catChoiceArr[choiceInd] == catInd:\n",
    "            if catInd == 0:\n",
    "                img_ind = 0\n",
    "            else:\n",
    "                img_ind = cumSizeArr[catInd-1]\n",
    "            cat_mean = np.random.uniform(1.5,4.5)\n",
    "            m = np.random.geometric(p=0.1,size=1)%sizeArr[catInd] \n",
    "            img_indices = list(np.random.choice(sizeArr[catInd],m,replace=False))\n",
    "            for i,movie_ind in enumerate(img_indices):\n",
    "                ind_val = img_ind + movie_ind\n",
    "                rating = truncnorm.rvs(a=(1-cat_mean)/1,b=(5-cat_mean)/1,loc=cat_mean,scale=1)\n",
    "                u_c_mat[user,ind_val] = rating\n",
    "            choiceInd += 1\n",
    "    "
   ]
  },
  {
   "cell_type": "markdown",
   "metadata": {},
   "source": [
    "Using svd on dense matrix here would yield poor results (accuracy=13%). Hence, no need to convert this sparse matrix into dense matrix."
   ]
  },
  {
   "cell_type": "code",
   "execution_count": 112,
   "metadata": {
    "collapsed": false
   },
   "outputs": [],
   "source": [
    "u,s,v = linalg.svds(u_c_mat)"
   ]
  },
  {
   "cell_type": "code",
   "execution_count": 113,
   "metadata": {
    "collapsed": false
   },
   "outputs": [
    {
     "name": "stdout",
     "output_type": "stream",
     "text": [
      "(1000, 6) (6,) (6, 8987)\n"
     ]
    }
   ],
   "source": [
    "print u.shape, s.shape, v.shape"
   ]
  },
  {
   "cell_type": "markdown",
   "metadata": {
    "collapsed": true
   },
   "source": [
    "# Question 4"
   ]
  },
  {
   "cell_type": "code",
   "execution_count": 148,
   "metadata": {
    "collapsed": true
   },
   "outputs": [],
   "source": [
    "def get_euc_mat(mat):\n",
    "    y = pdist(mat, metric='euclidean')\n",
    "    euc_mat = squareform(y)\n",
    "    return euc_mat"
   ]
  },
  {
   "cell_type": "code",
   "execution_count": 149,
   "metadata": {
    "collapsed": true
   },
   "outputs": [],
   "source": [
    "def get_corr_mat(mat):\n",
    "    return np.ma.corrcoef(mat)"
   ]
  },
  {
   "cell_type": "code",
   "execution_count": 150,
   "metadata": {
    "collapsed": true
   },
   "outputs": [],
   "source": [
    "def get_image_category(imageID):\n",
    "#     animal:0, fungus:1, geo:2, person:3, plant:4, sport:5\n",
    "    cat_val = -1\n",
    "    if imageID >= cumSizeArr[len(cumSizeArr)-1]:\n",
    "        return cat_val\n",
    "    \n",
    "    for i,val in enumerate(cumSizeArr):\n",
    "        if imageID < val:\n",
    "            cat_val = i\n",
    "            break\n",
    "            \n",
    "    return cat_val+1"
   ]
  },
  {
   "cell_type": "code",
   "execution_count": 151,
   "metadata": {
    "collapsed": false
   },
   "outputs": [],
   "source": [
    "# This is for Euclidean Distance\n",
    "def get_neighbours(mat):\n",
    "    category_arr = []\n",
    "    for row_id in range(mat.shape[0]):\n",
    "        temp_arr = mat[row_id]\n",
    "        id_arr = np.argsort(temp_arr)\n",
    "        temp_cat = []\n",
    "        for i,img_id in enumerate(id_arr):\n",
    "            if i>=1 and i<=5:\n",
    "                temp_cat.append(get_image_category(img_id))\n",
    "            elif i>5:\n",
    "                break\n",
    "        category_arr.append(temp_cat)\n",
    "    return category_arr"
   ]
  },
  {
   "cell_type": "code",
   "execution_count": 152,
   "metadata": {
    "collapsed": true
   },
   "outputs": [],
   "source": [
    "# This is for Pearson Correlation Coefficienct\n",
    "def get_reverse_neighbours(mat):\n",
    "    category_arr = []\n",
    "    for row_id in range(mat.shape[0]):\n",
    "        temp_arr = mat[row_id]\n",
    "        id_arr = np.argsort(temp_arr)[::-1]\n",
    "        temp_cat = []\n",
    "        for i,img_id in enumerate(id_arr):\n",
    "            if i>=0 and i<=4:\n",
    "                temp_cat.append(get_image_category(img_id))\n",
    "            elif i>=5:\n",
    "                break\n",
    "        category_arr.append(temp_cat)\n",
    "    return category_arr"
   ]
  },
  {
   "cell_type": "code",
   "execution_count": 153,
   "metadata": {
    "collapsed": false
   },
   "outputs": [],
   "source": [
    "def get_true_arr():\n",
    "    true_arr = []\n",
    "    for i in range(totalSize):\n",
    "        true_arr.append(get_image_category(i))\n",
    "    \n",
    "    return true_arr"
   ]
  },
  {
   "cell_type": "code",
   "execution_count": 154,
   "metadata": {
    "collapsed": true
   },
   "outputs": [],
   "source": [
    "def get_pred_arr(category_arr):\n",
    "    pred = []\n",
    "    \n",
    "    for arr in category_arr:\n",
    "        a = np.array(arr)\n",
    "        count = np.bincount(a)\n",
    "        pred.append(np.argmax(count))\n",
    "    \n",
    "    return pred"
   ]
  },
  {
   "cell_type": "code",
   "execution_count": 155,
   "metadata": {
    "collapsed": false
   },
   "outputs": [],
   "source": [
    "def get_confusion_matrix(pred_arr):\n",
    "    cm = confusion_matrix(true_arr, pred_arr, labels=[1,2,3,4,5,6])\n",
    "    return cm"
   ]
  },
  {
   "cell_type": "code",
   "execution_count": 156,
   "metadata": {
    "collapsed": true
   },
   "outputs": [],
   "source": [
    "def plot_confusion_matrix(cm, title='Confusion matrix', cmap=plt.cm.Blues):\n",
    "    plt.imshow(cm, interpolation='nearest', cmap=cmap)\n",
    "    plt.title(title)\n",
    "    plt.colorbar()\n",
    "    tick_marks = np.arange(len(categoryArr))\n",
    "    plt.xticks(tick_marks, [\"Animal\",\"Fungus\",\"Geo\",\"Person\",\"Plant\",\"Sport\"], rotation=45)\n",
    "    plt.yticks(tick_marks, [\"Animal\",\"Fungus\",\"Geo\",\"Person\",\"Plant\",\"Sport\"])\n",
    "    plt.tight_layout()\n",
    "    plt.ylabel('True label')\n",
    "    plt.xlabel('Predicted label')"
   ]
  },
  {
   "cell_type": "code",
   "execution_count": 157,
   "metadata": {
    "collapsed": false
   },
   "outputs": [],
   "source": [
    "# getTrueValues\n",
    "true_arr = get_true_arr()"
   ]
  },
  {
   "cell_type": "markdown",
   "metadata": {},
   "source": [
    "# SVD - Euclidean"
   ]
  },
  {
   "cell_type": "code",
   "execution_count": 158,
   "metadata": {
    "collapsed": false
   },
   "outputs": [
    {
     "name": "stdout",
     "output_type": "stream",
     "text": [
      "[[ 476  195  390   66  226  218]\n",
      " [ 206  491  188   31  197   94]\n",
      " [ 177  105 1257   36   95  138]\n",
      " [ 277  179  314  215   93  164]\n",
      " [ 184  207  206   29  567   78]\n",
      " [ 330  127  540   43  186  662]]\n"
     ]
    }
   ],
   "source": [
    "# getPredValues\n",
    "euc_mat = get_euc_mat(new_mat)\n",
    "nn_arr = get_neighbours(euc_mat)\n",
    "pred_arr = get_pred_arr(nn_arr)\n",
    "cm = get_confusion_matrix(pred_arr)\n",
    "print cm"
   ]
  },
  {
   "cell_type": "code",
   "execution_count": 159,
   "metadata": {
    "collapsed": false
   },
   "outputs": [
    {
     "data": {
      "image/png": "[encoded data removed]",
      "text/plain": [
       "<matplotlib.figure.Figure at 0x4715a2050>"
      ]
     },
     "metadata": {},
     "output_type": "display_data"
    }
   ],
   "source": [
    "plt.figure()\n",
    "plot_confusion_matrix(cm)"
   ]
  },
  {
   "cell_type": "code",
   "execution_count": 160,
   "metadata": {
    "collapsed": false
   },
   "outputs": [
    {
     "name": "stdout",
     "output_type": "stream",
     "text": [
      "0.408145098476\n"
     ]
    }
   ],
   "source": [
    "accuracy = (np.array(true_arr) == np.array(pred_arr)).sum() / float(len(true_arr))\n",
    "print accuracy"
   ]
  },
  {
   "cell_type": "markdown",
   "metadata": {},
   "source": [
    "# User-Image Rating Matrix - Euclidean"
   ]
  },
  {
   "cell_type": "code",
   "execution_count": 161,
   "metadata": {
    "collapsed": false
   },
   "outputs": [
    {
     "name": "stdout",
     "output_type": "stream",
     "text": [
      "[[ 877   75  245   66  126  182]\n",
      " [  88  837   91   46   58   87]\n",
      " [ 325   92 1031   94   58  208]\n",
      " [  89   70  152  756   84   91]\n",
      " [ 152   71   88   69  839   52]\n",
      " [ 329  164  413  127   57  798]]\n"
     ]
    }
   ],
   "source": [
    "# getPredValues\n",
    "v_tran = np.transpose(v)\n",
    "euc_mat = get_euc_mat(v_tran)\n",
    "nn_arr = get_neighbours(euc_mat)\n",
    "pred_arr = get_pred_arr(nn_arr)\n",
    "cm = get_confusion_matrix(pred_arr)\n",
    "print cm"
   ]
  },
  {
   "cell_type": "code",
   "execution_count": 165,
   "metadata": {
    "collapsed": false
   },
   "outputs": [
    {
     "data": {
      "image/png": "[encoded data removed]",
      "text/plain": [
       "<matplotlib.figure.Figure at 0x45e001b90>"
      ]
     },
     "metadata": {},
     "output_type": "display_data"
    }
   ],
   "source": [
    "plt.figure()\n",
    "plot_confusion_matrix(cm)"
   ]
  },
  {
   "cell_type": "code",
   "execution_count": 166,
   "metadata": {
    "collapsed": false
   },
   "outputs": [
    {
     "name": "stdout",
     "output_type": "stream",
     "text": [
      "0.572938689218\n"
     ]
    }
   ],
   "source": [
    "accuracy = (np.array(true_arr) == np.array(pred_arr)).sum() / float(len(true_arr))\n",
    "print accuracy"
   ]
  },
  {
   "cell_type": "markdown",
   "metadata": {},
   "source": [
    "# SVD - Pearson Correlation Coefficient"
   ]
  },
  {
   "cell_type": "code",
   "execution_count": 167,
   "metadata": {
    "collapsed": false
   },
   "outputs": [
    {
     "name": "stdout",
     "output_type": "stream",
     "text": [
      "[[ 910   72  270   48  133  138]\n",
      " [ 181  656  178   17  129   46]\n",
      " [ 104   53 1511   21   41   78]\n",
      " [ 239  118  324  404   50  107]\n",
      " [ 164  132  195   17  715   48]\n",
      " [ 265   68  459   49   94  953]]\n"
     ]
    }
   ],
   "source": [
    "corr_mat = get_corr_mat(new_mat)\n",
    "nn_arr = get_reverse_neighbours(corr_mat)\n",
    "pred_arr = get_pred_arr(nn_arr)\n",
    "cm = get_confusion_matrix(pred_arr)\n",
    "print cm"
   ]
  },
  {
   "cell_type": "code",
   "execution_count": 168,
   "metadata": {
    "collapsed": false
   },
   "outputs": [
    {
     "name": "stdout",
     "output_type": "stream",
     "text": [
      "0.572938689218\n"
     ]
    }
   ],
   "source": [
    "accuracy = (np.array(true_arr) == np.array(pred_arr)).sum() / float(len(true_arr))\n",
    "print accuracy"
   ]
  },
  {
   "cell_type": "markdown",
   "metadata": {},
   "source": [
    "# User Image Ratings - Pearson Correlation Coefficient"
   ]
  },
  {
   "cell_type": "code",
   "execution_count": 169,
   "metadata": {
    "collapsed": false
   },
   "outputs": [
    {
     "name": "stdout",
     "output_type": "stream",
     "text": [
      "[[ 118   32  988   13    4  416]\n",
      " [  79    7  722    5    6  388]\n",
      " [ 129   28 1188   12    4  447]\n",
      " [  98   24  732   12    4  372]\n",
      " [  77   26  809   11    3  345]\n",
      " [ 137   24 1214   15    7  491]]\n"
     ]
    }
   ],
   "source": [
    "corr_mat = get_corr_mat(v_tran)\n",
    "nn_arr = get_reverse_neighbours(corr_mat)\n",
    "pred_arr = get_pred_arr(nn_arr)\n",
    "cm = get_confusion_matrix(pred_arr)\n",
    "print cm"
   ]
  },
  {
   "cell_type": "code",
   "execution_count": 170,
   "metadata": {
    "collapsed": false
   },
   "outputs": [
    {
     "data": {
      "image/png": "[encoded data removed]",
      "text/plain": [
       "<matplotlib.figure.Figure at 0x45cf44550>"
      ]
     },
     "metadata": {},
     "output_type": "display_data"
    }
   ],
   "source": [
    "plt.figure()\n",
    "plot_confusion_matrix(cm)"
   ]
  },
  {
   "cell_type": "code",
   "execution_count": 171,
   "metadata": {
    "collapsed": false
   },
   "outputs": [
    {
     "name": "stdout",
     "output_type": "stream",
     "text": [
      "0.202403471681\n"
     ]
    }
   ],
   "source": [
    "accuracy = (np.array(true_arr) == np.array(pred_arr)).sum() / float(len(true_arr))\n",
    "print accuracy"
   ]
  },
  {
   "cell_type": "code",
   "execution_count": null,
   "metadata": {
    "collapsed": true
   },
   "outputs": [],
   "source": []
  }
 ],
 "metadata": {
  "kernelspec": {
   "display_name": "Python 2",
   "language": "python",
   "name": "python2"
  },
  "language_info": {
   "codemirror_mode": {
    "name": "ipython",
    "version": 2
   },
   "file_extension": ".py",
   "mimetype": "text/x-python",
   "name": "python",
   "nbconvert_exporter": "python",
   "pygments_lexer": "ipython2",
   "version": "2.7.9"
  }
 },
 "nbformat": 4,
 "nbformat_minor": 0
}
