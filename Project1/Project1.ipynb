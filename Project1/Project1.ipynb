{
 "cells": [
  {
   "cell_type": "markdown",
   "metadata": {
    "collapsed": false
   },
   "source": [
    "# Question 2.2, SVD"
   ]
  },
  {
   "cell_type": "code",
   "execution_count": 1,
   "metadata": {
    "collapsed": false
   },
   "outputs": [],
   "source": [
    "import tensorflow as tf\n",
    "import matplotlib.pyplot as plt\n",
    "import numpy as np\n",
    "from scipy import linalg\n",
    "from sklearn.decomposition import RandomizedPCA\n",
    "from sklearn.decomposition import TruncatedSVD\n",
    "import os, os.path\n",
    "from PIL import Image\n",
    "from scipy.sparse import lil_matrix\n",
    "from scipy.stats import truncnorm\n",
    "from scipy.spatial.distance import pdist\n",
    "from scipy.spatial.distance import squareform\n",
    "from sklearn.metrics import confusion_matrix\n",
    "%matplotlib inline"
   ]
  },
  {
   "cell_type": "code",
   "execution_count": 9,
   "metadata": {
    "collapsed": false
   },
   "outputs": [],
   "source": [
    "size_tup = (256,256)\n",
    "count = 0\n",
    "imageNameArr = []\n",
    "categoryArr = []\n",
    "sizeArr = []\n",
    "grayImageArr = []\n",
    "cumSizeArr = []\n",
    "indArr = []\n",
    "animalPath = 'Data/Animal'\n",
    "fungusPath = 'Data/Fungus'\n",
    "geoPath = 'Data/Geological Formation'\n",
    "personPath = 'Data/Person'\n",
    "plantPath = 'Data/Plant, flora, plant life'\n",
    "sportPath = 'Data/Sport'\n",
    "\n",
    "# animal:0, fungus:1, geo:2, person:3, plant:4, sport:5\n",
    "categoryArr = [animalPath, fungusPath, geoPath, personPath, plantPath, sportPath]\n",
    "totalSize = 0\n",
    "\n",
    "for category in categoryArr:\n",
    "    fold_size = len([name for name in os.listdir(category)])\n",
    "    sizeArr.append(fold_size)\n",
    "    totalSize += fold_size\n",
    "    cumSizeArr.append(totalSize)\n",
    "    \n",
    "single_mat = np.empty([totalSize, size_tup[0]*size_tup[1]*3])\n",
    "# mat_r = np.empty([totalSize, size_tup[0]*size_tup[1]])\n",
    "# mat_g = np.empty([totalSize, size_tup[0]*size_tup[1]])\n",
    "# mat_b = np.empty([totalSize, size_tup[0]*size_tup[1]])\n",
    "ind = 0\n",
    "\n",
    "for a,category in enumerate(categoryArr):\n",
    "    dirList = os.listdir(category)\n",
    "\n",
    "    for i,fname in enumerate(dirList):\n",
    "        img = Image.open(category+'/'+fname)\n",
    "        img = img.resize(size_tup)\n",
    "        np_img = np.asarray(img)\n",
    "        shape_tup = np_img.shape\n",
    "        imageNameArr.append(fname)\n",
    "\n",
    "        r_img = np.empty([size_tup[0],size_tup[1]])\n",
    "        g_img = np.empty([size_tup[0],size_tup[1]])\n",
    "        b_img = np.empty([size_tup[0],size_tup[1]])\n",
    "\n",
    "        # check if image is grayscale\n",
    "        if len(shape_tup) < 3:\n",
    "            r_img = np_img\n",
    "            g_img = np_img\n",
    "            b_img = np_img\n",
    "            grayImageArr.append(np_img)\n",
    "            count += 1\n",
    "        else:\n",
    "            # iterate through img and store r,g,b\n",
    "            for color in range(shape_tup[len(shape_tup)-1]):\n",
    "                if color == 0:\n",
    "                    r_img = np_img[:,:,color]\n",
    "                elif color == 1:\n",
    "                    g_img = np_img[:,:,color]\n",
    "                else:\n",
    "                    b_img = np_img[:,:,color]\n",
    "\n",
    "        r_vect = np.transpose(r_img).flatten()\n",
    "        g_vect = np.transpose(g_img).flatten()\n",
    "        b_vect = np.transpose(b_img).flatten()\n",
    "#         mat_r[ind] = r_vect\n",
    "#         mat_g[ind] = g_vect\n",
    "#         mat_b[ind] = b_vect\n",
    "        temp_vect = np.empty([3, size_tup[0]*size_tup[1]])\n",
    "        temp_vect[0] = r_vect\n",
    "        temp_vect[1] = g_vect\n",
    "        temp_vect[2] = b_vect\n",
    "        new_vect = temp_vect.flatten()\n",
    "        single_mat[ind] = new_vect\n",
    "        indArr.append(ind)\n",
    "        ind += 1"
   ]
  },
  {
   "cell_type": "code",
   "execution_count": 11,
   "metadata": {
    "collapsed": false
   },
   "outputs": [
    {
     "name": "stdout",
     "output_type": "stream",
     "text": [
      "(8987, 196608)\n"
     ]
    }
   ],
   "source": [
    "print single_mat.shape"
   ]
  },
  {
   "cell_type": "code",
   "execution_count": 12,
   "metadata": {
    "collapsed": false
   },
   "outputs": [],
   "source": [
    "svd = TruncatedSVD(n_components=500)\n",
    "new_mat = svd.fit_transform(single_mat)"
   ]
  },
  {
   "cell_type": "code",
   "execution_count": 13,
   "metadata": {
    "collapsed": false
   },
   "outputs": [
    {
     "name": "stdout",
     "output_type": "stream",
     "text": [
      "(8987, 500)\n"
     ]
    }
   ],
   "source": [
    "print new_mat.shape"
   ]
  },
  {
   "cell_type": "markdown",
   "metadata": {},
   "source": [
    "# Question 3"
   ]
  },
  {
   "cell_type": "code",
   "execution_count": 14,
   "metadata": {
    "collapsed": false
   },
   "outputs": [],
   "source": [
    "users = [x for x in range(1000)]\n",
    "u_c_mat = lil_matrix((len(users), totalSize), dtype=np.float64)\n",
    "img_ind = 0\n",
    "for user in users:\n",
    "    catChoiceArr = list(np.random.choice(6,4,replace=False))\n",
    "    catChoiceArr.sort()\n",
    "    choiceInd = 0\n",
    "    for catInd,catPath in enumerate(categoryArr):\n",
    "        if choiceInd >= 4:\n",
    "            break\n",
    "        if catChoiceArr[choiceInd] == catInd:\n",
    "            if catInd == 0:\n",
    "                img_ind = 0\n",
    "            else:\n",
    "                img_ind = cumSizeArr[catInd-1]\n",
    "            m = np.random.geometric(p=0.1,size=1)%sizeArr[catInd] \n",
    "            img_indices = list(np.random.choice(sizeArr[catInd],m,replace=False))\n",
    "            cat_mean = np.random.uniform(1.5,4.5)\n",
    "            for i,movie_ind in enumerate(img_indices):\n",
    "                ind_val = img_ind + movie_ind\n",
    "                rating = truncnorm.rvs(a=(1-cat_mean)/1,b=(5-cat_mean)/1,loc=cat_mean,scale=1)\n",
    "                u_c_mat[user,ind_val] = rating\n",
    "                if rating > 5:\n",
    "                    print rating\n",
    "            choiceInd += 1\n",
    "    "
   ]
  },
  {
   "cell_type": "code",
   "execution_count": 15,
   "metadata": {
    "collapsed": false
   },
   "outputs": [],
   "source": [
    "u,s,v = linalg.svd(u_c_mat.todense())"
   ]
  },
  {
   "cell_type": "code",
   "execution_count": 17,
   "metadata": {
    "collapsed": false
   },
   "outputs": [
    {
     "name": "stdout",
     "output_type": "stream",
     "text": [
      "(1000, 1000) (1000,) (8987, 8987)\n"
     ]
    }
   ],
   "source": [
    "print u.shape, s.shape, v.shape"
   ]
  },
  {
   "cell_type": "markdown",
   "metadata": {
    "collapsed": true
   },
   "source": [
    "# Question 4"
   ]
  },
  {
   "cell_type": "code",
   "execution_count": 49,
   "metadata": {
    "collapsed": true
   },
   "outputs": [],
   "source": [
    "def get_euc_mat(mat):\n",
    "    y = pdist(mat, metric='euclidean')\n",
    "    euc_mat = squareform(y)\n",
    "    return euc_mat"
   ]
  },
  {
   "cell_type": "code",
   "execution_count": 50,
   "metadata": {
    "collapsed": true
   },
   "outputs": [],
   "source": [
    "def get_image_category(imageID):\n",
    "#     animal:0, fungus:1, geo:2, person:3, plant:4, sport:5\n",
    "    cat_val = -1\n",
    "    category = ''\n",
    "    if imageID >= cumSizeArr[len(cumSizeArr)-1]:\n",
    "        return category\n",
    "    \n",
    "    for i,val in enumerate(cumSizeArr):\n",
    "        if imageID < val:\n",
    "            cat_val = i\n",
    "            break\n",
    "            \n",
    "#     if cat_val == 0:\n",
    "#         category = \"Animal\"\n",
    "#     elif cat_val == 1:\n",
    "#         category = \"Fungus\"\n",
    "#     elif cat_val == 2:\n",
    "#         category = \"Geo\"\n",
    "#     elif cat_val == 3:\n",
    "#         category = \"Person\"\n",
    "#     elif cat_val == 4:\n",
    "#         category = \"Plant\"\n",
    "#     elif cat_val == 5:\n",
    "#         category = \"Sport\"\n",
    "        \n",
    "    return cat_val+1"
   ]
  },
  {
   "cell_type": "code",
   "execution_count": 52,
   "metadata": {
    "collapsed": false
   },
   "outputs": [],
   "source": [
    "def get_neighbours(mat):\n",
    "    nn_arr = []\n",
    "    category_arr = []\n",
    "    for row_id in range(mat.shape[0]):\n",
    "        temp_arr = mat[row_id]\n",
    "        id_arr = np.argsort(temp_arr)\n",
    "        temp_nn = []\n",
    "        temp_cat = []\n",
    "        for i,img_id in enumerate(id_arr):\n",
    "            if i>=1 and i<=5:\n",
    "                temp_nn.append(img_id)\n",
    "                temp_cat.append(getImageCategory(img_id))\n",
    "            elif i>5:\n",
    "                break\n",
    "        nn_arr.append(temp_nn)\n",
    "        category_arr.append(temp_cat)\n",
    "    return category_arr"
   ]
  },
  {
   "cell_type": "code",
   "execution_count": 53,
   "metadata": {
    "collapsed": false
   },
   "outputs": [],
   "source": [
    "def get_true_arr():\n",
    "    true_arr = []\n",
    "    for i in range(totalSize):\n",
    "        true_arr.append(getImageCategory(i))\n",
    "    \n",
    "    return true_arr"
   ]
  },
  {
   "cell_type": "code",
   "execution_count": 68,
   "metadata": {
    "collapsed": true
   },
   "outputs": [],
   "source": [
    "def get_pred_arr(category_arr):\n",
    "    pred = []\n",
    "    \n",
    "    for arr in category_arr:\n",
    "        a = np.array(arr)\n",
    "        count = np.bincount(a)\n",
    "        pred.append(np.argmax(count))\n",
    "    \n",
    "    return pred"
   ]
  },
  {
   "cell_type": "code",
   "execution_count": 55,
   "metadata": {
    "collapsed": false
   },
   "outputs": [],
   "source": [
    "def get_confusion_matrix(pred_arr):\n",
    "    cm = confusion_matrix(true_arr, pred_arr, labels=[1,2,3,4,5,6])\n",
    "    return cm"
   ]
  },
  {
   "cell_type": "code",
   "execution_count": 56,
   "metadata": {
    "collapsed": true
   },
   "outputs": [],
   "source": [
    "def plot_confusion_matrix(cm, title='Confusion matrix', cmap=plt.cm.Blues):\n",
    "    plt.imshow(cm, interpolation='nearest', cmap=cmap)\n",
    "    plt.title(title)\n",
    "    plt.colorbar()\n",
    "    tick_marks = np.arange(len(categoryArr))\n",
    "    plt.xticks(tick_marks, [\"Animal\",\"Fungus\",\"Geo\",\"Person\",\"Plant\",\"Sport\"], rotation=45)\n",
    "    plt.yticks(tick_marks, [\"Animal\",\"Fungus\",\"Geo\",\"Person\",\"Plant\",\"Sport\"])\n",
    "    plt.tight_layout()\n",
    "    plt.ylabel('True label')\n",
    "    plt.xlabel('Predicted label')"
   ]
  },
  {
   "cell_type": "code",
   "execution_count": 94,
   "metadata": {
    "collapsed": true
   },
   "outputs": [],
   "source": [
    "def convert_category_string_to_int(category):\n",
    "    cat_int = -1\n",
    "    \n",
    "    if category == \"Animal\":\n",
    "        cat_int = 1\n",
    "    elif category == \"Fungus\":\n",
    "        cat_int = 2\n",
    "    elif category == \"Geo\":\n",
    "        cat_int = 3\n",
    "    elif category == \"Person\":\n",
    "        cat_int = 4\n",
    "    elif category == \"Plant\":\n",
    "        cat_int = 5\n",
    "    elif category == \"Sport\":\n",
    "        cat_int = 6\n",
    "        \n",
    "    return cat_int"
   ]
  },
  {
   "cell_type": "code",
   "execution_count": 101,
   "metadata": {
    "collapsed": true
   },
   "outputs": [],
   "source": [
    "def convert_category_arr_to_int(nn_arr):\n",
    "    cat_arr = []\n",
    "    for arr in nn_arr:\n",
    "        temp = []\n",
    "        for str_val in arr:\n",
    "            category = convert_category_string_to_int(str_val)\n",
    "            temp.append(category)\n",
    "        cat_arr.append(temp)\n",
    "    \n",
    "    return cat_arr"
   ]
  },
  {
   "cell_type": "code",
   "execution_count": 99,
   "metadata": {
    "collapsed": false
   },
   "outputs": [],
   "source": [
    "# getTrueValues\n",
    "true_arr = []\n",
    "true_string_arr = get_true_arr()\n",
    "for val in true_string_arr:\n",
    "    true_arr.append(convert_category_string_to_int(val))"
   ]
  },
  {
   "cell_type": "code",
   "execution_count": 100,
   "metadata": {
    "collapsed": false
   },
   "outputs": [],
   "source": [
    "# getPredValues\n",
    "euc_mat = get_euc_mat(new_mat)\n",
    "nn_arr = get_neighbours(euc_mat)"
   ]
  },
  {
   "cell_type": "code",
   "execution_count": 104,
   "metadata": {
    "collapsed": false
   },
   "outputs": [],
   "source": [
    "pred_arr = get_pred_arr(cat_arr)"
   ]
  },
  {
   "cell_type": "code",
   "execution_count": 105,
   "metadata": {
    "collapsed": false
   },
   "outputs": [
    {
     "name": "stdout",
     "output_type": "stream",
     "text": [
      "[[ 475  198  404   64  220  210]\n",
      " [ 210  491  199   32  179   96]\n",
      " [ 181  104 1269   37   91  126]\n",
      " [ 283  182  319  218   87  153]\n",
      " [ 192  212  198   26  568   75]\n",
      " [ 344  114  556   48  175  651]]\n"
     ]
    }
   ],
   "source": [
    "cm = get_confusion_matrix(pred_arr)\n",
    "print cm"
   ]
  },
  {
   "cell_type": "code",
   "execution_count": 106,
   "metadata": {
    "collapsed": false
   },
   "outputs": [
    {
     "data": {
      "image/png": "[encoded data removed]",
      "text/plain": [
       "<matplotlib.figure.Figure at 0x112881a90>"
      ]
     },
     "metadata": {},
     "output_type": "display_data"
    }
   ],
   "source": [
    "plt.figure()\n",
    "plot_confusion_matrix(cm)"
   ]
  },
  {
   "cell_type": "code",
   "execution_count": 107,
   "metadata": {
    "collapsed": false
   },
   "outputs": [
    {
     "name": "stdout",
     "output_type": "stream",
     "text": [
      "0.408590185824\n"
     ]
    }
   ],
   "source": [
    "accuracy = (np.array(true_arr) == np.array(pred_arr)).sum() / float(len(true_arr))\n",
    "print accuracy"
   ]
  },
  {
   "cell_type": "code",
   "execution_count": null,
   "metadata": {
    "collapsed": true
   },
   "outputs": [],
   "source": []
  }
 ],
 "metadata": {
  "kernelspec": {
   "display_name": "Python 2",
   "language": "python",
   "name": "python2"
  },
  "language_info": {
   "codemirror_mode": {
    "name": "ipython",
    "version": 2
   },
   "file_extension": ".py",
   "mimetype": "text/x-python",
   "name": "python",
   "nbconvert_exporter": "python",
   "pygments_lexer": "ipython2",
   "version": "2.7.9"
  }
 },
 "nbformat": 4,
 "nbformat_minor": 0
}
