{
 "cells": [
  {
   "cell_type": "markdown",
   "metadata": {
    "collapsed": false
   },
   "source": [
    "# Question 2.2, SVD"
   ]
  },
  {
   "cell_type": "code",
   "execution_count": 98,
   "metadata": {
    "collapsed": false
   },
   "outputs": [],
   "source": [
    "import tensorflow as tf\n",
    "import matplotlib.pyplot as plt\n",
    "import numpy as np\n",
    "from scipy import linalg\n",
    "from sklearn.decomposition import RandomizedPCA\n",
    "from sklearn.decomposition import TruncatedSVD\n",
    "import os, os.path\n",
    "from PIL import Image\n",
    "from scipy.sparse import lil_matrix\n",
    "from scipy.stats import truncnorm\n",
    "from scipy.spatial.distance import pdist\n",
    "from scipy.spatial.distance import squareform\n",
    "from sklearn.metrics import confusion_matrix\n",
    "%matplotlib inline"
   ]
  },
  {
   "cell_type": "code",
   "execution_count": 69,
   "metadata": {
    "collapsed": false
   },
   "outputs": [],
   "source": [
    "size_tup = (256,256)\n",
    "count = 0\n",
    "imageNameArr = []\n",
    "categoryArr = []\n",
    "sizeArr = []\n",
    "grayImageArr = []\n",
    "cumSizeArr = []\n",
    "indArr = []\n",
    "animalPath = 'Data/Animal'\n",
    "fungusPath = 'Data/Fungus'\n",
    "geoPath = 'Data/Geological Formation'\n",
    "personPath = 'Data/Person'\n",
    "plantPath = 'Data/Plant, flora, plant life'\n",
    "sportPath = 'Data/Sport'\n",
    "\n",
    "# animal:0, fungus:1, geo:2, person:3, plant:4, sport:5\n",
    "categoryArr = [animalPath, fungusPath, geoPath, personPath, plantPath, sportPath]\n",
    "totalSize = 0\n",
    "\n",
    "for category in categoryArr:\n",
    "    fold_size = len([name for name in os.listdir(category)])\n",
    "    sizeArr.append(fold_size)\n",
    "    totalSize += fold_size\n",
    "    cumSizeArr.append(totalSize)\n",
    "    \n",
    "single_mat = np.empty([totalSize, size_tup[0]*size_tup[1]*3])\n",
    "mat_r = np.empty([totalSize, size_tup[0]*size_tup[1]])\n",
    "mat_g = np.empty([totalSize, size_tup[0]*size_tup[1]])\n",
    "mat_b = np.empty([totalSize, size_tup[0]*size_tup[1]])\n",
    "ind = 0\n",
    "\n",
    "for a,category in enumerate(categoryArr):\n",
    "    dirList = os.listdir(category)\n",
    "\n",
    "    for i,fname in enumerate(dirList):\n",
    "        img = Image.open(category+'/'+fname)\n",
    "        img = img.resize(size_tup)\n",
    "        np_img = np.asarray(img)\n",
    "        shape_tup = np_img.shape\n",
    "        imageNameArr.append(fname)\n",
    "\n",
    "        r_img = np.empty([size_tup[0],size_tup[1]])\n",
    "        g_img = np.empty([size_tup[0],size_tup[1]])\n",
    "        b_img = np.empty([size_tup[0],size_tup[1]])\n",
    "\n",
    "        # check if image is grayscale\n",
    "        if len(shape_tup) < 3:\n",
    "            r_img = np_img\n",
    "            g_img = np_img\n",
    "            b_img = np_img\n",
    "            grayImageArr.append(np_img)\n",
    "            count += 1\n",
    "        else:\n",
    "            # iterate through img and store r,g,b\n",
    "            for color in range(shape_tup[len(shape_tup)-1]):\n",
    "                if color == 0:\n",
    "                    r_img = np_img[:,:,color]\n",
    "                elif color == 1:\n",
    "                    g_img = np_img[:,:,color]\n",
    "                else:\n",
    "                    b_img = np_img[:,:,color]\n",
    "\n",
    "        r_vect = np.transpose(r_img).flatten()\n",
    "        g_vect = np.transpose(g_img).flatten()\n",
    "        b_vect = np.transpose(b_img).flatten()\n",
    "        mat_r[ind] = r_vect\n",
    "        mat_g[ind] = g_vect\n",
    "        mat_b[ind] = b_vect\n",
    "        temp_vect = np.empty([3, size_tup[0]*size_tup[1]])\n",
    "        temp_vect[0] = r_vect\n",
    "        temp_vect[1] = g_vect\n",
    "        temp_vect[2] = b_vect\n",
    "        new_vect = temp_vect.flatten()\n",
    "        single_mat[ind] = new_vect\n",
    "        indArr.append(ind)\n",
    "        ind += 1\n",
    "    else:\n",
    "        break"
   ]
  },
  {
   "cell_type": "code",
   "execution_count": 3,
   "metadata": {
    "collapsed": false
   },
   "outputs": [
    {
     "name": "stdout",
     "output_type": "stream",
     "text": [
      "(8987, 65536) (8987, 65536) (8987, 65536) (8987, 196608)\n"
     ]
    }
   ],
   "source": [
    "print mat_r.shape, mat_g.shape, mat_b.shape, single_mat.shape"
   ]
  },
  {
   "cell_type": "code",
   "execution_count": 4,
   "metadata": {
    "collapsed": false
   },
   "outputs": [],
   "source": [
    "svd = TruncatedSVD(n_components=500)\n",
    "new_mat = svd.fit_transform(single_mat)"
   ]
  },
  {
   "cell_type": "code",
   "execution_count": 5,
   "metadata": {
    "collapsed": false
   },
   "outputs": [
    {
     "name": "stdout",
     "output_type": "stream",
     "text": [
      "(8987, 500)\n"
     ]
    }
   ],
   "source": [
    "print new_mat.shape"
   ]
  },
  {
   "cell_type": "markdown",
   "metadata": {},
   "source": [
    "# Question 3"
   ]
  },
  {
   "cell_type": "code",
   "execution_count": 100,
   "metadata": {
    "collapsed": false
   },
   "outputs": [],
   "source": [
    "users = [x for x in range(1000)]\n",
    "u_c_mat = lil_matrix((len(users), totalSize), dtype=np.float64)\n",
    "img_ind = 0\n",
    "for user in users:\n",
    "    catChoiceArr = list(np.random.choice(6,4,replace=False))\n",
    "    catChoiceArr.sort()\n",
    "    choiceInd = 0\n",
    "    for catInd,catPath in enumerate(categoryArr):\n",
    "        if choiceInd >= 4:\n",
    "            break\n",
    "        if catChoiceArr[choiceInd] == catInd:\n",
    "            if catInd == 0:\n",
    "                img_ind = 0\n",
    "            else:\n",
    "                img_ind = cumSizeArr[catInd-1]\n",
    "            m = np.random.geometric(p=0.1,size=1)%sizeArr[catInd] \n",
    "            img_indices = list(np.random.choice(sizeArr[catInd],m,replace=False))\n",
    "            cat_mean = np.random.uniform(1.5,4.5)\n",
    "            for i,movie_ind in enumerate(img_indices):\n",
    "                ind_val = img_ind + movie_ind\n",
    "                rating = truncnorm.rvs(a=(1-cat_mean)/1,b=(5-cat_mean)/1,loc=cat_mean,scale=1)\n",
    "                u_c_mat[user,ind_val] = rating\n",
    "                if rating > 5:\n",
    "                    print rating\n",
    "            choiceInd += 1\n",
    "    "
   ]
  },
  {
   "cell_type": "code",
   "execution_count": 101,
   "metadata": {
    "collapsed": false
   },
   "outputs": [],
   "source": [
    "u,s,v = linalg.svd(u_c_mat.todense())"
   ]
  },
  {
   "cell_type": "code",
   "execution_count": 103,
   "metadata": {
    "collapsed": false
   },
   "outputs": [
    {
     "name": "stdout",
     "output_type": "stream",
     "text": [
      "(1000, 1000) (1000,) (8987, 8987) 8987\n"
     ]
    }
   ],
   "source": [
    "print u.shape, s.shape, v.shape, totalSize"
   ]
  },
  {
   "cell_type": "markdown",
   "metadata": {
    "collapsed": true
   },
   "source": [
    "# Question 4"
   ]
  },
  {
   "cell_type": "code",
   "execution_count": 6,
   "metadata": {
    "collapsed": true
   },
   "outputs": [],
   "source": [
    "y = pdist(new_mat, metric='euclidean')\n",
    "euc_mat = squareform(y)"
   ]
  },
  {
   "cell_type": "code",
   "execution_count": 56,
   "metadata": {
    "collapsed": false
   },
   "outputs": [
    {
     "name": "stdout",
     "output_type": "stream",
     "text": [
      "[     0.              0.              0.         ...,  90973.11694745\n",
      "  92826.91088546  96993.2808707 ] 1571 34917.86176\n"
     ]
    }
   ],
   "source": [
    "print np.sort(euc_mat[1571]), np.count_nonzero(euc_mat[1571]), euc_mat[1571,7500]"
   ]
  },
  {
   "cell_type": "code",
   "execution_count": 66,
   "metadata": {
    "collapsed": false
   },
   "outputs": [
    {
     "name": "stdout",
     "output_type": "stream",
     "text": [
      "[4493 6000 5999 ...,  480  194  570]\n"
     ]
    }
   ],
   "source": [
    "print np.argsort(euc_mat[7001])"
   ]
  },
  {
   "cell_type": "code",
   "execution_count": 87,
   "metadata": {
    "collapsed": true
   },
   "outputs": [],
   "source": [
    "def getImageCategory(imageID):\n",
    "    category = -1\n",
    "    \n",
    "    if imageID >= cumSizeArr[len(cumSizeArr)-1]:\n",
    "        return category\n",
    "    \n",
    "    for i,val in enumerate(cumSizeArr):\n",
    "        if imageID < val:\n",
    "            category = i+1\n",
    "            break\n",
    "    return category"
   ]
  },
  {
   "cell_type": "code",
   "execution_count": 89,
   "metadata": {
    "collapsed": false
   },
   "outputs": [],
   "source": [
    "nn_arr = []\n",
    "category_arr = []\n",
    "for row_id in range(euc_mat.shape[0]):\n",
    "    temp_arr = euc_mat[row_id]\n",
    "    id_arr = np.argsort(temp_arr)\n",
    "    temp_nn = []\n",
    "    temp_cat = []\n",
    "    for i,img_id in enumerate(id_arr):\n",
    "        if i>=1 and i<=5:\n",
    "            temp_nn.append(img_id)\n",
    "            temp_cat.append(getImageCategory(img_id))\n",
    "        elif i>5:\n",
    "#             print temp_cat\n",
    "            break\n",
    "    nn_arr.append(temp_nn)\n",
    "    category_arr.append(temp_cat)"
   ]
  },
  {
   "cell_type": "code",
   "execution_count": 71,
   "metadata": {
    "collapsed": false
   },
   "outputs": [
    {
     "name": "stdout",
     "output_type": "stream",
     "text": [
      "[1571, 2778, 4586, 5828, 7099, 8987] [6000, 5999, 5998, 5997, 5996] 1571\n"
     ]
    }
   ],
   "source": [
    "print cumSizeArr, nn_arr[1571], len(imageNameArr)"
   ]
  },
  {
   "cell_type": "code",
   "execution_count": 113,
   "metadata": {
    "collapsed": false
   },
   "outputs": [],
   "source": [
    "true_arr = []\n",
    "for i in range(totalSize):\n",
    "    true_arr.append(getImageCategory(i))\n",
    "    \n",
    "pred_arr = []\n",
    "\n",
    "for arr in category_arr:\n",
    "    a = np.array(arr)\n",
    "    count = np.bincount(a)\n",
    "    pred_arr.append(np.argmax(count))\n",
    "\n",
    "cm= confusion_matrix(true_arr, pred_arr, labels=[1, 2, 3, 4, 5, 6])"
   ]
  },
  {
   "cell_type": "code",
   "execution_count": 112,
   "metadata": {
    "collapsed": true
   },
   "outputs": [],
   "source": [
    "def plot_confusion_matrix(cm, title='Confusion matrix', cmap=plt.cm.Blues):\n",
    "    plt.imshow(cm, interpolation='nearest', cmap=cmap)\n",
    "    plt.title(title)\n",
    "    plt.colorbar()\n",
    "    tick_marks = np.arange(len(categoryArr))\n",
    "    plt.xticks(tick_marks, [\"Animal\",\"Fungus\",\"Geo\",\"Person\",\"Plant\",\"Sport\"], rotation=45)\n",
    "    plt.yticks(tick_marks, [\"Animal\",\"Fungus\",\"Geo\",\"Person\",\"Plant\",\"Sport\"])\n",
    "    plt.tight_layout()\n",
    "    plt.ylabel('True label')\n",
    "    plt.xlabel('Predicted label')"
   ]
  },
  {
   "cell_type": "code",
   "execution_count": 114,
   "metadata": {
    "collapsed": false
   },
   "outputs": [
    {
     "data": {
      "image/png": "[encoded data removed]",
      "text/plain": [
       "<matplotlib.figure.Figure at 0x1022929d0>"
      ]
     },
     "metadata": {},
     "output_type": "display_data"
    }
   ],
   "source": [
    "plt.figure()\n",
    "plot_confusion_matrix(cm)"
   ]
  },
  {
   "cell_type": "code",
   "execution_count": 115,
   "metadata": {
    "collapsed": false
   },
   "outputs": [
    {
     "name": "stdout",
     "output_type": "stream",
     "text": [
      "0.316123289196\n"
     ]
    }
   ],
   "source": [
    "accuracy = (np.array(true_arr) == np.array(pred_arr)).sum() / float(len(true_arr))\n",
    "print accuracy"
   ]
  },
  {
   "cell_type": "code",
   "execution_count": null,
   "metadata": {
    "collapsed": false
   },
   "outputs": [],
   "source": [
    "# animalPath = 'Data/Animal'\n",
    "# fungusPath = 'Data/Fungus'\n",
    "# geoPath = 'Data/Geological Formation'\n",
    "# personPath = 'Data/Person'\n",
    "# plantPath = 'Data/Plant, flora, plant life'\n",
    "# sportPath = 'Data/Sport'\n",
    "\n",
    "# color = 0\n",
    "# # n00015388_24.JPEG\n",
    "\n",
    "# img = Image.open(animalPath+'/'+\"n00015388_12.JPEG\")\n",
    "# img = img.resize(size_tup,Image.ANTIALIAS)\n",
    "# np_img = np.asarray(img)\n",
    "# r_img = np_img[:,:,color]\n",
    "# plt.figure()\n",
    "# plt.imshow(r_img)\n",
    "# plt.plot()\n",
    "\n",
    "# img = Image.open(plantPath+'/'+\"n00017222_16178.JPEG\")\n",
    "# img = img.resize(size_tup,Image.ANTIALIAS)\n",
    "# np_img = np.asarray(img)\n",
    "# r_img = np_img[:,:,color]\n",
    "# plt.figure()\n",
    "# plt.imshow(r_img)\n",
    "# plt.plot()\n",
    "\n",
    "# img = Image.open(plantPath+'/'+\"n00017222_18453.JPEG\")\n",
    "# img = img.resize(size_tup,Image.ANTIALIAS)\n",
    "# np_img = np.asarray(img)\n",
    "# r_img = np_img[:,:,color]\n",
    "# plt.figure()\n",
    "# plt.imshow(r_img)\n",
    "# plt.plot()\n",
    "\n",
    "# img = Image.open(animalPath+'/'+\"n00015388_1995.JPEG\")\n",
    "# img = img.resize(size_tup,Image.ANTIALIAS)\n",
    "# np_img = np.asarray(img)\n",
    "# r_img = np_img[:,:,color]\n",
    "# plt.figure()\n",
    "# plt.imshow(r_img)\n",
    "# plt.plot()\n",
    "\n",
    "# img = Image.open(geoPath+'/'+\"n09287968_12782.JPEG\")\n",
    "# img = img.resize(size_tup,Image.ANTIALIAS)\n",
    "# np_img = np.asarray(img)\n",
    "# r_img = np_img[:,:,color]\n",
    "# plt.figure()\n",
    "# plt.imshow(r_img)\n",
    "# plt.plot()\n",
    "\n",
    "# img = Image.open(geoPath+'/'+\"n09287968_2208.JPEG\")\n",
    "# img = img.resize(size_tup,Image.ANTIALIAS)\n",
    "# np_img = np.asarray(img)\n",
    "# r_img = np_img[:,:,color]\n",
    "# plt.figure()\n",
    "# plt.imshow(r_img)\n",
    "# plt.plot()"
   ]
  },
  {
   "cell_type": "code",
   "execution_count": null,
   "metadata": {
    "collapsed": true
   },
   "outputs": [],
   "source": []
  }
 ],
 "metadata": {
  "kernelspec": {
   "display_name": "Python 2",
   "language": "python",
   "name": "python2"
  },
  "language_info": {
   "codemirror_mode": {
    "name": "ipython",
    "version": 2
   },
   "file_extension": ".py",
   "mimetype": "text/x-python",
   "name": "python",
   "nbconvert_exporter": "python",
   "pygments_lexer": "ipython2",
   "version": "2.7.9"
  }
 },
 "nbformat": 4,
 "nbformat_minor": 0
}
