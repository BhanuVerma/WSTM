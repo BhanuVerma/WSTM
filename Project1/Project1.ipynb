{
 "cells": [
  {
   "cell_type": "markdown",
   "metadata": {
    "collapsed": false
   },
   "source": [
    "# Question 2.2, SVD"
   ]
  },
  {
   "cell_type": "code",
   "execution_count": 60,
   "metadata": {
    "collapsed": true
   },
   "outputs": [],
   "source": [
    "import tensorflow as tf\n",
    "from matplotlib.pyplot import imshow\n",
    "import numpy as np\n",
    "from scipy import linalg\n",
    "from sklearn.decomposition import RandomizedPCA\n",
    "import os, os.path\n",
    "from PIL import Image\n",
    "from scipy.sparse import lil_matrix\n",
    "from scipy.stats import truncnorm\n",
    "%matplotlib inline"
   ]
  },
  {
   "cell_type": "code",
   "execution_count": 68,
   "metadata": {
    "collapsed": false
   },
   "outputs": [
    {
     "name": "stdout",
     "output_type": "stream",
     "text": [
      "n00015388_45209.JPEG\n",
      "n00015388_5110.JPEG\n",
      "n09287968_1537.JPEG\n",
      "n09287968_1617.JPEG\n",
      "n09287968_23.JPEG\n",
      "n09287968_279.JPEG\n",
      "n09287968_3492.JPEG\n",
      "n09287968_6184.JPEG\n",
      "n00007846_15499.JPEG\n",
      "n00523513_10326.JPEG\n",
      "n00523513_20172.JPEG\n",
      "n00523513_22733.JPEG\n",
      "n00523513_3039.JPEG\n",
      "n00523513_9073.JPEG\n"
     ]
    }
   ],
   "source": [
    "size_tup = (256,256)\n",
    "count = 0\n",
    "categoryArr = []\n",
    "sizeArr = []\n",
    "grayImageArr = []\n",
    "cumSizeArr = []\n",
    "indArr = []\n",
    "animalPath = 'Data/Animal'\n",
    "fungusPath = 'Data/Fungus'\n",
    "geoPath = 'Data/Geological Formation'\n",
    "personPath = 'Data/Person'\n",
    "plantPath = 'Data/Plant, flora, plant life'\n",
    "sportPath = 'Data/Sport'\n",
    "\n",
    "# animal:0, fungus:1, geo:2, person:3, plant:4, sport:5\n",
    "categoryArr = [animalPath, fungusPath, geoPath, personPath, plantPath, sportPath]\n",
    "totalSize = 0\n",
    "\n",
    "for category in categoryArr:\n",
    "    fold_size = len([name for name in os.listdir(category)])\n",
    "    sizeArr.append(fold_size)\n",
    "    totalSize += fold_size\n",
    "    cumSizeArr.append(totalSize)\n",
    "\n",
    "# size_arr = [animalSize, fungusSize, geoSize, personSize, plantSize, sportSize]\n",
    "\n",
    "mat_r = np.empty([totalSize, size_tup[0]*size_tup[1]])\n",
    "mat_g = np.empty([totalSize, size_tup[0]*size_tup[1]])\n",
    "mat_b = np.empty([totalSize, size_tup[0]*size_tup[1]])\n",
    "\n",
    "ind = 0\n",
    "for a,category in enumerate(categoryArr):\n",
    "    dirList = os.listdir(category)\n",
    "\n",
    "    for i,fname in enumerate(dirList):\n",
    "        img = Image.open(category+'/'+fname)\n",
    "        img = img.resize(size_tup,Image.ANTIALIAS)\n",
    "        np_img = np.asarray(img)\n",
    "        shape_tup = np_img.shape\n",
    "        r_img = np.empty([size_tup[0],size_tup[1]])\n",
    "        g_img = np.empty([size_tup[0],size_tup[1]])\n",
    "        b_img = np.empty([size_tup[0],size_tup[1]])\n",
    "\n",
    "        # check if image is grayscale\n",
    "        if len(shape_tup) < 3:\n",
    "            r_img = np_img\n",
    "            g_img = np_img\n",
    "            b_img = np_img\n",
    "            grayImageArr.append(np_img)\n",
    "            count += 1\n",
    "            print fname\n",
    "        else:\n",
    "            # iterate through img and store r,g,b\n",
    "            for color in range(shape_tup[len(shape_tup)-1]):\n",
    "                if color == 0:\n",
    "                    r_img = np_img[:,:,color]\n",
    "                elif color == 1:\n",
    "                    g_img = np_img[:,:,color]\n",
    "                else:\n",
    "                    b_img = np_img[:,:,color]\n",
    "\n",
    "        r_vect = np.transpose(r_img).flatten()\n",
    "        g_vect = np.transpose(g_img).flatten()\n",
    "        b_vect = np.transpose(b_img).flatten()\n",
    "        mat_r[ind] = r_vect\n",
    "        mat_g[ind] = g_vect\n",
    "        mat_b[ind] = b_vect\n",
    "        indArr.append(ind)\n",
    "        ind += 1\n",
    "        "
   ]
  },
  {
   "cell_type": "code",
   "execution_count": 9,
   "metadata": {
    "collapsed": false
   },
   "outputs": [
    {
     "name": "stdout",
     "output_type": "stream",
     "text": [
      "(8987, 65536) (8987, 65536) (8987, 65536)\n"
     ]
    }
   ],
   "source": [
    "print mat_r.shape, mat_g.shape, mat_b.shape"
   ]
  },
  {
   "cell_type": "code",
   "execution_count": 10,
   "metadata": {
    "collapsed": false
   },
   "outputs": [],
   "source": [
    "# u_r,s_r,v_r = linalg.svd(mat_r)\n",
    "# u_g,s_g,v_g = linalg.svd(mat_g)\n",
    "# u_b,s_b,v_b = linalg.svd(mat_b)\n",
    "pca = RandomizedPCA(n_components=100)\n",
    "new_mat = pca.fit_transform(mat_r)"
   ]
  },
  {
   "cell_type": "code",
   "execution_count": 12,
   "metadata": {
    "collapsed": false
   },
   "outputs": [
    {
     "name": "stdout",
     "output_type": "stream",
     "text": [
      "(8987, 100) 8987\n"
     ]
    }
   ],
   "source": [
    "print new_mat.shape, ind"
   ]
  },
  {
   "cell_type": "markdown",
   "metadata": {},
   "source": [
    "# Question 3"
   ]
  },
  {
   "cell_type": "code",
   "execution_count": 140,
   "metadata": {
    "collapsed": false
   },
   "outputs": [],
   "source": [
    "users = [x for x in range(3000)]\n",
    "u_c_mat = lil_matrix((len(users), totalSize), dtype=np.float64)\n",
    "img_ind = 0\n",
    "for user in users:\n",
    "    catChoiceArr = list(np.random.choice(6,4,replace=False))\n",
    "    catChoiceArr.sort()\n",
    "    choiceInd = 0\n",
    "    for catInd,catPath in enumerate(categoryArr):\n",
    "        if choiceInd >= 4:\n",
    "            break\n",
    "        if catChoiceArr[choiceInd] == catInd:\n",
    "            if catInd == 0:\n",
    "                img_ind = 0\n",
    "            else:\n",
    "                img_ind = cumSizeArr[catInd-1]\n",
    "            m = np.random.geometric(p=0.1,size=1)%sizeArr[catInd] \n",
    "            img_indices = list(np.random.choice(sizeArr[catInd],m,replace=False))\n",
    "            cat_mean = np.random.uniform(1.5,4.5)\n",
    "            for i,movie_ind in enumerate(img_indices):\n",
    "                ind_val = img_ind + movie_ind\n",
    "                rating = truncnorm.rvs(a=(1-cat_mean)/1,b=(5-cat_mean)/1,loc=cat_mean,scale=1)\n",
    "                u_c_mat[user,ind_val] = rating\n",
    "                if rating > 5:\n",
    "                    print rating\n",
    "            itr_count += 1\n",
    "            choiceInd += 1\n",
    "    "
   ]
  },
  {
   "cell_type": "code",
   "execution_count": 144,
   "metadata": {
    "collapsed": false
   },
   "outputs": [],
   "source": [
    "p,q,r = linalg.svd(np.transpose(u_c_mat.todense()))"
   ]
  },
  {
   "cell_type": "code",
   "execution_count": 143,
   "metadata": {
    "collapsed": false
   },
   "outputs": [
    {
     "name": "stdout",
     "output_type": "stream",
     "text": [
      "(3000, 3000) (3000,) (8987, 8987)\n"
     ]
    }
   ],
   "source": [
    "print p.shape, q.shape, r.shape"
   ]
  },
  {
   "cell_type": "code",
   "execution_count": null,
   "metadata": {
    "collapsed": true
   },
   "outputs": [],
   "source": []
  }
 ],
 "metadata": {
  "kernelspec": {
   "display_name": "Python 2",
   "language": "python",
   "name": "python2"
  },
  "language_info": {
   "codemirror_mode": {
    "name": "ipython",
    "version": 2
   },
   "file_extension": ".py",
   "mimetype": "text/x-python",
   "name": "python",
   "nbconvert_exporter": "python",
   "pygments_lexer": "ipython2",
   "version": "2.7.9"
  }
 },
 "nbformat": 4,
 "nbformat_minor": 0
}
