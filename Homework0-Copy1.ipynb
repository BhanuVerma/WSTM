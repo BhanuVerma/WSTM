{
 "cells": [
  {
   "cell_type": "code",
   "execution_count": 1,
   "metadata": {
    "collapsed": true
   },
   "outputs": [],
   "source": [
    "import numpy as np\n",
    "import scipy\n",
    "from scipy import linalg\n",
    "from scipy.sparse.linalg import spsolve\n",
    "import sklearn.preprocessing as sp"
   ]
  },
  {
   "cell_type": "code",
   "execution_count": 2,
   "metadata": {
    "collapsed": false
   },
   "outputs": [
    {
     "name": "stdout",
     "output_type": "stream",
     "text": [
      "[[ 0.52368963  0.75959492  0.          0.          0.        ]\n",
      " [ 0.27908717  0.97006306  0.          0.          0.        ]\n",
      " [ 0.          0.          0.26359317  0.          0.        ]\n",
      " [ 0.          0.          0.          0.5452098   0.86410027]\n",
      " [ 0.          0.          0.          0.04450541  0.1149176 ]]\n"
     ]
    }
   ],
   "source": [
    "# Question 1\n",
    "\n",
    "mat_a = np.random.uniform(0, 1, (2, 2))\n",
    "mat_b = np.random.uniform(0, 1, (1, 1))\n",
    "mat_c = np.random.uniform(0, 1, (2, 2))\n",
    "block_mat = linalg.block_diag(mat_a, mat_b, mat_c)\n",
    "print block_mat"
   ]
  },
  {
   "cell_type": "code",
   "execution_count": 3,
   "metadata": {
    "collapsed": false
   },
   "outputs": [
    {
     "name": "stdout",
     "output_type": "stream",
     "text": [
      "[[-0.67285919  0.          0.         -0.73977058  0.        ]\n",
      " [-0.73977058  0.          0.          0.67285919  0.        ]\n",
      " [ 0.          0.          1.          0.          0.        ]\n",
      " [ 0.         -0.99306022  0.          0.         -0.117607  ]\n",
      " [ 0.         -0.117607    0.          0.          0.99306022]] \n",
      "\n",
      "[ 1.34983509  1.02886184  0.26359317  0.21929995  0.02351829] \n",
      "\n",
      "[[-0.41399861 -0.91027751 -0.         -0.         -0.        ]\n",
      " [-0.         -0.         -0.         -0.53132528 -0.8471679 ]\n",
      " [ 0.          0.          1.          0.          0.        ]\n",
      " [-0.91027751  0.41399861  0.          0.          0.        ]\n",
      " [ 0.          0.          0.         -0.8471679   0.53132528]]\n"
     ]
    }
   ],
   "source": [
    "# Question 2\n",
    "\n",
    "u, s, v = linalg.svd(block_mat)\n",
    "print u, \"\\n\\n\", s, \"\\n\\n\", v"
   ]
  },
  {
   "cell_type": "code",
   "execution_count": 4,
   "metadata": {
    "collapsed": false
   },
   "outputs": [
    {
     "name": "stdout",
     "output_type": "stream",
     "text": [
      "[[ 0.52368963  0.75959492  0.          0.          0.        ]\n",
      " [ 0.          0.          0.26359317  0.          0.        ]\n",
      " [ 0.          0.          0.          0.04450541  0.1149176 ]\n",
      " [ 0.          0.          0.          0.5452098   0.86410027]\n",
      " [ 0.27908717  0.97006306  0.          0.          0.        ]]\n"
     ]
    }
   ],
   "source": [
    "# Question 3\n",
    "\n",
    "new_mat = block_mat.copy()\n",
    "np.random.shuffle(new_mat)\n",
    "print new_mat"
   ]
  },
  {
   "cell_type": "code",
   "execution_count": 5,
   "metadata": {
    "collapsed": false
   },
   "outputs": [
    {
     "name": "stdout",
     "output_type": "stream",
     "text": [
      "[[-0.67285919  0.          0.          0.73977058  0.        ]\n",
      " [ 0.          0.         -1.          0.          0.        ]\n",
      " [ 0.         -0.117607    0.          0.          0.99306022]\n",
      " [ 0.         -0.99306022  0.          0.         -0.117607  ]\n",
      " [-0.73977058  0.          0.         -0.67285919  0.        ]] \n",
      "\n",
      "[ 1.34983509  1.02886184  0.26359317  0.21929995  0.02351829] \n",
      "\n",
      "[[-0.41399861 -0.91027751 -0.         -0.         -0.        ]\n",
      " [-0.         -0.         -0.         -0.53132528 -0.8471679 ]\n",
      " [-0.         -0.         -1.         -0.         -0.        ]\n",
      " [ 0.91027751 -0.41399861 -0.         -0.         -0.        ]\n",
      " [ 0.          0.          0.         -0.8471679   0.53132528]]\n"
     ]
    }
   ],
   "source": [
    "# Question 4\n",
    "\n",
    "u_prime, s_prime, v_prime = linalg.svd(new_mat)\n",
    "print u_prime, \"\\n\\n\", s_prime, \"\\n\\n\", v_prime"
   ]
  },
  {
   "cell_type": "code",
   "execution_count": 6,
   "metadata": {
    "collapsed": false
   },
   "outputs": [
    {
     "name": "stdout",
     "output_type": "stream",
     "text": [
      "[ 1.34983509  1.02886184  0.26359317  0.21929995  0.02351829] \n",
      "\n",
      "[ 1.34983509  1.02886184  0.26359317  0.21929995  0.02351829]\n"
     ]
    }
   ],
   "source": [
    "# Question 5\n",
    "print s, \"\\n\\n\", s_prime\n",
    "# permutations of the rows of the matrix does not change the singular values"
   ]
  },
  {
   "cell_type": "code",
   "execution_count": 7,
   "metadata": {
    "collapsed": false
   },
   "outputs": [
    {
     "name": "stdout",
     "output_type": "stream",
     "text": [
      "[[ 0.65234774  0.43915903  0.          0.          0.        ]\n",
      " [ 0.          0.          1.          0.          0.        ]\n",
      " [ 0.          0.          0.          0.07546932  0.11738049]\n",
      " [ 0.          0.          0.          0.92453068  0.88261951]\n",
      " [ 0.34765226  0.56084097  0.          0.          0.        ]]\n"
     ]
    }
   ],
   "source": [
    "# Question 6\n",
    "\n",
    "norm_vector = np.linalg.norm(new_mat, ord=1, axis=0)\n",
    "unit_norm = new_mat/norm_vector\n",
    "print unit_norm"
   ]
  },
  {
   "cell_type": "code",
   "execution_count": 8,
   "metadata": {
    "collapsed": false
   },
   "outputs": [
    {
     "name": "stdout",
     "output_type": "stream",
     "text": [
      "[[ 0.         -0.77133144  0.          0.63643367  0.        ]\n",
      " [ 0.          0.         -1.          0.          0.        ]\n",
      " [-0.10559536  0.          0.          0.          0.99440918]\n",
      " [-0.99440918  0.          0.          0.         -0.10559536]\n",
      " [ 0.         -0.63643367  0.         -0.77133144  0.        ]] \n",
      "\n",
      "[ 1.28537341  1.00437471  1.          0.21226014  0.03260622] \n",
      "\n",
      "[[-0.         -0.         -0.         -0.72144872 -0.69246786]\n",
      " [-0.72127854 -0.69264512 -0.         -0.         -0.        ]\n",
      " [-0.         -0.         -1.         -0.         -0.        ]\n",
      " [ 0.69264512 -0.72127854 -0.         -0.         -0.        ]\n",
      " [ 0.          0.          0.         -0.69246786  0.72144872]]\n"
     ]
    }
   ],
   "source": [
    "# Question 7\n",
    "\n",
    "u_dash, s_dash, v_dash = linalg.svd(unit_norm)\n",
    "print u_dash, \"\\n\\n\", s_dash, \"\\n\\n\", v_dash"
   ]
  },
  {
   "cell_type": "code",
   "execution_count": 9,
   "metadata": {
    "collapsed": false
   },
   "outputs": [
    {
     "name": "stdout",
     "output_type": "stream",
     "text": [
      "[[ 1.  1.  1.  1.  1.]]\n"
     ]
    }
   ],
   "source": [
    "# Question 8\n",
    "\n",
    "vector = np.ones((1, unit_norm.shape[0]))\n",
    "eigen = vector.dot(unit_norm)\n",
    "print eigen\n",
    "# Yes, this is an eigenvector"
   ]
  },
  {
   "cell_type": "code",
   "execution_count": 10,
   "metadata": {
    "collapsed": false
   },
   "outputs": [
    {
     "name": "stdout",
     "output_type": "stream",
     "text": [
      "[[ 1.  1.  0.  0.  0.]\n",
      " [ 0.  0.  1.  0.  0.]\n",
      " [ 0.  0.  0.  1.  1.]\n",
      " [ 0.  0.  0.  1.  1.]\n",
      " [ 1.  1.  0.  0.  0.]]\n"
     ]
    }
   ],
   "source": [
    "# Question 10\n",
    "\n",
    "indices_arr = np.transpose(np.nonzero(new_mat))\n",
    "mat_prime = new_mat.copy()\n",
    "for index in indices_arr:\n",
    "    mat_prime[index[0]][index[1]] = 1\n",
    "print mat_prime"
   ]
  },
  {
   "cell_type": "code",
   "execution_count": 11,
   "metadata": {
    "collapsed": false
   },
   "outputs": [
    {
     "name": "stdout",
     "output_type": "stream",
     "text": [
      "[0 1 2 3 4]\n"
     ]
    }
   ],
   "source": [
    "# Question 11\n",
    "\n",
    "vect = np.array(range(mat_prime.shape[1]))\n",
    "print vect"
   ]
  },
  {
   "cell_type": "code",
   "execution_count": 12,
   "metadata": {
    "collapsed": false
   },
   "outputs": [
    {
     "name": "stdout",
     "output_type": "stream",
     "text": [
      "4.0\n"
     ]
    }
   ],
   "source": [
    "# Question 12\n",
    "\n",
    "result = np.multiply(vect, mat_prime)\n",
    "i = 3  # ith row\n",
    "print max(result[i])"
   ]
  },
  {
   "cell_type": "code",
   "execution_count": 13,
   "metadata": {
    "collapsed": false
   },
   "outputs": [
    {
     "name": "stdout",
     "output_type": "stream",
     "text": [
      "[4 4 4 4 4]\n"
     ]
    }
   ],
   "source": [
    "# Question 13\n",
    "\n",
    "for i in range(1000):\n",
    "    result = np.multiply(vect, mat_prime)\n",
    "    for j in range(vect.shape[0]):\n",
    "        vect[j] = max(result[j])\n",
    "\n",
    "print vect\n",
    "# Value of each element of vect converges to n-1 where n x n is the size of the matrix"
   ]
  },
  {
   "cell_type": "code",
   "execution_count": 14,
   "metadata": {
    "collapsed": false
   },
   "outputs": [
    {
     "name": "stdout",
     "output_type": "stream",
     "text": [
      "100000\n"
     ]
    }
   ],
   "source": [
    "# Question 14\n",
    "\n",
    "sparse_mat = scipy.sparse.rand(15000, 15000, density=0.000444445)\n",
    "arr_tuple = np.nonzero(sparse_mat)\n",
    "print len(arr_tuple[0])"
   ]
  },
  {
   "cell_type": "code",
   "execution_count": null,
   "metadata": {
    "collapsed": false
   },
   "outputs": [],
   "source": [
    "# Question 15\n",
    "\n",
    "# start_time = time.time()\n",
    "ind_tuple = np.transpose(np.nonzero(sparse_mat))\n",
    "sum_list = ((sparse_mat.sum(axis=0)).tolist())\n",
    "sum_list = sum_list[0]\n",
    "sum_val = sum(sum_list)\n",
    "mean = sum_val/len(ind_tuple)\n",
    "csr_mat = scipy.sparse.csr_matrix(sparse_mat)\n",
    "indices_list = np.transpose(np.nonzero(csr_mat))\n",
    "for indices in indices_list:\n",
    "    csr_mat[indices[0], indices[1]] -= mean\n",
    "# print(\"--- %s seconds ---\" % (time.time() - start_time))\n",
    "\n",
    "# start_time = time.time()\n",
    "scaler = sp.StandardScaler(copy=True, with_mean=False, with_std=True).fit(csr_mat)\n",
    "norm_mat = scaler.transform(csr_mat)\n",
    "# print(\"--- %s seconds ---\" % (time.time() - start_time))\n",
    "\n",
    "print norm_mat, \"\\n\\n\"\n",
    "\n",
    "rand_vect = np.random.randn(norm_mat.shape[1], 1)\n",
    "dot_prod = norm_mat.dot(rand_vect)\n",
    "\n",
    "print dot_prod\n",
    "\n",
    "# this takes atleast twice as much time as the above code\n",
    "# start_time = time.time()\n",
    "# fast_tuple = scipy.sparse.find(sparse_mat)\n",
    "# elements = fast_tuple[2]\n",
    "# sum_val_1 = sum(elements)\n",
    "# mean_1 = sum_val_1/len(elements)\n",
    "# print(\"--- %s seconds ---\" % (time.time() - start_time))"
   ]
  },
  {
   "cell_type": "code",
   "execution_count": null,
   "metadata": {
    "collapsed": true
   },
   "outputs": [],
   "source": []
  }
 ],
 "metadata": {
  "kernelspec": {
   "display_name": "Python 2",
   "language": "python",
   "name": "python2"
  },
  "language_info": {
   "codemirror_mode": {
    "name": "ipython",
    "version": 2
   },
   "file_extension": ".py",
   "mimetype": "text/x-python",
   "name": "python",
   "nbconvert_exporter": "python",
   "pygments_lexer": "ipython2",
   "version": "2.7.10"
  }
 },
 "nbformat": 4,
 "nbformat_minor": 0
}
