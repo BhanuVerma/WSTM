{
 "cells": [
  {
   "cell_type": "markdown",
   "metadata": {},
   "source": [
    "# CSE 6240 - Web Search & Text Mining - Homework 3"
   ]
  },
  {
   "cell_type": "code",
   "execution_count": 1,
   "metadata": {
    "collapsed": true
   },
   "outputs": [],
   "source": [
    "# __author__ = 'Bhanu Verma'\n",
    "# GTid = '903151012'"
   ]
  },
  {
   "cell_type": "code",
   "execution_count": 2,
   "metadata": {
    "collapsed": true
   },
   "outputs": [],
   "source": [
    "import matplotlib.pyplot as plt\n",
    "import numpy as np\n",
    "from scipy import linalg\n",
    "import os, os.path\n",
    "from scipy.sparse import lil_matrix,linalg\n",
    "from scipy.sparse import csr_matrix\n",
    "from scipy.sparse import identity\n",
    "from scipy.sparse.linalg import norm,svds\n",
    "from scipy.sparse.linalg import eigs,eigsh\n",
    "from sklearn.cross_validation import train_test_split\n",
    "from scipy.stats import pearsonr\n",
    "import time\n",
    "import pprint\n",
    "%matplotlib inline"
   ]
  },
  {
   "cell_type": "code",
   "execution_count": 3,
   "metadata": {
    "collapsed": false
   },
   "outputs": [],
   "source": [
    "def get_matrix_dimensions():\n",
    "    doc_size = 0\n",
    "    vocab_size = 0\n",
    "    with open(filepath, \"r\") as f:\n",
    "        count = 0\n",
    "        for line in f:\n",
    "            line = line.rstrip('\\n')\n",
    "            if count==0:\n",
    "                doc_size = int(line)\n",
    "            elif count==1:\n",
    "                vocab_size = int(line)\n",
    "            else:\n",
    "                break\n",
    "                \n",
    "            count+=1\n",
    "    \n",
    "    f.close()\n",
    "    \n",
    "    return (doc_size,vocab_size)"
   ]
  },
  {
   "cell_type": "code",
   "execution_count": 4,
   "metadata": {
    "collapsed": true
   },
   "outputs": [],
   "source": [
    "def populate_matrix():\n",
    "    with open(filepath, \"r\") as f:\n",
    "        count = 0\n",
    "        for line in f:\n",
    "            line = line.rstrip('\\n')\n",
    "            if count > 2:\n",
    "                arr = line.split()\n",
    "                i = int(arr[0])-1\n",
    "                j = int(arr[1])-1\n",
    "                val = int(arr[2])\n",
    "                mat[i,j] = val\n",
    "            count+=1\n",
    "    f.close()"
   ]
  },
  {
   "cell_type": "code",
   "execution_count": 5,
   "metadata": {
    "collapsed": true
   },
   "outputs": [],
   "source": [
    "def get_triplet_list():\n",
    "    triplet_list = []\n",
    "    ordered_list = []\n",
    "    for i in range(n_doc):\n",
    "        # randomly generate 6 numbers, 1 extra to take care of the case where random number id is equal to i\n",
    "        rand_arr = np.random.choice(n_doc,6,replace=False)\n",
    "        doc_list = [] # list of indices of documents\n",
    "        corr_val = [] # list of calculated correlation coefficients\n",
    "        tuple_list = []\n",
    "        \n",
    "        # fill up correlation values\n",
    "        for j in range(len(rand_arr)):\n",
    "            if i!=j:\n",
    "                a = get_dense_row(i)\n",
    "                b = get_dense_row(rand_arr[j])\n",
    "                pear_val = pearsonr(a,b) # it returns a tuple where first element is the coefficient value\n",
    "                corr_val.append(pear_val[0])\n",
    "                doc_list.append(rand_arr[j])\n",
    "                if len(corr_val) == 5:\n",
    "                    break\n",
    "\n",
    "        # build up triplets\n",
    "        for a in range(len(corr_val)):\n",
    "            for b in range(a+1,len(corr_val)):\n",
    "                if b < len(corr_val):\n",
    "                    if corr_val[a] >= corr_val[b]:\n",
    "                        triplet_list.append((i,doc_list[a],doc_list[b]))\n",
    "                        tuple_list.append((i,doc_list[a],doc_list[b]))\n",
    "                    else:\n",
    "                        triplet_list.append((i,doc_list[b],doc_list[a]))\n",
    "                        tuple_list.append((i,doc_list[b],doc_list[a]))\n",
    "        \n",
    "    return triplet_list"
   ]
  },
  {
   "cell_type": "code",
   "execution_count": 6,
   "metadata": {
    "collapsed": true
   },
   "outputs": [],
   "source": [
    "def get_dense_row(index):\n",
    "    return dense_mat[index].tolist()[0] # fix for the issue, tolist() here returns matrix of rowsize 1"
   ]
  },
  {
   "cell_type": "code",
   "execution_count": 7,
   "metadata": {
    "collapsed": true
   },
   "outputs": [],
   "source": [
    "def get_sparse_row(index):\n",
    "    return mat[index]"
   ]
  },
  {
   "cell_type": "code",
   "execution_count": 8,
   "metadata": {
    "collapsed": true
   },
   "outputs": [],
   "source": [
    "def dense(sparse):\n",
    "    sparse = sparse.todense()\n",
    "    return sparse[0].tolist()[0]"
   ]
  },
  {
   "cell_type": "markdown",
   "metadata": {},
   "source": [
    "# Question 2.a - Generating Correlated Triplets"
   ]
  },
  {
   "cell_type": "code",
   "execution_count": 9,
   "metadata": {
    "collapsed": false
   },
   "outputs": [],
   "source": [
    "# get matrix dimensions\n",
    "filepath = 'Data/docword.kos.txt'\n",
    "size_tup = get_matrix_dimensions()"
   ]
  },
  {
   "cell_type": "code",
   "execution_count": 10,
   "metadata": {
    "collapsed": false
   },
   "outputs": [],
   "source": [
    "n_doc = size_tup[0]\n",
    "n_vocab = size_tup[1]"
   ]
  },
  {
   "cell_type": "code",
   "execution_count": 11,
   "metadata": {
    "collapsed": false
   },
   "outputs": [],
   "source": [
    "# populate lil_matrix dimensions\n",
    "mat = lil_matrix((size_tup[0],size_tup[1]),dtype=np.int32)\n",
    "populate_matrix()\n",
    "\n",
    "# convert lil_matrix to csr matrix for faster computation\n",
    "mat = mat.tocsr()\n",
    "dense_mat = mat.todense()"
   ]
  },
  {
   "cell_type": "code",
   "execution_count": 12,
   "metadata": {
    "collapsed": false
   },
   "outputs": [],
   "source": [
    "triplets = get_triplet_list()"
   ]
  },
  {
   "cell_type": "code",
   "execution_count": 13,
   "metadata": {
    "collapsed": false
   },
   "outputs": [],
   "source": [
    "# split triplet array into training and testing data\n",
    "train,test = train_test_split(triplets, train_size = 0.8, random_state=42)"
   ]
  },
  {
   "cell_type": "markdown",
   "metadata": {},
   "source": [
    "# OASIS Implementation"
   ]
  },
  {
   "cell_type": "code",
   "execution_count": 14,
   "metadata": {
    "collapsed": false
   },
   "outputs": [],
   "source": [
    "w = identity(n_vocab,format='csr')\n",
    "c = 0.1"
   ]
  },
  {
   "cell_type": "code",
   "execution_count": 15,
   "metadata": {
    "collapsed": true
   },
   "outputs": [],
   "source": [
    "def get_similarity_score(a,w_mat,b):\n",
    "    result = a*w_mat*b\n",
    "    return result[0,0]"
   ]
  },
  {
   "cell_type": "code",
   "execution_count": 16,
   "metadata": {
    "collapsed": true
   },
   "outputs": [],
   "source": [
    "def get_loss(a_i,a_plus,a_neg,w_mat):\n",
    "    res_a = get_similarity_score(a_i,w_mat,a_plus.transpose())\n",
    "    res_b = get_similarity_score(a_i,w_mat,a_neg.transpose())\n",
    "    val = 1-res_a+res_b\n",
    "    return max(0,val)"
   ]
  },
  {
   "cell_type": "code",
   "execution_count": 17,
   "metadata": {
    "collapsed": true
   },
   "outputs": [],
   "source": [
    "def make_pd(w_mat):\n",
    "    # Make matrix positive semi-definite\n",
    "    w, v = eigsh(0.5 * (w_mat + w_mat.transpose()),10)  # eigvec in columns\n",
    "    D = np.diagflat(np.maximum(w, 0.25))\n",
    "    return csr_matrix(np.dot(np.dot(v, D), v.T))"
   ]
  },
  {
   "cell_type": "code",
   "execution_count": 18,
   "metadata": {
    "collapsed": false,
    "scrolled": false
   },
   "outputs": [],
   "source": [
    "def run_oasis(p_mat, train_data, test_data, w_mat, symmetric, pos_def=False):\n",
    "    training_loss_list = []\n",
    "    testing_loss_list = []\n",
    "    \n",
    "    if pos_def:\n",
    "        train_size = 1\n",
    "        iter_size = 50\n",
    "    else:\n",
    "        train_size = len(train_data)\n",
    "        iter_size = 2740\n",
    "        \n",
    "    for i in range(train_size):\n",
    "        p_i = p_mat[train_data[i][0]]\n",
    "        p_plus = p_mat[train_data[i][1]]\n",
    "        p_neg = p_mat[train_data[i][2]]\n",
    "\n",
    "        loss = get_loss(p_i,p_plus,p_neg,w_mat)\n",
    "        if (i%iter_size == 0):\n",
    "            print \"number of iterations - \", i\n",
    "\n",
    "        if loss != 0:\n",
    "            diff = (p_plus - p_neg).transpose()\n",
    "            ones = np.ones((n_vocab,n_vocab))\n",
    "            diff_csr = csr_matrix(diff.multiply(ones))\n",
    "            elements = csr_matrix(p_i.multiply(ones))\n",
    "            v_i = elements.multiply(diff_csr).transpose()\n",
    "            norm_val = norm(v_i, 'fro')**2 \n",
    "            tau = min(c,loss/norm_val)\n",
    "            w_mat = w_mat + tau*v_i\n",
    "            if symmetric:\n",
    "                w_mat = (w_mat + w_mat.transpose())/2\n",
    "            if pos_def:\n",
    "                w_mat = make_pd(w_mat)\n",
    "\n",
    "        train_loss = 0\n",
    "        test_loss = 0\n",
    "\n",
    "        if (i%iter_size == 0):\n",
    "            if (not pos_def):\n",
    "                # calculate Training Loss\n",
    "                for z in range(len(train_data)):\n",
    "                    a_i = p_mat[train_data[z][0]]\n",
    "                    a_plus = p_mat[train_data[z][1]]\n",
    "                    a_neg = p_mat[train_data[z][2]]\n",
    "                    train_loss += get_loss(a_i,a_plus,a_neg,w_mat)\n",
    "                train_loss = train_loss/len(train_data)\n",
    "                training_loss_list.append(train_loss)\n",
    "\n",
    "                # calculate Testing Loss\n",
    "                for k in range(len(test_data)):\n",
    "                    t_i = p_mat[test_data[k][0]]\n",
    "                    t_plus = p_mat[test_data[k][1]]\n",
    "                    t_neg = p_mat[test_data[k][2]]\n",
    "                    test_loss += get_loss(t_i,t_plus,t_neg,w_mat)\n",
    "                test_loss = test_loss/len(test_data)\n",
    "                testing_loss_list.append(test_loss)\n",
    "\n",
    "                print \"Training Error\", train_loss\n",
    "                print \"Testing Error\", test_loss\n",
    "                print \"-----------------------------\"\n",
    "            \n",
    "    return w_mat, training_loss_list, testing_loss_list"
   ]
  },
  {
   "cell_type": "markdown",
   "metadata": {},
   "source": [
    "# Question 1 - OASIS for non-symmetric W"
   ]
  },
  {
   "cell_type": "code",
   "execution_count": 19,
   "metadata": {
    "collapsed": false
   },
   "outputs": [
    {
     "name": "stdout",
     "output_type": "stream",
     "text": [
      "number of iterations -  0\n",
      "Training Error 1.52281341108\n",
      "Testing Error 1.56341107872\n",
      "-----------------------------\n",
      "number of iterations -  2740\n",
      "Training Error 0.611494295222\n",
      "Testing Error 0.719358454796\n",
      "-----------------------------\n",
      "number of iterations -  5480\n",
      "Training Error 0.471853629944\n",
      "Testing Error 0.609063173948\n",
      "-----------------------------\n",
      "number of iterations -  8220\n",
      "Training Error 0.407642545965\n",
      "Testing Error 0.580176775624\n",
      "-----------------------------\n",
      "number of iterations -  10960\n",
      "Training Error 0.345699464572\n",
      "Testing Error 0.551879769786\n",
      "-----------------------------\n",
      "number of iterations -  13700\n",
      "Training Error 0.281326645836\n",
      "Testing Error 0.510808596238\n",
      "-----------------------------\n",
      "number of iterations -  16440\n",
      "Training Error 0.248157356469\n",
      "Testing Error 0.502135451374\n",
      "-----------------------------\n",
      "number of iterations -  19180\n",
      "Training Error 0.214484722345\n",
      "Testing Error 0.49162703545\n",
      "-----------------------------\n",
      "number of iterations -  21920\n",
      "Training Error 0.184992712953\n",
      "Testing Error 0.497172223041\n",
      "-----------------------------\n",
      "number of iterations -  24660\n",
      "Training Error 0.133990146316\n",
      "Testing Error 0.467782212595\n",
      "-----------------------------\n",
      "number of iterations -  27400\n",
      "Training Error 0.0888963500508\n",
      "Testing Error 0.435735438696\n",
      "-----------------------------\n"
     ]
    }
   ],
   "source": [
    "w,train_loss_arr,test_loss_arr = run_oasis(mat,train,test,w,False,False)"
   ]
  },
  {
   "cell_type": "markdown",
   "metadata": {},
   "source": [
    "# Question 2.b - Training Error Plot"
   ]
  },
  {
   "cell_type": "code",
   "execution_count": 20,
   "metadata": {
    "collapsed": false
   },
   "outputs": [
    {
     "data": {
      "image/png": "[encoded data removed]",
      "text/plain": [
       "<matplotlib.figure.Figure at 0x10eaadf90>"
      ]
     },
     "metadata": {},
     "output_type": "display_data"
    }
   ],
   "source": [
    "plt.figure(1, figsize=(10, 7))\n",
    "plt.subplot(1,1,1)\n",
    "plt.xlabel('Iterations')\n",
    "plt.ylabel('Training Error')\n",
    "plt.title('Training Error Plot')\n",
    "plt.plot(train_loss_arr, color='green',alpha=0.6)\n",
    "plt.grid(True)"
   ]
  },
  {
   "cell_type": "markdown",
   "metadata": {},
   "source": [
    "# Question 2.c - Testing Error Plot"
   ]
  },
  {
   "cell_type": "code",
   "execution_count": 21,
   "metadata": {
    "collapsed": false
   },
   "outputs": [
    {
     "data": {
      "image/png": "[encoded data removed]",
      "text/plain": [
       "<matplotlib.figure.Figure at 0x1040a7cd0>"
      ]
     },
     "metadata": {},
     "output_type": "display_data"
    }
   ],
   "source": [
    "plt.figure(1, figsize=(10, 7))\n",
    "plt.subplot(1,1,1)\n",
    "plt.xlabel('Iterations')\n",
    "plt.ylabel('Testing Error')\n",
    "plt.title('Testing Error Plot')\n",
    "plt.plot(test_loss_arr, color='orange',alpha=0.6)\n",
    "plt.grid(True)"
   ]
  },
  {
   "cell_type": "markdown",
   "metadata": {},
   "source": [
    "# Question 3 - OASIS for symmetric W"
   ]
  },
  {
   "cell_type": "code",
   "execution_count": 22,
   "metadata": {
    "collapsed": false
   },
   "outputs": [
    {
     "name": "stdout",
     "output_type": "stream",
     "text": [
      "number of iterations -  0\n",
      "Training Error 0.0887820004838\n",
      "Testing Error 0.435520348031\n",
      "-----------------------------\n",
      "number of iterations -  2740\n",
      "Training Error 0.311465942692\n",
      "Testing Error 0.538608918508\n",
      "-----------------------------\n",
      "number of iterations -  5480\n",
      "Training Error 0.287446893517\n",
      "Testing Error 0.524578650709\n",
      "-----------------------------\n",
      "number of iterations -  8220\n",
      "Training Error 0.273401963155\n",
      "Testing Error 0.525811317452\n",
      "-----------------------------\n",
      "number of iterations -  10960\n",
      "Training Error 0.259230027143\n",
      "Testing Error 0.521019762049\n",
      "-----------------------------\n",
      "number of iterations -  13700\n",
      "Training Error 0.236728249296\n",
      "Testing Error 0.505915058337\n",
      "-----------------------------\n",
      "number of iterations -  16440\n",
      "Training Error 0.225297924321\n",
      "Testing Error 0.504590060689\n",
      "-----------------------------\n",
      "number of iterations -  19180\n",
      "Training Error 0.224638451782\n",
      "Testing Error 0.515553911316\n",
      "-----------------------------\n",
      "number of iterations -  21920\n",
      "Training Error 0.212715147314\n",
      "Testing Error 0.518844593126\n",
      "-----------------------------\n",
      "number of iterations -  24660\n",
      "Training Error 0.191062553242\n",
      "Testing Error 0.505511396455\n",
      "-----------------------------\n",
      "number of iterations -  27400\n",
      "Training Error 0.156326593476\n",
      "Testing Error 0.474262172601\n",
      "-----------------------------\n"
     ]
    }
   ],
   "source": [
    "w_sym,train_loss_arr_sym,test_loss_arr_sym = run_oasis(mat,train,test,w,True,False)"
   ]
  },
  {
   "cell_type": "markdown",
   "metadata": {},
   "source": [
    "# Question 3.a - Testing & Training Error for symmetric W"
   ]
  },
  {
   "cell_type": "code",
   "execution_count": 23,
   "metadata": {
    "collapsed": false
   },
   "outputs": [
    {
     "data": {
      "image/png": "[encoded data removed]",
      "text/plain": [
       "<matplotlib.figure.Figure at 0x10f739590>"
      ]
     },
     "metadata": {},
     "output_type": "display_data"
    }
   ],
   "source": [
    "plt.figure(2, figsize=(20, 7))\n",
    "plt.subplot(1,2,1)\n",
    "plt.xlabel('Iterations')\n",
    "plt.ylabel('Training Error for Symmetric W')\n",
    "plt.title('Testing Error Plot')\n",
    "plt.plot(train_loss_arr_sym, color='green',alpha=0.6)\n",
    "plt.grid(True)\n",
    "\n",
    "plt.subplot(1,2,2)\n",
    "plt.xlabel('Iterations')\n",
    "plt.ylabel('Testing Error for Symmetric W')\n",
    "plt.title('Testing Error Plot')\n",
    "plt.plot(test_loss_arr_sym, color='orange',alpha=0.6)\n",
    "plt.grid(True)\n",
    "plt.show()"
   ]
  },
  {
   "cell_type": "markdown",
   "metadata": {},
   "source": [
    "# Question 3.b - Eigenvalues of the W matrix"
   ]
  },
  {
   "cell_type": "code",
   "execution_count": 24,
   "metadata": {
    "collapsed": false
   },
   "outputs": [
    {
     "name": "stdout",
     "output_type": "stream",
     "text": [
      "--- 952.258299112 seconds ---\n"
     ]
    }
   ],
   "source": [
    "start_time = time.time()\n",
    "vals,vecs = eigsh(w_sym,k=n_vocab-1)\n",
    "print(\"--- %s seconds ---\" % (time.time() - start_time))"
   ]
  },
  {
   "cell_type": "code",
   "execution_count": 25,
   "metadata": {
    "collapsed": false
   },
   "outputs": [
    {
     "data": {
      "image/png": "[encoded data removed]",
      "text/plain": [
       "<matplotlib.figure.Figure at 0x10408c410>"
      ]
     },
     "metadata": {},
     "output_type": "display_data"
    }
   ],
   "source": [
    "plt.figure(3, figsize=(10, 7))\n",
    "plt.subplot(1,1,1)\n",
    "plt.xlabel('Number of Values')\n",
    "plt.ylabel('EigenValues')\n",
    "plt.title('EigenValues plot')\n",
    "plt.plot(vals, color='blue',alpha=0.6)\n",
    "plt.grid(True)"
   ]
  },
  {
   "cell_type": "code",
   "execution_count": 26,
   "metadata": {
    "collapsed": false
   },
   "outputs": [
    {
     "name": "stdout",
     "output_type": "stream",
     "text": [
      "[1.5228134110787173, 0.61149429522182319, 0.47185362994412583, 0.40764254596479188, 0.34569946457171041, 0.28132664583625927, 0.24815735646902196, 0.21448472234491087, 0.18499271295315528, 0.13399014631601247, 0.088896350050766668]\n"
     ]
    }
   ],
   "source": [
    "print train_loss_arr"
   ]
  },
  {
   "cell_type": "code",
   "execution_count": 27,
   "metadata": {
    "collapsed": false
   },
   "outputs": [
    {
     "name": "stdout",
     "output_type": "stream",
     "text": [
      "[1.5634110787172011, 0.7193584547964168, 0.60906317394811693, 0.58017677562360026, 0.55187976978606512, 0.5108085962377269, 0.50213545137389226, 0.4916270354499081, 0.49717222304111425, 0.46778221259498348, 0.43573543869607323]\n"
     ]
    }
   ],
   "source": [
    "print test_loss_arr"
   ]
  },
  {
   "cell_type": "code",
   "execution_count": 28,
   "metadata": {
    "collapsed": false
   },
   "outputs": [
    {
     "name": "stdout",
     "output_type": "stream",
     "text": [
      "[0.088782000483808396, 0.31146594269202466, 0.28744689351729158, 0.2734019631550354, 0.25923002714321403, 0.23672824929607461, 0.22529792432088433, 0.2246384517817181, 0.21271514731379879, 0.191062553241759, 0.15632659347649769]\n"
     ]
    }
   ],
   "source": [
    "print train_loss_arr_sym"
   ]
  },
  {
   "cell_type": "markdown",
   "metadata": {},
   "source": [
    "# Question 4 - OASIS for positive definite W"
   ]
  },
  {
   "cell_type": "code",
   "execution_count": null,
   "metadata": {
    "collapsed": true
   },
   "outputs": [],
   "source": [
    "# w_psd,train_empty,test_empty = run_oasis(mat,train,test,w,True,True)"
   ]
  },
  {
   "cell_type": "code",
   "execution_count": null,
   "metadata": {
    "collapsed": false
   },
   "outputs": [],
   "source": [
    "start_time = time.time()\n",
    "u,s,vt = svds(w_sym,k=5)\n",
    "print(\"--- %s seconds ---\" % (time.time() - start_time))"
   ]
  },
  {
   "cell_type": "code",
   "execution_count": null,
   "metadata": {
    "collapsed": true
   },
   "outputs": [],
   "source": [
    "a = np.dot(np.dot(u,np.diagflat(s)),vt)"
   ]
  }
 ],
 "metadata": {
  "kernelspec": {
   "display_name": "Python 2",
   "language": "python",
   "name": "python2"
  },
  "language_info": {
   "codemirror_mode": {
    "name": "ipython",
    "version": 2
   },
   "file_extension": ".py",
   "mimetype": "text/x-python",
   "name": "python",
   "nbconvert_exporter": "python",
   "pygments_lexer": "ipython2",
   "version": "2.7.9"
  }
 },
 "nbformat": 4,
 "nbformat_minor": 0
}
