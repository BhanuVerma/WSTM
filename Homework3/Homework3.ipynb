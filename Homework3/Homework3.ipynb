{
 "cells": [
  {
   "cell_type": "markdown",
   "metadata": {},
   "source": [
    "# CSE 6240 - Web Search & Text Mining - Homework 3"
   ]
  },
  {
   "cell_type": "code",
   "execution_count": 1,
   "metadata": {
    "collapsed": true
   },
   "outputs": [],
   "source": [
    "# __author__ = 'Bhanu Verma'\n",
    "# GTid = '903151012'"
   ]
  },
  {
   "cell_type": "code",
   "execution_count": 72,
   "metadata": {
    "collapsed": true
   },
   "outputs": [],
   "source": [
    "import matplotlib.pyplot as plt\n",
    "import numpy as np\n",
    "from scipy import linalg\n",
    "import os, os.path\n",
    "from scipy.sparse import lil_matrix,linalg\n",
    "from scipy.sparse import csr_matrix\n",
    "from scipy.sparse import identity\n",
    "from scipy.sparse.linalg import norm\n",
    "from sklearn.cross_validation import train_test_split\n",
    "from scipy.stats import pearsonr\n",
    "%matplotlib inline"
   ]
  },
  {
   "cell_type": "code",
   "execution_count": 3,
   "metadata": {
    "collapsed": false
   },
   "outputs": [],
   "source": [
    "def get_matrix_dimensions():\n",
    "    doc_size = 0\n",
    "    vocab_size = 0\n",
    "    with open(filepath, \"r\") as f:\n",
    "        count = 0\n",
    "        for line in f:\n",
    "            line = line.rstrip('\\n')\n",
    "            if count==0:\n",
    "                doc_size = int(line)\n",
    "            elif count==1:\n",
    "                vocab_size = int(line)\n",
    "            else:\n",
    "                break\n",
    "                \n",
    "            count+=1\n",
    "    \n",
    "    f.close()\n",
    "    \n",
    "    return (doc_size,vocab_size)"
   ]
  },
  {
   "cell_type": "code",
   "execution_count": 4,
   "metadata": {
    "collapsed": true
   },
   "outputs": [],
   "source": [
    "def populate_matrix():\n",
    "    with open(filepath, \"r\") as f:\n",
    "        count = 0\n",
    "        for line in f:\n",
    "            line = line.rstrip('\\n')\n",
    "            if count > 2:\n",
    "                arr = line.split()\n",
    "                i = int(arr[0])-1\n",
    "                j = int(arr[1])-1\n",
    "                val = int(arr[2])\n",
    "                mat[i,j] = val\n",
    "            count+=1\n",
    "    f.close()"
   ]
  },
  {
   "cell_type": "code",
   "execution_count": 5,
   "metadata": {
    "collapsed": true
   },
   "outputs": [],
   "source": [
    "def get_triplet_list():\n",
    "    triplet_list = []\n",
    "    ordered_list = []\n",
    "    for i in range(n_doc):\n",
    "        # randomly generate 6 numbers, 1 extra to take care of the case where random number id is equal to i\n",
    "        rand_arr = np.random.choice(n_doc,6,replace=False)\n",
    "        doc_list = [] # list of indices of documents\n",
    "        corr_val = [] # list of calculated correlation coefficients\n",
    "        tuple_list = []\n",
    "        \n",
    "        # fill up correlation values\n",
    "        for j in range(len(rand_arr)):\n",
    "            if i!=j:\n",
    "                a = get_dense_row(i)\n",
    "                b = get_dense_row(rand_arr[j])\n",
    "                pear_val = pearsonr(a,b) # it returns a tuple where first element is the coefficient value\n",
    "                corr_val.append(pear_val[0])\n",
    "                doc_list.append(rand_arr[j])\n",
    "                if len(corr_val) == 5:\n",
    "                    break\n",
    "\n",
    "        # build up triplets\n",
    "        for a in range(len(corr_val)):\n",
    "            for b in range(a+1,len(corr_val)):\n",
    "                if b < len(corr_val):\n",
    "                    if corr_val[a] >= corr_val[b]:\n",
    "                        triplet_list.append((i,doc_list[a],doc_list[b]))\n",
    "                        tuple_list.append((i,doc_list[a],doc_list[b]))\n",
    "                    else:\n",
    "                        triplet_list.append((i,doc_list[b],doc_list[a]))\n",
    "                        tuple_list.append((i,doc_list[b],doc_list[a]))\n",
    "        \n",
    "    return triplet_list"
   ]
  },
  {
   "cell_type": "code",
   "execution_count": 6,
   "metadata": {
    "collapsed": true
   },
   "outputs": [],
   "source": [
    "def get_dense_row(index):\n",
    "    return dense_mat[index].tolist()[0] # fix for the issue, tolist() here returns matrix of rowsize 1"
   ]
  },
  {
   "cell_type": "code",
   "execution_count": 7,
   "metadata": {
    "collapsed": true
   },
   "outputs": [],
   "source": [
    "def get_sparse_row(index):\n",
    "    return mat[index]"
   ]
  },
  {
   "cell_type": "code",
   "execution_count": 8,
   "metadata": {
    "collapsed": true
   },
   "outputs": [],
   "source": [
    "def dense(sparse):\n",
    "    sparse = sparse.todense()\n",
    "    return sparse[0].tolist()[0]"
   ]
  },
  {
   "cell_type": "markdown",
   "metadata": {},
   "source": [
    "# Question 2.a"
   ]
  },
  {
   "cell_type": "code",
   "execution_count": 9,
   "metadata": {
    "collapsed": false
   },
   "outputs": [],
   "source": [
    "# get matrix dimensions\n",
    "filepath = 'Data/docword.kos.txt'\n",
    "size_tup = get_matrix_dimensions()"
   ]
  },
  {
   "cell_type": "code",
   "execution_count": 10,
   "metadata": {
    "collapsed": false
   },
   "outputs": [],
   "source": [
    "n_doc = size_tup[0]\n",
    "n_vocab = size_tup[1]"
   ]
  },
  {
   "cell_type": "code",
   "execution_count": 11,
   "metadata": {
    "collapsed": false
   },
   "outputs": [],
   "source": [
    "# populate lil_matrix dimensions\n",
    "mat = lil_matrix((size_tup[0],size_tup[1]),dtype=np.int32)\n",
    "populate_matrix()\n",
    "\n",
    "# convert lil_matrix to csr matrix for faster computation\n",
    "mat = mat.tocsr()\n",
    "dense_mat = mat.todense()"
   ]
  },
  {
   "cell_type": "code",
   "execution_count": 12,
   "metadata": {
    "collapsed": false
   },
   "outputs": [],
   "source": [
    "triplets = get_triplet_list()"
   ]
  },
  {
   "cell_type": "code",
   "execution_count": 126,
   "metadata": {
    "collapsed": false
   },
   "outputs": [],
   "source": [
    "# split triplet array into training and testing data\n",
    "train,test = train_test_split(triplets, train_size = 0.8, random_state=42)"
   ]
  },
  {
   "cell_type": "markdown",
   "metadata": {},
   "source": [
    "# Question 1 - OASIS Implementation"
   ]
  },
  {
   "cell_type": "code",
   "execution_count": 127,
   "metadata": {
    "collapsed": false
   },
   "outputs": [],
   "source": [
    "w = identity(n_vocab,format='csr')\n",
    "training_loss_list = []\n",
    "testing_loss_list = []\n",
    "c = 0.1"
   ]
  },
  {
   "cell_type": "code",
   "execution_count": 128,
   "metadata": {
    "collapsed": true
   },
   "outputs": [],
   "source": [
    "def get_similarity_score(a,w_mat,b):\n",
    "    result = a*w_mat*b\n",
    "    return result[0,0]"
   ]
  },
  {
   "cell_type": "code",
   "execution_count": 129,
   "metadata": {
    "collapsed": true
   },
   "outputs": [],
   "source": [
    "def get_loss(a_i,a_plus,a_neg,w_mat):\n",
    "    res_a = get_similarity_score(a_i,w_mat,a_plus.transpose())\n",
    "    res_b = get_similarity_score(a_i,w_mat,a_neg.transpose())\n",
    "    val = 1-res_a+res_b\n",
    "    return max(0,val)"
   ]
  },
  {
   "cell_type": "code",
   "execution_count": null,
   "metadata": {
    "collapsed": false
   },
   "outputs": [
    {
     "name": "stdout",
     "output_type": "stream",
     "text": [
      "number of iterations -  0\n",
      "Training Error"
     ]
    }
   ],
   "source": [
    "for i in range(len(train)):\n",
    "    p_i = mat[train[i][0]]\n",
    "    p_plus = mat[train[i][1]]\n",
    "    p_neg = mat[train[i][2]]\n",
    "    \n",
    "    loss = get_loss(p_i,p_plus,p_neg,w)\n",
    "    if (i%200 == 0):\n",
    "        print \"number of iterations - \", i\n",
    "    \n",
    "    if loss != 0:\n",
    "        diff = (p_plus - p_neg).transpose()\n",
    "        ones = np.ones((n_vocab,n_vocab))\n",
    "        diff_csr = csr_matrix(diff.multiply(ones))\n",
    "        elements = csr_matrix(p_i.multiply(ones))\n",
    "        v_i = elements.multiply(diff_csr).transpose()\n",
    "        norm_val = norm(v_i, 'fro')**2 \n",
    "        tau = min(c,loss/norm_val)\n",
    "        w = w + tau*v_i\n",
    "\n",
    "    train_loss = 0\n",
    "    test_loss = 0\n",
    "    \n",
    "    if (i%200 == 0):\n",
    "        # calculate Training Loss\n",
    "        for z in range(len(train)):\n",
    "            a_i = mat[train[z][0]]\n",
    "            a_plus = mat[train[z][1]]\n",
    "            a_neg = mat[train[z][2]]\n",
    "            train_loss += get_loss(a_i,a_plus,a_neg,w)\n",
    "        training_loss_list.append(train_loss)\n",
    "        \n",
    "        # calculate Testing Loss\n",
    "        for k in range(len(test)):\n",
    "            t_i = mat[test[k][0]]\n",
    "            t_plus = mat[test[k][1]]\n",
    "            t_neg = mat[test[k][2]]\n",
    "            test_loss += get_loss(t_i,t_plus,t_neg,w)\n",
    "        testing_loss_list.append(test_loss)\n",
    "        \n",
    "        print \"Training Error\", train_loss\n",
    "        print \"Testing Error\", test_loss\n",
    "        print \"----------------------\""
   ]
  },
  {
   "cell_type": "code",
   "execution_count": null,
   "metadata": {
    "collapsed": false
   },
   "outputs": [],
   "source": [
    "a = csr_matrix([[1,0,3],[1,3,4],[1,0,7]])\n",
    "b = 2*a\n",
    "print b.toarray()"
   ]
  },
  {
   "cell_type": "code",
   "execution_count": null,
   "metadata": {
    "collapsed": true
   },
   "outputs": [],
   "source": [
    "a = mat[train[i][1]]"
   ]
  }
 ],
 "metadata": {
  "kernelspec": {
   "display_name": "Python 2",
   "language": "python",
   "name": "python2"
  },
  "language_info": {
   "codemirror_mode": {
    "name": "ipython",
    "version": 2
   },
   "file_extension": ".py",
   "mimetype": "text/x-python",
   "name": "python",
   "nbconvert_exporter": "python",
   "pygments_lexer": "ipython2",
   "version": "2.7.9"
  }
 },
 "nbformat": 4,
 "nbformat_minor": 0
}
