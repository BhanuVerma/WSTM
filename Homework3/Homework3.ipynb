{
 "cells": [
  {
   "cell_type": "markdown",
   "metadata": {},
   "source": [
    "# CSE 6240 - Web Search & Text Mining - Homework 3"
   ]
  },
  {
   "cell_type": "code",
   "execution_count": 1,
   "metadata": {
    "collapsed": true
   },
   "outputs": [],
   "source": [
    "# __author__ = 'Bhanu Verma'\n",
    "# GTid = '903151012'"
   ]
  },
  {
   "cell_type": "code",
   "execution_count": 44,
   "metadata": {
    "collapsed": true
   },
   "outputs": [],
   "source": [
    "import matplotlib.pyplot as plt\n",
    "import numpy as np\n",
    "from scipy import linalg\n",
    "import os, os.path\n",
    "from scipy.sparse import lil_matrix,linalg\n",
    "from scipy.stats import pearsonr\n",
    "%matplotlib inline"
   ]
  },
  {
   "cell_type": "code",
   "execution_count": 30,
   "metadata": {
    "collapsed": false
   },
   "outputs": [],
   "source": [
    "def get_matrix_dimensions():\n",
    "    doc_size = 0\n",
    "    vocab_size = 0\n",
    "    with open(filepath, \"r\") as f:\n",
    "        count = 0\n",
    "        for line in f:\n",
    "            line = line.rstrip('\\n')\n",
    "            if count==0:\n",
    "                doc_size = int(line)\n",
    "            elif count==1:\n",
    "                vocab_size = int(line)\n",
    "            else:\n",
    "                break\n",
    "                \n",
    "            count+=1\n",
    "    \n",
    "    f.close()\n",
    "    \n",
    "    return (doc_size,vocab_size)"
   ]
  },
  {
   "cell_type": "code",
   "execution_count": 31,
   "metadata": {
    "collapsed": true
   },
   "outputs": [],
   "source": [
    "def populate_matrix():\n",
    "    with open(filepath, \"r\") as f:\n",
    "        count = 0\n",
    "        for line in f:\n",
    "            line = line.rstrip('\\n')\n",
    "            if count > 2:\n",
    "                arr = line.split()\n",
    "                i = int(arr[0])-1\n",
    "                j = int(arr[1])-1\n",
    "                val = int(arr[2])\n",
    "                mat[i,j] = val\n",
    "            count+=1\n",
    "    f.close()"
   ]
  },
  {
   "cell_type": "code",
   "execution_count": 87,
   "metadata": {
    "collapsed": true
   },
   "outputs": [],
   "source": [
    "def get_triplet_list():\n",
    "    triplet_arr = []\n",
    "    for i in range(n_doc):\n",
    "        # randomly generate 6 numbers, 1 extra to take care of the case where random number id is equal to i\n",
    "        rand_arr = np.random.choice(n_doc,6,replace=False)\n",
    "        tuple_list = [] # one list of triplets\n",
    "        doc_list = [] # list of indices of documents\n",
    "        corr_val = [] # list of calculated correlation coefficients\n",
    "\n",
    "        # fill up correlation values\n",
    "        for j in range(len(rand_arr)):\n",
    "            if i!=j:\n",
    "                a = dense_mat[i].tolist()[0] # fix for the issue, tolist() here returns matrix of rowsize 1\n",
    "                b = dense_mat[rand_arr[j]].tolist()[0] # fix for the issue, tolist() here returns matrix of rowsize 1\n",
    "                pear_val = pearsonr(a,b) # it returns a tuple where first element is the coefficient value\n",
    "                corr_val.append(pear_val[0])\n",
    "                doc_list.append(rand_arr[j])\n",
    "                if len(corr_val) == 5:\n",
    "                    break\n",
    "\n",
    "        # build up triplets\n",
    "        for a in range(len(corr_val)):\n",
    "            for b in range(a+1,len(corr_val)):\n",
    "                if b < len(corr_val):\n",
    "                    if corr_val[a] >= corr_val[b]:\n",
    "                        tuple_list.append((i,doc_list[a],doc_list[b]))\n",
    "                    else:\n",
    "                        tuple_list.append((i,doc_list[b],doc_list[a]))\n",
    "\n",
    "        triplet_arr.append(tuple_list)\n",
    "        \n",
    "    return triplet_arr"
   ]
  },
  {
   "cell_type": "code",
   "execution_count": 85,
   "metadata": {
    "collapsed": false
   },
   "outputs": [],
   "source": [
    "# get matrix dimensions\n",
    "filepath = 'Data/docword.kos.txt'\n",
    "size_tup = get_matrix_dimensions()"
   ]
  },
  {
   "cell_type": "code",
   "execution_count": 84,
   "metadata": {
    "collapsed": false
   },
   "outputs": [],
   "source": [
    "n_doc = size_tup[0]\n",
    "n_vocab = size_tup[1]"
   ]
  },
  {
   "cell_type": "code",
   "execution_count": 88,
   "metadata": {
    "collapsed": false
   },
   "outputs": [],
   "source": [
    "# populate lil_matrix dimensions\n",
    "mat = lil_matrix((size_tup[0],size_tup[1]),dtype=np.int32)\n",
    "populate_matrix()\n",
    "\n",
    "# convert lil_matrix to csr matrix for faster computation\n",
    "mat = mat.tocsr()\n",
    "dense_mat = mat.todense()"
   ]
  },
  {
   "cell_type": "code",
   "execution_count": 89,
   "metadata": {
    "collapsed": false
   },
   "outputs": [],
   "source": [
    "triplets = get_triplet_list()"
   ]
  },
  {
   "cell_type": "code",
   "execution_count": 90,
   "metadata": {
    "collapsed": false
   },
   "outputs": [
    {
     "ename": "TypeError",
     "evalue": "'NoneType' object has no attribute '__getitem__'",
     "output_type": "error",
     "traceback": [
      "\u001b[0;31m---------------------------------------------------------------------------\u001b[0m",
      "\u001b[0;31mTypeError\u001b[0m                                 Traceback (most recent call last)",
      "\u001b[0;32m<ipython-input-90-588f98869d4a>\u001b[0m in \u001b[0;36m<module>\u001b[0;34m()\u001b[0m\n\u001b[0;32m----> 1\u001b[0;31m \u001b[0;32mprint\u001b[0m \u001b[0mtriplet_list\u001b[0m\u001b[0;34m[\u001b[0m\u001b[0;36m3\u001b[0m\u001b[0;34m]\u001b[0m\u001b[0;34m\u001b[0m\u001b[0m\n\u001b[0m",
      "\u001b[0;31mTypeError\u001b[0m: 'NoneType' object has no attribute '__getitem__'"
     ]
    }
   ],
   "source": [
    "print triplets[2]"
   ]
  },
  {
   "cell_type": "code",
   "execution_count": null,
   "metadata": {
    "collapsed": true
   },
   "outputs": [],
   "source": []
  }
 ],
 "metadata": {
  "kernelspec": {
   "display_name": "Python 2",
   "language": "python",
   "name": "python2"
  },
  "language_info": {
   "codemirror_mode": {
    "name": "ipython",
    "version": 2
   },
   "file_extension": ".py",
   "mimetype": "text/x-python",
   "name": "python",
   "nbconvert_exporter": "python",
   "pygments_lexer": "ipython2",
   "version": "2.7.9"
  }
 },
 "nbformat": 4,
 "nbformat_minor": 0
}
