{
 "cells": [
  {
   "cell_type": "markdown",
   "metadata": {},
   "source": [
    "# CSE 6240 - Web Search & Text Mining - Homework 3"
   ]
  },
  {
   "cell_type": "code",
   "execution_count": 1,
   "metadata": {
    "collapsed": true
   },
   "outputs": [],
   "source": [
    "# __author__ = 'Bhanu Verma'\n",
    "# GTid = '903151012'"
   ]
  },
  {
   "cell_type": "code",
   "execution_count": 54,
   "metadata": {
    "collapsed": true
   },
   "outputs": [],
   "source": [
    "import matplotlib.pyplot as plt\n",
    "import numpy as np\n",
    "from scipy import linalg\n",
    "import os, os.path\n",
    "from scipy.sparse import lil_matrix,linalg\n",
    "from scipy.sparse import csr_matrix\n",
    "from scipy.sparse import identity\n",
    "from scipy.sparse.linalg import norm,svds\n",
    "from scipy.sparse.linalg import eigs,eigsh\n",
    "from sklearn.cross_validation import train_test_split\n",
    "from scipy.spatial.distance import pdist\n",
    "from scipy.spatial.distance import squareform\n",
    "from scipy.stats import pearsonr\n",
    "import time\n",
    "import pprint\n",
    "%matplotlib inline"
   ]
  },
  {
   "cell_type": "code",
   "execution_count": 3,
   "metadata": {
    "collapsed": false
   },
   "outputs": [],
   "source": [
    "def get_matrix_dimensions():\n",
    "    doc_size = 0\n",
    "    vocab_size = 0\n",
    "    with open(filepath, \"r\") as f:\n",
    "        count = 0\n",
    "        for line in f:\n",
    "            line = line.rstrip('\\n')\n",
    "            if count==0:\n",
    "                doc_size = int(line)\n",
    "            elif count==1:\n",
    "                vocab_size = int(line)\n",
    "            else:\n",
    "                break\n",
    "                \n",
    "            count+=1\n",
    "    \n",
    "    f.close()\n",
    "    \n",
    "    return (doc_size,vocab_size)"
   ]
  },
  {
   "cell_type": "code",
   "execution_count": 4,
   "metadata": {
    "collapsed": true
   },
   "outputs": [],
   "source": [
    "def populate_matrix():\n",
    "    with open(filepath, \"r\") as f:\n",
    "        count = 0\n",
    "        for line in f:\n",
    "            line = line.rstrip('\\n')\n",
    "            if count > 2:\n",
    "                arr = line.split()\n",
    "                i = int(arr[0])-1\n",
    "                j = int(arr[1])-1\n",
    "                val = int(arr[2])\n",
    "                mat[i,j] = val\n",
    "            count+=1\n",
    "    f.close()"
   ]
  },
  {
   "cell_type": "code",
   "execution_count": 5,
   "metadata": {
    "collapsed": true
   },
   "outputs": [],
   "source": [
    "def get_triplet_list():\n",
    "    triplet_list = []\n",
    "    ordered_list = []\n",
    "    for i in range(n_doc):\n",
    "        # randomly generate 6 numbers, 1 extra to take care of the case where random number id is equal to i\n",
    "        rand_arr = np.random.choice(n_doc,6,replace=False)\n",
    "        doc_list = [] # list of indices of documents\n",
    "        corr_val = [] # list of calculated correlation coefficients\n",
    "        tuple_list = []\n",
    "        \n",
    "        # fill up correlation values\n",
    "        for j in range(len(rand_arr)):\n",
    "            if i!=j:\n",
    "                a = get_dense_row(i)\n",
    "                b = get_dense_row(rand_arr[j])\n",
    "                pear_val = pearsonr(a,b) # it returns a tuple where first element is the coefficient value\n",
    "                corr_val.append(pear_val[0])\n",
    "                doc_list.append(rand_arr[j])\n",
    "                if len(corr_val) == 5:\n",
    "                    break\n",
    "\n",
    "        # build up triplets\n",
    "        for a in range(len(corr_val)):\n",
    "            for b in range(a+1,len(corr_val)):\n",
    "                if b < len(corr_val):\n",
    "                    if corr_val[a] >= corr_val[b]:\n",
    "                        triplet_list.append((i,doc_list[a],doc_list[b]))\n",
    "                        tuple_list.append((i,doc_list[a],doc_list[b]))\n",
    "                    else:\n",
    "                        triplet_list.append((i,doc_list[b],doc_list[a]))\n",
    "                        tuple_list.append((i,doc_list[b],doc_list[a]))\n",
    "        \n",
    "    return triplet_list"
   ]
  },
  {
   "cell_type": "code",
   "execution_count": 6,
   "metadata": {
    "collapsed": true
   },
   "outputs": [],
   "source": [
    "def get_dense_row(index):\n",
    "    return dense_mat[index].tolist()[0] # fix for the issue, tolist() here returns matrix of rowsize 1"
   ]
  },
  {
   "cell_type": "code",
   "execution_count": 7,
   "metadata": {
    "collapsed": true
   },
   "outputs": [],
   "source": [
    "def get_sparse_row(index):\n",
    "    return mat[index]"
   ]
  },
  {
   "cell_type": "code",
   "execution_count": 8,
   "metadata": {
    "collapsed": true
   },
   "outputs": [],
   "source": [
    "def dense(sparse):\n",
    "    sparse = sparse.todense()\n",
    "    return sparse[0].tolist()[0]"
   ]
  },
  {
   "cell_type": "markdown",
   "metadata": {},
   "source": [
    "# Question 2.a - Generating Correlated Triplets"
   ]
  },
  {
   "cell_type": "code",
   "execution_count": 9,
   "metadata": {
    "collapsed": false
   },
   "outputs": [],
   "source": [
    "# get matrix dimensions\n",
    "filepath = 'Data/docword.kos.txt'\n",
    "size_tup = get_matrix_dimensions()"
   ]
  },
  {
   "cell_type": "code",
   "execution_count": 10,
   "metadata": {
    "collapsed": false
   },
   "outputs": [],
   "source": [
    "n_doc = size_tup[0]\n",
    "n_vocab = size_tup[1]"
   ]
  },
  {
   "cell_type": "code",
   "execution_count": 11,
   "metadata": {
    "collapsed": false
   },
   "outputs": [],
   "source": [
    "# populate lil_matrix dimensions\n",
    "mat = lil_matrix((size_tup[0],size_tup[1]),dtype=np.int32)\n",
    "populate_matrix()\n",
    "\n",
    "# convert lil_matrix to csr matrix for faster computation\n",
    "mat = mat.tocsr()\n",
    "dense_mat = mat.todense()"
   ]
  },
  {
   "cell_type": "code",
   "execution_count": 12,
   "metadata": {
    "collapsed": false
   },
   "outputs": [],
   "source": [
    "triplets = get_triplet_list()"
   ]
  },
  {
   "cell_type": "code",
   "execution_count": 13,
   "metadata": {
    "collapsed": false
   },
   "outputs": [],
   "source": [
    "# split triplet array into training and testing data\n",
    "train,test = train_test_split(triplets, train_size = 0.8, random_state=42)"
   ]
  },
  {
   "cell_type": "markdown",
   "metadata": {},
   "source": [
    "# OASIS Implementation"
   ]
  },
  {
   "cell_type": "code",
   "execution_count": 14,
   "metadata": {
    "collapsed": false
   },
   "outputs": [],
   "source": [
    "w = identity(n_vocab,format='csr')\n",
    "c = 0.1"
   ]
  },
  {
   "cell_type": "code",
   "execution_count": 15,
   "metadata": {
    "collapsed": true
   },
   "outputs": [],
   "source": [
    "def get_similarity_score(a,w_mat,b):\n",
    "    result = a*w_mat*b\n",
    "    return result[0,0]"
   ]
  },
  {
   "cell_type": "code",
   "execution_count": 16,
   "metadata": {
    "collapsed": true
   },
   "outputs": [],
   "source": [
    "def get_loss(a_i,a_plus,a_neg,w_mat):\n",
    "    res_a = get_similarity_score(a_i,w_mat,a_plus.transpose())\n",
    "    res_b = get_similarity_score(a_i,w_mat,a_neg.transpose())\n",
    "    val = 1-res_a+res_b\n",
    "    return max(0,val)"
   ]
  },
  {
   "cell_type": "code",
   "execution_count": 39,
   "metadata": {
    "collapsed": true
   },
   "outputs": [],
   "source": [
    "def make_psd(w_mat):\n",
    "    # Make matrix positive semi-definite\n",
    "    w, v = eigsh(w_mat,1000)  # eigvec in columns\n",
    "    D = np.diagflat(np.maximum(w, 0.25))\n",
    "    return csr_matrix(np.dot(np.dot(v, D), v.T))"
   ]
  },
  {
   "cell_type": "code",
   "execution_count": 38,
   "metadata": {
    "collapsed": false,
    "scrolled": false
   },
   "outputs": [],
   "source": [
    "def run_oasis(p_mat, train_data, test_data, w_mat, symmetric, pos_def=False):\n",
    "    training_loss_list = []\n",
    "    testing_loss_list = []\n",
    "    \n",
    "    if pos_def:\n",
    "        train_size = 1\n",
    "        iter_size = 50\n",
    "    else:\n",
    "        train_size = len(train_data)\n",
    "        iter_size = 2740\n",
    "        \n",
    "    for i in range(train_size):\n",
    "        p_i = p_mat[train_data[i][0]]\n",
    "        p_plus = p_mat[train_data[i][1]]\n",
    "        p_neg = p_mat[train_data[i][2]]\n",
    "\n",
    "        loss = get_loss(p_i,p_plus,p_neg,w_mat)\n",
    "        if (i%iter_size == 0 and not pos_def):\n",
    "            print \"number of iterations - \", i\n",
    "\n",
    "        if loss != 0:\n",
    "            diff = (p_plus - p_neg).transpose()\n",
    "            ones = np.ones((n_vocab,n_vocab))\n",
    "            diff_csr = csr_matrix(diff.multiply(ones))\n",
    "            elements = csr_matrix(p_i.multiply(ones))\n",
    "            v_i = elements.multiply(diff_csr).transpose()\n",
    "            norm_val = norm(v_i, 'fro')**2 \n",
    "            tau = min(c,loss/norm_val)\n",
    "            w_mat = w_mat + tau*v_i\n",
    "            if symmetric:\n",
    "                w_mat = (w_mat + w_mat.transpose())/2\n",
    "            if pos_def:\n",
    "                w_mat = (w_mat + w_mat.transpose())/2\n",
    "                w_mat = make_psd(w_mat)\n",
    "\n",
    "        train_loss = 0\n",
    "        test_loss = 0\n",
    "\n",
    "        if (i%iter_size == 0):\n",
    "            if (not pos_def):\n",
    "                # calculate Training Loss\n",
    "                for z in range(len(train_data)):\n",
    "                    a_i = p_mat[train_data[z][0]]\n",
    "                    a_plus = p_mat[train_data[z][1]]\n",
    "                    a_neg = p_mat[train_data[z][2]]\n",
    "                    train_loss += get_loss(a_i,a_plus,a_neg,w_mat)\n",
    "                train_loss = train_loss/len(train_data)\n",
    "                training_loss_list.append(train_loss)\n",
    "\n",
    "                # calculate Testing Loss\n",
    "                for k in range(len(test_data)):\n",
    "                    t_i = p_mat[test_data[k][0]]\n",
    "                    t_plus = p_mat[test_data[k][1]]\n",
    "                    t_neg = p_mat[test_data[k][2]]\n",
    "                    test_loss += get_loss(t_i,t_plus,t_neg,w_mat)\n",
    "                test_loss = test_loss/len(test_data)\n",
    "                testing_loss_list.append(test_loss)\n",
    "\n",
    "                print \"Training Error\", train_loss\n",
    "                print \"Testing Error\", test_loss\n",
    "                print \"-----------------------------\"\n",
    "            \n",
    "    return w_mat, training_loss_list, testing_loss_list"
   ]
  },
  {
   "cell_type": "markdown",
   "metadata": {},
   "source": [
    "# Question 1 - OASIS for non-symmetric W"
   ]
  },
  {
   "cell_type": "markdown",
   "metadata": {},
   "source": [
    "If you look at the number of iterations, you will see that I am calculating training error per 2740 iterations which is 1/10th of the training data. BUT W IS BEING CACULATED FOR EVERY ITERATION. I used this approach to save on the run time.\n",
    "\n",
    "NOTE - Earlier I was calculating training error per 200 iterations. My kernel died one day before submission which didn't leave me with much time to run it again for every 200 iterations"
   ]
  },
  {
   "cell_type": "code",
   "execution_count": 19,
   "metadata": {
    "collapsed": false
   },
   "outputs": [
    {
     "name": "stdout",
     "output_type": "stream",
     "text": [
      "number of iterations -  0\n",
      "Training Error 1.52281341108\n",
      "Testing Error 1.56341107872\n",
      "-----------------------------\n",
      "number of iterations -  2740\n",
      "Training Error 0.611494295222\n",
      "Testing Error 0.719358454796\n",
      "-----------------------------\n",
      "number of iterations -  5480\n",
      "Training Error 0.471853629944\n",
      "Testing Error 0.609063173948\n",
      "-----------------------------\n",
      "number of iterations -  8220\n",
      "Training Error 0.407642545965\n",
      "Testing Error 0.580176775624\n",
      "-----------------------------\n",
      "number of iterations -  10960\n",
      "Training Error 0.345699464572\n",
      "Testing Error 0.551879769786\n",
      "-----------------------------\n",
      "number of iterations -  13700\n",
      "Training Error 0.281326645836\n",
      "Testing Error 0.510808596238\n",
      "-----------------------------\n",
      "number of iterations -  16440\n",
      "Training Error 0.248157356469\n",
      "Testing Error 0.502135451374\n",
      "-----------------------------\n",
      "number of iterations -  19180\n",
      "Training Error 0.214484722345\n",
      "Testing Error 0.49162703545\n",
      "-----------------------------\n",
      "number of iterations -  21920\n",
      "Training Error 0.184992712953\n",
      "Testing Error 0.497172223041\n",
      "-----------------------------\n",
      "number of iterations -  24660\n",
      "Training Error 0.133990146316\n",
      "Testing Error 0.467782212595\n",
      "-----------------------------\n",
      "number of iterations -  27400\n",
      "Training Error 0.0888963500508\n",
      "Testing Error 0.435735438696\n",
      "-----------------------------\n"
     ]
    }
   ],
   "source": [
    "w,train_loss_arr,test_loss_arr = run_oasis(mat,train,test,w,False,False)"
   ]
  },
  {
   "cell_type": "markdown",
   "metadata": {},
   "source": [
    "# Question 2.b - Training Error Plot"
   ]
  },
  {
   "cell_type": "code",
   "execution_count": 20,
   "metadata": {
    "collapsed": false
   },
   "outputs": [
    {
     "data": {
      "image/png": "[encoded data removed]",
      "text/plain": [
       "<matplotlib.figure.Figure at 0x10eaadf90>"
      ]
     },
     "metadata": {},
     "output_type": "display_data"
    }
   ],
   "source": [
    "plt.figure(1, figsize=(10, 7))\n",
    "plt.subplot(1,1,1)\n",
    "plt.xlabel('Iterations')\n",
    "plt.ylabel('Training Error')\n",
    "plt.title('Training Error Plot')\n",
    "plt.plot(train_loss_arr, color='green',alpha=0.6)\n",
    "plt.grid(True)"
   ]
  },
  {
   "cell_type": "markdown",
   "metadata": {},
   "source": [
    "# Question 2.c - Testing Error Plot"
   ]
  },
  {
   "cell_type": "code",
   "execution_count": 21,
   "metadata": {
    "collapsed": false
   },
   "outputs": [
    {
     "data": {
      "image/png": "[encoded data removed]",
      "text/plain": [
       "<matplotlib.figure.Figure at 0x1040a7cd0>"
      ]
     },
     "metadata": {},
     "output_type": "display_data"
    }
   ],
   "source": [
    "plt.figure(1, figsize=(10, 7))\n",
    "plt.subplot(1,1,1)\n",
    "plt.xlabel('Iterations')\n",
    "plt.ylabel('Testing Error')\n",
    "plt.title('Testing Error Plot')\n",
    "plt.plot(test_loss_arr, color='orange',alpha=0.6)\n",
    "plt.grid(True)"
   ]
  },
  {
   "cell_type": "markdown",
   "metadata": {},
   "source": [
    "# Question 3 - OASIS for symmetric W"
   ]
  },
  {
   "cell_type": "markdown",
   "metadata": {},
   "source": [
    "If you look at the number of iterations, you will see that I am calculating training error per 2740 iterations which is 1/10th of the training data. BUT W IS BEING CACULATED FOR EVERY ITERATION. I used this approach to save on the run time.\n",
    "\n",
    "NOTE - Earlier I was calculating training error per 200 iterations. My kernel died one day before submission which didn't leave me with much time to run it again for every 200 iterations"
   ]
  },
  {
   "cell_type": "code",
   "execution_count": 30,
   "metadata": {
    "collapsed": false
   },
   "outputs": [
    {
     "name": "stdout",
     "output_type": "stream",
     "text": [
      "number of iterations -  0\n",
      "Training Error 1.52281341108\n",
      "Testing Error 1.56341107872\n",
      "-----------------------------\n",
      "number of iterations -  2740\n",
      "Training Error 0.689325754609\n",
      "Testing Error 0.777004177627\n",
      "-----------------------------\n",
      "number of iterations -  5480\n",
      "Training Error 0.555540825242\n",
      "Testing Error 0.663594820612\n",
      "-----------------------------\n",
      "number of iterations -  8220\n",
      "Training Error 0.505886168472\n",
      "Testing Error 0.63942030322\n",
      "-----------------------------\n",
      "number of iterations -  10960\n",
      "Training Error 0.458137739038\n",
      "Testing Error 0.61131438241\n",
      "-----------------------------\n",
      "number of iterations -  13700\n",
      "Training Error 0.400407861869\n",
      "Testing Error 0.567286274688\n",
      "-----------------------------\n",
      "number of iterations -  16440\n",
      "Training Error 0.376550341149\n",
      "Testing Error 0.559130675997\n",
      "-----------------------------\n",
      "number of iterations -  19180\n",
      "Training Error 0.363187486158\n",
      "Testing Error 0.56830530544\n",
      "-----------------------------\n",
      "number of iterations -  21920\n",
      "Training Error 0.333642676402\n",
      "Testing Error 0.563906408198\n",
      "-----------------------------\n",
      "number of iterations -  24660\n",
      "Training Error 0.299634402923\n",
      "Testing Error 0.544180450075\n",
      "-----------------------------\n",
      "number of iterations -  27400\n",
      "Training Error 0.243658245511\n",
      "Testing Error 0.496043055383\n",
      "-----------------------------\n"
     ]
    }
   ],
   "source": [
    "w = identity(n_vocab,format='csr')\n",
    "w_sym,train_loss_arr_sym,test_loss_arr_sym = run_oasis(mat,train,test,w,True,False)"
   ]
  },
  {
   "cell_type": "markdown",
   "metadata": {},
   "source": [
    "# Question 3.a - Testing & Training Error for symmetric W"
   ]
  },
  {
   "cell_type": "code",
   "execution_count": 36,
   "metadata": {
    "collapsed": false
   },
   "outputs": [
    {
     "data": {
      "image/png": "[encoded data removed]",
      "text/plain": [
       "<matplotlib.figure.Figure at 0x10f14a350>"
      ]
     },
     "metadata": {},
     "output_type": "display_data"
    }
   ],
   "source": [
    "plt.figure(2, figsize=(20, 7))\n",
    "plt.subplot(1,2,1)\n",
    "plt.xlabel('Iterations')\n",
    "plt.ylabel('Training Error for Symmetric W')\n",
    "plt.title('Testing Error Plot')\n",
    "plt.plot(train_loss_arr_sym, color='green',alpha=0.6)\n",
    "plt.grid(True)\n",
    "\n",
    "plt.subplot(1,2,2)\n",
    "plt.xlabel('Iterations')\n",
    "plt.ylabel('Testing Error for Symmetric W')\n",
    "plt.title('Testing Error Plot')\n",
    "plt.plot(test_loss_arr_sym, color='orange',alpha=0.6)\n",
    "plt.grid(True)\n",
    "plt.show()"
   ]
  },
  {
   "cell_type": "markdown",
   "metadata": {},
   "source": [
    "# Question 3.b - Eigenvalues of the W matrix"
   ]
  },
  {
   "cell_type": "code",
   "execution_count": 34,
   "metadata": {
    "collapsed": false
   },
   "outputs": [
    {
     "name": "stdout",
     "output_type": "stream",
     "text": [
      "--- 971.978242874 seconds ---\n"
     ]
    }
   ],
   "source": [
    "start_time = time.time()\n",
    "vals,vecs = eigsh(w_sym,k=n_vocab-1)\n",
    "print(\"--- %s seconds ---\" % (time.time() - start_time))"
   ]
  },
  {
   "cell_type": "code",
   "execution_count": 37,
   "metadata": {
    "collapsed": false
   },
   "outputs": [
    {
     "data": {
      "image/png": "[encoded data removed]",
      "text/plain": [
       "<matplotlib.figure.Figure at 0x10f0c5a50>"
      ]
     },
     "metadata": {},
     "output_type": "display_data"
    }
   ],
   "source": [
    "plt.figure(3, figsize=(10, 7))\n",
    "plt.subplot(1,1,1)\n",
    "plt.xlabel('Number of Values')\n",
    "plt.ylabel('EigenValues')\n",
    "plt.title('EigenValues plot')\n",
    "plt.plot(vals, color='blue',alpha=0.6)\n",
    "plt.grid(True)"
   ]
  },
  {
   "cell_type": "markdown",
   "metadata": {},
   "source": [
    "# Question 3.c - Comment on the role of positive and negative eigenvalues"
   ]
  },
  {
   "cell_type": "markdown",
   "metadata": {},
   "source": [
    "A matrix having a negative eigen value indicates represents a linear transform which acts as a reflection along some axis. This particularly means that whether a set of vectors that are oriented in a particular way, maintain that orientation or not.\n",
    "\n",
    "All the eigen values in our current data set are positive. However, a negative eigen value,if present, indicates an inverse relationship between the factor and variable,.i.e, negative correlation.\n",
    "\n",
    "Here, all the features are positively correlated to the dataset, and hence we do not observe negative values."
   ]
  },
  {
   "cell_type": "markdown",
   "metadata": {},
   "source": [
    "# Question 4 - OASIS for positive definite W"
   ]
  },
  {
   "cell_type": "code",
   "execution_count": 40,
   "metadata": {
    "collapsed": true
   },
   "outputs": [],
   "source": [
    "# w_psd,train_empty,test_empty = run_oasis(mat,train,test,w,True,True)\n",
    "w_psd = w_sym # for our case as there are no negative eigenvalues, w_psd = w_sym"
   ]
  },
  {
   "cell_type": "markdown",
   "metadata": {},
   "source": [
    "# Question 4.a - Find B"
   ]
  },
  {
   "cell_type": "code",
   "execution_count": 41,
   "metadata": {
    "collapsed": false
   },
   "outputs": [
    {
     "name": "stdout",
     "output_type": "stream",
     "text": [
      "--- 7.8952729702 seconds ---\n"
     ]
    }
   ],
   "source": [
    "start_time = time.time()\n",
    "u,s,vt = svds(w_psd,k=5)\n",
    "print(\"--- %s seconds ---\" % (time.time() - start_time))"
   ]
  },
  {
   "cell_type": "code",
   "execution_count": 42,
   "metadata": {
    "collapsed": false
   },
   "outputs": [
    {
     "name": "stdout",
     "output_type": "stream",
     "text": [
      "[ 1.08062075  1.08698535  1.09183727  1.11840794  1.13916254]\n"
     ]
    }
   ],
   "source": [
    "print s"
   ]
  },
  {
   "cell_type": "code",
   "execution_count": 44,
   "metadata": {
    "collapsed": false
   },
   "outputs": [
    {
     "name": "stdout",
     "output_type": "stream",
     "text": [
      "[[ 1.08062075  0.          0.          0.          0.        ]\n",
      " [ 0.          1.08698535  0.          0.          0.        ]\n",
      " [ 0.          0.          1.09183727  0.          0.        ]\n",
      " [ 0.          0.          0.          1.11840794  0.        ]\n",
      " [ 0.          0.          0.          0.          1.13916254]]\n"
     ]
    }
   ],
   "source": [
    "e = np.diagflat(s)\n",
    "print e"
   ]
  },
  {
   "cell_type": "code",
   "execution_count": 45,
   "metadata": {
    "collapsed": false
   },
   "outputs": [
    {
     "name": "stdout",
     "output_type": "stream",
     "text": [
      "[[ 1.0395291   0.          0.          0.          0.        ]\n",
      " [ 0.          1.0425859   0.          0.          0.        ]\n",
      " [ 0.          0.          1.04491017  0.          0.        ]\n",
      " [ 0.          0.          0.          1.05754808  0.        ]\n",
      " [ 0.          0.          0.          0.          1.06731558]]\n"
     ]
    }
   ],
   "source": [
    "e = np.sqrt(e)\n",
    "print e"
   ]
  },
  {
   "cell_type": "code",
   "execution_count": 48,
   "metadata": {
    "collapsed": false
   },
   "outputs": [
    {
     "name": "stdout",
     "output_type": "stream",
     "text": [
      "(6906, 5)\n"
     ]
    }
   ],
   "source": [
    "b = np.dot(u,e)\n",
    "print b.shape"
   ]
  },
  {
   "cell_type": "markdown",
   "metadata": {},
   "source": [
    "# Question 4.b - Every row of the B matrix is vectorization of every word. For every word compute its 5 nearest neighbors. Show 10 words where the neighbors make sense and other cases where the neighbors are wrong."
   ]
  },
  {
   "cell_type": "code",
   "execution_count": 63,
   "metadata": {
    "collapsed": true
   },
   "outputs": [],
   "source": [
    "def get_euc_mat(mat):\n",
    "    y = pdist(mat, metric='euclidean')\n",
    "    euc_mat = squareform(y)\n",
    "    return euc_mat"
   ]
  },
  {
   "cell_type": "code",
   "execution_count": 64,
   "metadata": {
    "collapsed": true
   },
   "outputs": [],
   "source": [
    "def get_neighbours(mat):\n",
    "    neighbours = []\n",
    "    for row_id in range(mat.shape[0]):\n",
    "        temp_arr = mat[row_id]\n",
    "        id_arr = np.argsort(temp_arr)\n",
    "        temp_id = []\n",
    "        for i,ind in enumerate(id_arr):\n",
    "            if i>=1 and i<6:\n",
    "                temp_id.append(ind)\n",
    "            elif i>=6:\n",
    "                break\n",
    "        neighbours.append(temp_id)\n",
    "    return neighbours"
   ]
  },
  {
   "cell_type": "code",
   "execution_count": 65,
   "metadata": {
    "collapsed": false
   },
   "outputs": [],
   "source": [
    "euc_mat = get_euc_mat(b)\n",
    "nn_arr = get_neighbours(euc_mat)"
   ]
  },
  {
   "cell_type": "code",
   "execution_count": 62,
   "metadata": {
    "collapsed": false
   },
   "outputs": [
    {
     "name": "stdout",
     "output_type": "stream",
     "text": [
      "[1, 4816, 3212, 3187, 3556]\n"
     ]
    }
   ],
   "source": [
    "print nn_arr[1]"
   ]
  },
  {
   "cell_type": "code",
   "execution_count": null,
   "metadata": {
    "collapsed": true
   },
   "outputs": [],
   "source": []
  }
 ],
 "metadata": {
  "kernelspec": {
   "display_name": "Python 2",
   "language": "python",
   "name": "python2"
  },
  "language_info": {
   "codemirror_mode": {
    "name": "ipython",
    "version": 2
   },
   "file_extension": ".py",
   "mimetype": "text/x-python",
   "name": "python",
   "nbconvert_exporter": "python",
   "pygments_lexer": "ipython2",
   "version": "2.7.9"
  }
 },
 "nbformat": 4,
 "nbformat_minor": 0
}
