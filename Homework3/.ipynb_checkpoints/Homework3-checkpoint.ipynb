{
 "cells": [
  {
   "cell_type": "markdown",
   "metadata": {},
   "source": [
    "# CSE 6240 - Web Search & Text Mining - Homework 3"
   ]
  },
  {
   "cell_type": "code",
   "execution_count": null,
   "metadata": {
    "collapsed": true
   },
   "outputs": [],
   "source": [
    "# __author__ = 'Bhanu Verma'\n",
    "# GTid = '903151012'"
   ]
  },
  {
   "cell_type": "code",
   "execution_count": null,
   "metadata": {
    "collapsed": true
   },
   "outputs": [],
   "source": [
    "import matplotlib.pyplot as plt\n",
    "import numpy as np\n",
    "from scipy import linalg\n",
    "import os, os.path\n",
    "from scipy.sparse import lil_matrix,linalg\n",
    "from scipy.sparse import csr_matrix\n",
    "from sklearn.cross_validation import train_test_split\n",
    "from scipy.stats import pearsonr\n",
    "%matplotlib inline"
   ]
  },
  {
   "cell_type": "code",
   "execution_count": null,
   "metadata": {
    "collapsed": false
   },
   "outputs": [],
   "source": [
    "def get_matrix_dimensions():\n",
    "    doc_size = 0\n",
    "    vocab_size = 0\n",
    "    with open(filepath, \"r\") as f:\n",
    "        count = 0\n",
    "        for line in f:\n",
    "            line = line.rstrip('\\n')\n",
    "            if count==0:\n",
    "                doc_size = int(line)\n",
    "            elif count==1:\n",
    "                vocab_size = int(line)\n",
    "            else:\n",
    "                break\n",
    "                \n",
    "            count+=1\n",
    "    \n",
    "    f.close()\n",
    "    \n",
    "    return (doc_size,vocab_size)"
   ]
  },
  {
   "cell_type": "code",
   "execution_count": null,
   "metadata": {
    "collapsed": true
   },
   "outputs": [],
   "source": [
    "def populate_matrix():\n",
    "    with open(filepath, \"r\") as f:\n",
    "        count = 0\n",
    "        for line in f:\n",
    "            line = line.rstrip('\\n')\n",
    "            if count > 2:\n",
    "                arr = line.split()\n",
    "                i = int(arr[0])-1\n",
    "                j = int(arr[1])-1\n",
    "                val = int(arr[2])\n",
    "                mat[i,j] = val\n",
    "            count+=1\n",
    "    f.close()"
   ]
  },
  {
   "cell_type": "code",
   "execution_count": null,
   "metadata": {
    "collapsed": true
   },
   "outputs": [],
   "source": [
    "def get_triplet_list():\n",
    "    triplet_list = []\n",
    "    ordered_list = []\n",
    "    for i in range(n_doc):\n",
    "        # randomly generate 6 numbers, 1 extra to take care of the case where random number id is equal to i\n",
    "        rand_arr = np.random.choice(n_doc,6,replace=False)\n",
    "        doc_list = [] # list of indices of documents\n",
    "        corr_val = [] # list of calculated correlation coefficients\n",
    "        tuple_list = []\n",
    "        \n",
    "        # fill up correlation values\n",
    "        for j in range(len(rand_arr)):\n",
    "            if i!=j:\n",
    "                a = get_dense_row(i)\n",
    "                b = get_dense_row(rand_arr[j])\n",
    "                pear_val = pearsonr(a,b) # it returns a tuple where first element is the coefficient value\n",
    "                corr_val.append(pear_val[0])\n",
    "                doc_list.append(rand_arr[j])\n",
    "                if len(corr_val) == 5:\n",
    "                    break\n",
    "\n",
    "        # build up triplets\n",
    "        for a in range(len(corr_val)):\n",
    "            for b in range(a+1,len(corr_val)):\n",
    "                if b < len(corr_val):\n",
    "                    if corr_val[a] >= corr_val[b]:\n",
    "                        triplet_list.append((i,doc_list[a],doc_list[b]))\n",
    "                        tuple_list.append((i,doc_list[a],doc_list[b]))\n",
    "                    else:\n",
    "                        triplet_list.append((i,doc_list[b],doc_list[a]))\n",
    "                        tuple_list.append((i,doc_list[b],doc_list[a]))\n",
    "        \n",
    "    return triplet_list"
   ]
  },
  {
   "cell_type": "code",
   "execution_count": null,
   "metadata": {
    "collapsed": true
   },
   "outputs": [],
   "source": [
    "def get_dense_row(index):\n",
    "    return dense_mat[index].tolist()[0] # fix for the issue, tolist() here returns matrix of rowsize 1"
   ]
  },
  {
   "cell_type": "code",
   "execution_count": null,
   "metadata": {
    "collapsed": true
   },
   "outputs": [],
   "source": [
    "def get_sparse_row(index):\n",
    "    return mat[index]"
   ]
  },
  {
   "cell_type": "code",
   "execution_count": null,
   "metadata": {
    "collapsed": true
   },
   "outputs": [],
   "source": [
    "def dense(sparse):\n",
    "    sparse = sparse.todense()\n",
    "    return sparse[0].tolist()[0]"
   ]
  },
  {
   "cell_type": "markdown",
   "metadata": {},
   "source": [
    "# Question 2.a"
   ]
  },
  {
   "cell_type": "code",
   "execution_count": null,
   "metadata": {
    "collapsed": false
   },
   "outputs": [],
   "source": [
    "# get matrix dimensions\n",
    "filepath = 'Data/docword.kos.txt'\n",
    "size_tup = get_matrix_dimensions()"
   ]
  },
  {
   "cell_type": "code",
   "execution_count": null,
   "metadata": {
    "collapsed": false
   },
   "outputs": [],
   "source": [
    "n_doc = size_tup[0]\n",
    "n_vocab = size_tup[1]"
   ]
  },
  {
   "cell_type": "code",
   "execution_count": null,
   "metadata": {
    "collapsed": false
   },
   "outputs": [],
   "source": [
    "# populate lil_matrix dimensions\n",
    "mat = lil_matrix((size_tup[0],size_tup[1]),dtype=np.int32)\n",
    "populate_matrix()\n",
    "\n",
    "# convert lil_matrix to csr matrix for faster computation\n",
    "mat = mat.tocsr()\n",
    "dense_mat = mat.todense()"
   ]
  },
  {
   "cell_type": "code",
   "execution_count": null,
   "metadata": {
    "collapsed": false
   },
   "outputs": [],
   "source": [
    "triplets = get_triplet_list()"
   ]
  },
  {
   "cell_type": "code",
   "execution_count": null,
   "metadata": {
    "collapsed": false
   },
   "outputs": [],
   "source": [
    "# split triplet array into training and testing data\n",
    "train,test = train_test_split(triplets, train_size = 0.8)"
   ]
  },
  {
   "cell_type": "markdown",
   "metadata": {},
   "source": [
    "# Question 1 - OASIS Implementation"
   ]
  },
  {
   "cell_type": "code",
   "execution_count": null,
   "metadata": {
    "collapsed": false
   },
   "outputs": [],
   "source": [
    "w = csr_matrix(np.identity(n_vocab))\n",
    "c = 0.1"
   ]
  },
  {
   "cell_type": "code",
   "execution_count": null,
   "metadata": {
    "collapsed": true
   },
   "outputs": [],
   "source": [
    "def get_similarity_score(a,b):\n",
    "    temp_result = a.dot(w)\n",
    "    temp_result = csr_matrix(temp_result)\n",
    "    result = temp_result.dot(b)\n",
    "    return result[0,0]"
   ]
  },
  {
   "cell_type": "code",
   "execution_count": null,
   "metadata": {
    "collapsed": true
   },
   "outputs": [],
   "source": [
    "def get_loss(a_i,a_plus,a_neg):\n",
    "    res_a = get_similarity_score(a_i,a_plus.transpose())\n",
    "    res_b = get_similarity_score(a_i,a_neg.transpose())\n",
    "    val = 1-res_a+res_b\n",
    "    return max(0,val)"
   ]
  },
  {
   "cell_type": "code",
   "execution_count": null,
   "metadata": {
    "collapsed": false
   },
   "outputs": [],
   "source": [
    "for i in range(5000):\n",
    "    p_i = mat[train[i][0]]\n",
    "    p_plus = mat[train[i][1]]\n",
    "    p_neg = mat[train[i][2]]\n",
    "    \n",
    "    loss = get_loss(p_i,p_plus,p_neg)\n",
    "    print \"iterations \", i, \" Loss \", loss\n",
    "    p_i_dense = np.array(dense(p_i))\n",
    "    p_plus_dense = np.array(dense(p_plus))\n",
    "    p_neg_dense = np.array(dense(p_neg))\n",
    "    \n",
    "    diff = p_plus_dense - p_neg_dense\n",
    "    diff_t = diff.reshape(n_vocab,1)\n",
    "    v_i = np.tile(diff_t,(1,n_vocab)) * p_i_dense\n",
    "    v_i = np.transpose(v_i)\n",
    "    norm = np.linalg.norm(v_i, 'fro')\n",
    "    tau = min(c,loss/norm)\n",
    "    w = np.add(w,tau*v_i)\n",
    "    \n",
    "    t_loss = 0\n",
    "    if (i%50 == 0):\n",
    "        for k in range(len(test)):\n",
    "            t_i = mat[test[k][0]]\n",
    "            t_plus = mat[test[k][1]]\n",
    "            t_neg = mat[test[k][2]]\n",
    "            t_loss += get_loss(t_i,t_plus,t_neg)\n",
    "        print \"Testing Error\", t_loss"
   ]
  },
  {
   "cell_type": "code",
   "execution_count": null,
   "metadata": {
    "collapsed": true
   },
   "outputs": [],
   "source": []
  }
 ],
 "metadata": {
  "kernelspec": {
   "display_name": "Python 2",
   "language": "python",
   "name": "python2"
  },
  "language_info": {
   "codemirror_mode": {
    "name": "ipython",
    "version": 2
   },
   "file_extension": ".py",
   "mimetype": "text/x-python",
   "name": "python",
   "nbconvert_exporter": "python",
   "pygments_lexer": "ipython2",
   "version": "2.7.9"
  }
 },
 "nbformat": 4,
 "nbformat_minor": 0
}
