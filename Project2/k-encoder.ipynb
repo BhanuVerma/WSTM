{
 "cells": [
  {
   "cell_type": "markdown",
   "metadata": {
    "collapsed": false
   },
   "source": [
    "# CSE 6240 - Web Search & Text Mining - Project 2"
   ]
  },
  {
   "cell_type": "markdown",
   "metadata": {},
   "source": [
    "# k-Sparse Encoder"
   ]
  },
  {
   "cell_type": "code",
   "execution_count": 2,
   "metadata": {
    "collapsed": true
   },
   "outputs": [],
   "source": [
    "# __author__ = 'Bhanu Verma', 'Nilaksh Das'\n",
    "# GTid = '903151012', '903129996'"
   ]
  },
  {
   "cell_type": "code",
   "execution_count": 14,
   "metadata": {
    "collapsed": false
   },
   "outputs": [],
   "source": [
    "import numpy as np\n",
    "import matplotlib.pyplot as plt\n",
    "from sklearn.metrics import mean_squared_error\n",
    "import os\n",
    "import math\n",
    "from PIL import Image\n",
    "from sklearn import preprocessing\n",
    "from sklearn.cross_validation import train_test_split\n",
    "import tensorflow as tf\n",
    "from matplotlib.pyplot import imshow\n",
    "%matplotlib inline"
   ]
  },
  {
   "cell_type": "code",
   "execution_count": 15,
   "metadata": {
    "collapsed": false
   },
   "outputs": [],
   "source": [
    "categoryArr = []\n",
    "animal_path = 'Data/Animal'\n",
    "person_path = 'Data/Person'\n",
    "\n",
    "# animal:0, fungus:1, geo:2, person:3, plant:4, sport:5\n",
    "categoryArr = [animal_path, person_path]\n",
    "\n",
    "size_tuple = (16,16)\n",
    "count = 0\n",
    "enco_bat_size = 50\n",
    "category_count_list = [0,0]\n",
    "\n",
    "for i in range(len(categoryArr)):\n",
    "    cat_dir = os.listdir(categoryArr[i])\n",
    "    category_count_list[i] += len(cat_dir)\n",
    "    \n",
    "animal_data = np.zeros(shape=(category_count_list[0],size_tuple[0]*size_tuple[1]))\n",
    "person_data = np.zeros(shape=(category_count_list[1],size_tuple[0]*size_tuple[1]))"
   ]
  },
  {
   "cell_type": "code",
   "execution_count": 16,
   "metadata": {
    "collapsed": false
   },
   "outputs": [],
   "source": [
    "def get_image_data(path):\n",
    "    img = Image.open(path)\n",
    "    resized_img = img.resize(size_tuple)\n",
    "    img_arr = np.array(resized_img.convert('L')).flatten()\n",
    "    arr = img_arr\n",
    "    img.close()\n",
    "    \n",
    "    return arr            "
   ]
  },
  {
   "cell_type": "code",
   "execution_count": 17,
   "metadata": {
    "collapsed": true
   },
   "outputs": [],
   "source": [
    "def get_category_data(folder,data):\n",
    "    img_count = 0\n",
    "    category = os.listdir(folder)\n",
    "    for img_file in category:\n",
    "        path = folder + \"/\" + img_file\n",
    "        data[img_count] = get_image_data(path)\n",
    "        img_count += 1\n",
    "        if img_count % 200 == 0:\n",
    "            print('Number of images loaded from ', folder,\": \",img_count)\n",
    "    return data"
   ]
  },
  {
   "cell_type": "code",
   "execution_count": 18,
   "metadata": {
    "collapsed": false
   },
   "outputs": [
    {
     "name": "stdout",
     "output_type": "stream",
     "text": [
      "Number of images loaded from  Data/Animal :  200\n",
      "Number of images loaded from  Data/Animal :  400\n",
      "Number of images loaded from  Data/Animal :  600\n",
      "Number of images loaded from  Data/Animal :  800\n",
      "Number of images loaded from  Data/Animal :  1000\n",
      "Number of images loaded from  Data/Animal :  1200\n",
      "Number of images loaded from  Data/Animal :  1400\n",
      "Number of images loaded from  Data/Person :  200\n",
      "Number of images loaded from  Data/Person :  400\n",
      "Number of images loaded from  Data/Person :  600\n",
      "Number of images loaded from  Data/Person :  800\n",
      "Number of images loaded from  Data/Person :  1000\n",
      "Number of images loaded from  Data/Person :  1200\n"
     ]
    }
   ],
   "source": [
    "animal_data = get_category_data(animal_path,animal_data)\n",
    "person_data = get_category_data(person_path,person_data)"
   ]
  },
  {
   "cell_type": "code",
   "execution_count": 19,
   "metadata": {
    "collapsed": true
   },
   "outputs": [],
   "source": [
    "# Standard preprocessing of data\n",
    "scale = preprocessing.StandardScaler().fit(animal_data)\n",
    "scaled_animal_data = scale.transform(animal_data)\n",
    "\n",
    "scale = preprocessing.StandardScaler().fit(person_data)\n",
    "scaled_person_data = scale.transform(person_data)"
   ]
  },
  {
   "cell_type": "code",
   "execution_count": 20,
   "metadata": {
    "collapsed": false
   },
   "outputs": [
    {
     "name": "stdout",
     "output_type": "stream",
     "text": [
      "(315, 256) (1256, 256)\n",
      "(249, 256) (993, 256)\n"
     ]
    }
   ],
   "source": [
    "# split data into training and testing data\n",
    "training_animal_data,testing_animal_data = train_test_split(scaled_animal_data, train_size=0.8, random_state=42)\n",
    "training_person_data,testing_person_data = train_test_split(scaled_person_data, train_size=0.8, random_state=42)\n",
    "\n",
    "print(testing_animal_data.shape,training_animal_data.shape)\n",
    "print(testing_person_data.shape,training_person_data.shape)"
   ]
  },
  {
   "cell_type": "code",
   "execution_count": 22,
   "metadata": {
    "collapsed": false,
    "scrolled": true
   },
   "outputs": [],
   "source": [
    "def auto_encoder(training_data,number_iterations,learning_rate, errors, layers, sparsity_level, sparse=False):\n",
    "    top_k_layers = [int(sparsity_level * a) for a in layers]\n",
    "    sess = tf.Session()\n",
    "    start = 0\n",
    "    end = start + enco_bat_size\n",
    "    original_data_dim = training_data.shape[1]\n",
    "    with sess.as_default():\n",
    "        hidden_dim = layers[0]\n",
    "        input_dim = original_data_dim\n",
    "        x = tf.placeholder(\"float\", [None, input_dim])\n",
    "        W1 = tf.Variable(tf.random_uniform([input_dim, hidden_dim], -1.0 / math.sqrt(input_dim),\\\n",
    "                                          1.0 / math.sqrt(input_dim)))\n",
    "        b1 = tf.Variable(tf.zeros([hidden_dim]))\n",
    "        z1 = tf.nn.tanh(tf.matmul(x,W1) + b1)\n",
    "        \n",
    "        if sparse:\n",
    "            vals,indices = tf.nn.top_k(z1,top_k_layers[0])\n",
    "            k_largest = tf.reduce_min(vals,reduction_indices=[1])\n",
    "            k_largest = tf.cast(k_largest,tf.float32)\n",
    "            k_largest = tf.reshape(k_largest,[enco_bat_size,1])\n",
    "            z_new = tf.sub(z1,k_largest)\n",
    "            z_new = tf.nn.relu(z_new)\n",
    "        else:\n",
    "            z_new = z1\n",
    "        \n",
    "        input_dim = hidden_dim\n",
    "        hidden_dim = layers[1]\n",
    "        W2 = tf.Variable(tf.random_uniform([input_dim, hidden_dim], -1.0 / math.sqrt(input_dim),\\\n",
    "                                          1.0 / math.sqrt(input_dim)))\n",
    "        b2 = tf.Variable(tf.zeros([hidden_dim]))\n",
    "        z2 = tf.nn.tanh(tf.matmul(z1,W2) + b2)\n",
    "        \n",
    "        if sparse:\n",
    "            vals,indices = tf.nn.top_k(z2,top_k_layers[1])\n",
    "            k_largest = tf.reduce_min(vals,reduction_indices=[1])\n",
    "            k_largest = tf.cast(k_largest,tf.float32)\n",
    "            k_largest = tf.reshape(k_largest,[enco_bat_size,1])\n",
    "            z_new = tf.sub(z2,k_largest)\n",
    "            z_new = tf.nn.relu(z_new)\n",
    "        else:\n",
    "            z_new = z2\n",
    "        \n",
    "        Wdash2 = tf.transpose(W2)\n",
    "        bdash2 = tf.Variable(tf.zeros([layers[0]]))\n",
    "        reconstructed_x1 = tf.nn.tanh(tf.matmul(z_new,Wdash2) + bdash2)\n",
    "        \n",
    "        \n",
    "        Wdash1 = tf.transpose(W1)\n",
    "        bdash1 = tf.Variable(tf.zeros([original_data_dim]))\n",
    "        reconstructed_x = tf.nn.tanh(tf.matmul(reconstructed_x1,Wdash1) + bdash1)\n",
    "        \n",
    "\n",
    "        error = tf.reduce_mean(tf.square(x-reconstructed_x))\n",
    "        train_step = tf.train.GradientDescentOptimizer(learning_rate).minimize(error)\n",
    "        init = tf.initialize_all_variables()\n",
    "        sess.run(init)\n",
    "\n",
    "        for i in range(number_iterations): \n",
    "            batch_rows = np.random.choice(range(0,training_data.shape[0]), enco_bat_size, replace=False)\n",
    "            batch = training_data[batch_rows][:]\n",
    "            sess.run(train_step, feed_dict={x: batch})\n",
    "            e = sess.run(error, feed_dict={x: batch})\n",
    "            errors.append(e)\n",
    "        print(\"Autoencoder training done\")\n",
    "        w1_final = sess.run(W1)\n",
    "        b1_final = sess.run(b1)\n",
    "        w2_final = sess.run(W2)\n",
    "        b2_final = sess.run(b2)\n",
    "        w1_dash_final = sess.run(Wdash1)\n",
    "        b1_dash_final = sess.run(bdash1)\n",
    "        w2_dash_final = sess.run(Wdash2)\n",
    "        b2_dash_final = sess.run(bdash2)\n",
    "        ws = [w1_final,w2_final]\n",
    "        ws_dash = [w1_dash_final,w2_dash_final]\n",
    "        bs = [b1_final, b2_final]\n",
    "        bs_dash = [b1_dash_final,b2_dash_final]\n",
    "    return ws,ws_dash,bs,bs_dash\n",
    "\n"
   ]
  },
  {
   "cell_type": "code",
   "execution_count": 23,
   "metadata": {
    "collapsed": false
   },
   "outputs": [],
   "source": [
    "def get_testing_error(testing_data,ws,bs,ws_dash,bs_dash,sparse=False):\n",
    "    top_k_layers = [int(sparsity_level * a) for a in layers]\n",
    "    errors = []\n",
    "    sess2 = tf.Session()\n",
    "    input_dim = testing_data.shape[1]\n",
    "    with sess2.as_default():\n",
    "        w1 = tf.Variable(ws[0],dtype=tf.float32)\n",
    "        b1 = tf.Variable(bs[0],dtype=tf.float32)\n",
    "        w2 = tf.Variable(ws[1],dtype=tf.float32)\n",
    "        b2 = tf.Variable(bs[1],dtype=tf.float32)\n",
    "\n",
    "        w1_dash = tf.Variable(ws_dash[0],dtype=tf.float32)\n",
    "        b1_dash = tf.Variable(bs_dash[0],dtype=tf.float32)\n",
    "        w2_dash = tf.Variable(ws_dash[1],dtype=tf.float32)\n",
    "        b2_dash = tf.Variable(bs_dash[1],dtype=tf.float32)\n",
    "        \n",
    "        x = tf.placeholder(\"float\", [None, input_dim])\n",
    "        z1 = tf.nn.tanh(tf.matmul(x,w1) + b1) \n",
    "        \n",
    "        if sparse:\n",
    "            vals,indices = tf.nn.top_k(z1,top_k_layers[0])\n",
    "            k_largest = tf.reduce_min(vals,reduction_indices=[1])\n",
    "            k_largest = tf.cast(k_largest,tf.float32)\n",
    "            k_largest = tf.reshape(k_largest,[1,1])\n",
    "            z_new = tf.sub(z1,k_largest)\n",
    "            z_new = tf.nn.relu(z_new)\n",
    "        else:\n",
    "            z_new = z1\n",
    "            \n",
    "        z2 = tf.nn.tanh(tf.matmul(z_new,w2) + b2) \n",
    "        if sparse:\n",
    "            vals,indices = tf.nn.top_k(z1,top_k_layers[1])\n",
    "            k_largest = tf.reduce_min(vals,reduction_indices=[1])\n",
    "            k_largest = tf.cast(k_largest,tf.float32)\n",
    "            k_largest = tf.reshape(k_largest,[1,1])\n",
    "            z_new = tf.sub(z2,k_largest)\n",
    "            z_new = tf.nn.relu(z_new)\n",
    "        else:\n",
    "            z_new = z2\n",
    "            \n",
    "        reconstructed_x1 = tf.nn.tanh(tf.matmul(z_new,w2_dash) + b2_dash)\n",
    "        reconstructed_x = tf.nn.tanh(tf.matmul(reconstructed_x1,w1_dash) + b1_dash)\n",
    "        error = tf.reduce_mean(tf.square(x-reconstructed_x))\n",
    "        init = tf.initialize_all_variables()\n",
    "        sess2.run(init)\n",
    "\n",
    "        for i in range(len(testing_data)): \n",
    "            batch = testing_data[i][:].reshape((1,input_dim))\n",
    "            e = sess2.run(error, feed_dict={x: batch})\n",
    "            errors.append(e)\n",
    "        print(\"Test error calculated\")\n",
    "        return np.mean(errors)"
   ]
  },
  {
   "cell_type": "code",
   "execution_count": 24,
   "metadata": {
    "collapsed": false
   },
   "outputs": [
    {
     "name": "stdout",
     "output_type": "stream",
     "text": [
      "0.9\n",
      "Autoencoder training done\n",
      "Test error calculated\n",
      "0.8\n",
      "Autoencoder training done\n",
      "Test error calculated\n"
     ]
    }
   ],
   "source": [
    "sparsity_levels = [0.9,0.8]\n",
    "errors_sparsity = []\n",
    "person_errors_sparse = []\n",
    "layers = [50,40]\n",
    "for sparsity_level in sparsity_levels:\n",
    "    print(sparsity_level)\n",
    "    errors = []\n",
    "    ws,ws_dash,bs,bs_dash = auto_encoder(training_person_data,10000,0.03,errors,layers,sparsity_level,True)\n",
    "    person_errors_sparse.append(errors)\n",
    "    test_error = get_testing_error(testing_person_data,ws,bs,ws_dash,bs_dash,sparse=True)\n",
    "    errors_sparsity.append(test_error)"
   ]
  },
  {
   "cell_type": "code",
   "execution_count": 25,
   "metadata": {
    "collapsed": false
   },
   "outputs": [
    {
     "name": "stdout",
     "output_type": "stream",
     "text": [
      "[0.6246019, 0.59579772]\n"
     ]
    }
   ],
   "source": [
    "print(errors_sparsity)"
   ]
  },
  {
   "cell_type": "code",
   "execution_count": 15,
   "metadata": {
    "collapsed": false
   },
   "outputs": [
    {
     "data": {
      "image/png": "[encoded data removed]",
      "text/plain": [
       "<matplotlib.figure.Figure at 0x110d275f8>"
      ]
     },
     "metadata": {},
     "output_type": "display_data"
    }
   ],
   "source": [
    "plt.figure(figsize=(10,5))\n",
    "plt.axis([0,len(errors_sparsity)-1,0.0,1.0])\n",
    "plt.plot(errors_sparsity,'ko-', color='blue', linewidth=1.0)\n",
    "plt.show()"
   ]
  },
  {
   "cell_type": "code",
   "execution_count": null,
   "metadata": {
    "collapsed": false
   },
   "outputs": [],
   "source": [
    "# plt.figure(figsize=(20,10))\n",
    "# plt.plot(person_errors,c='b')\n",
    "# plt.plot(person_errors_sparse,c='g')\n",
    "# plt.show()\n",
    "\n",
    "# print min(person_errors),min(person_errors_sparse)"
   ]
  },
  {
   "cell_type": "code",
   "execution_count": null,
   "metadata": {
    "collapsed": false
   },
   "outputs": [],
   "source": [
    "std_scale = preprocessing.StandardScaler().fit(errors)\n",
    "scaled_errors_train = std_scale.transform(errors)\n",
    "# std_scale = preprocessing.StandardScaler().fit(errors_test)\n",
    "# scaled_errors = std_scale.transform(errors_test)"
   ]
  },
  {
   "cell_type": "code",
   "execution_count": null,
   "metadata": {
    "collapsed": false
   },
   "outputs": [],
   "source": [
    "plt.figure()\n",
    "plt.plot(scaled_errors_train)\n",
    "plt.show()"
   ]
  },
  {
   "cell_type": "code",
   "execution_count": null,
   "metadata": {
    "collapsed": false
   },
   "outputs": [],
   "source": [
    "plt.figure()\n",
    "plt.plot(e)\n",
    "plt.show()"
   ]
  },
  {
   "cell_type": "code",
   "execution_count": null,
   "metadata": {
    "collapsed": true
   },
   "outputs": [],
   "source": []
  }
 ],
 "metadata": {
  "kernelspec": {
   "display_name": "Python 2",
   "language": "python",
   "name": "python2"
  },
  "language_info": {
   "codemirror_mode": {
    "name": "ipython",
    "version": 3
   },
   "file_extension": ".py",
   "mimetype": "text/x-python",
   "name": "python",
   "nbconvert_exporter": "python",
   "pygments_lexer": "ipython3",
   "version": "3.5.1"
  }
 },
 "nbformat": 4,
 "nbformat_minor": 0
}
