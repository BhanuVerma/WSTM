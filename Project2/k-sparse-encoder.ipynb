{
 "cells": [
  {
   "cell_type": "markdown",
   "metadata": {},
   "source": [
    "# CSE 6240 - Web Search & Text Mining - Project 2\n",
    "\n",
    "# k-Sparse Encoder"
   ]
  },
  {
   "cell_type": "code",
   "execution_count": 4,
   "metadata": {
    "collapsed": true
   },
   "outputs": [],
   "source": [
    "# __author__ = 'Bhanu Verma', 'Nilaksh Das'\n",
    "# GTid = '903151012', '903129996'"
   ]
  },
  {
   "cell_type": "code",
   "execution_count": 17,
   "metadata": {
    "collapsed": false
   },
   "outputs": [],
   "source": [
    "import numpy as np\n",
    "import os\n",
    "import math\n",
    "from PIL import Image\n",
    "from matplotlib.pyplot import imshow\n",
    "from sklearn import preprocessing\n",
    "import tensorflow as tf\n",
    "import matplotlib.pyplot as plt\n",
    "from sklearn.cross_validation import train_test_split\n",
    "%matplotlib inline"
   ]
  },
  {
   "cell_type": "code",
   "execution_count": 38,
   "metadata": {
    "collapsed": false
   },
   "outputs": [],
   "source": [
    "categoryArr = []\n",
    "learning_rates = [0.9,0.7,0.5,0.3]\n",
    "errors_animal, errors_person = [], [ ]\n",
    "animal_path = 'data/Animal'\n",
    "person_path = 'data/Person'\n",
    "\n",
    "# animal:0, fungus:1, geo:2, person:3, plant:4, sport:5\n",
    "categoryArr = [animal_path, person_path]\n",
    "\n",
    "size_tuple = (16,16)\n",
    "count = 0\n",
    "batch_size = 50\n",
    "category_count_list = [0,0]\n",
    "\n",
    "for i in range(len(categoryArr)):\n",
    "    cat_dir = os.listdir(categoryArr[i])\n",
    "    category_count_list[i] += len(cat_dir)\n",
    "    \n",
    "animal_data = np.zeros(shape=(category_count_list[0],size_tuple[0]*size_tuple[1]))\n",
    "person_data = np.zeros(shape=(category_count_list[1],size_tuple[0]*size_tuple[1]))"
   ]
  },
  {
   "cell_type": "code",
   "execution_count": 10,
   "metadata": {
    "collapsed": true
   },
   "outputs": [],
   "source": [
    "def get_image(path):\n",
    "    img = Image.open(path)\n",
    "    resized_img = img.resize(size_tuple)\n",
    "    img_arr = np.array(resized_img.convert('L')).flatten()\n",
    "    arr = img_arr\n",
    "    img.close()\n",
    "    return arr            "
   ]
  },
  {
   "cell_type": "code",
   "execution_count": 13,
   "metadata": {
    "collapsed": true
   },
   "outputs": [],
   "source": [
    "def get_category_data(folder,data):\n",
    "    img_count = 0\n",
    "    category = os.listdir(folder)\n",
    "    for img_file in category:\n",
    "        path = folder + \"/\" + img_file\n",
    "        if 'JPEG' in path:\n",
    "            data[img_count] = get_image(path)\n",
    "            img_count += 1\n",
    "            if img_count % 200 == 0:\n",
    "                print('Number of images loaded from ', folder,\": \",img_count)\n",
    "    return data"
   ]
  },
  {
   "cell_type": "code",
   "execution_count": 14,
   "metadata": {
    "collapsed": false
   },
   "outputs": [
    {
     "name": "stdout",
     "output_type": "stream",
     "text": [
      "('Number of images loaded from ', 'data/Animal', ': ', 200)\n",
      "('Number of images loaded from ', 'data/Animal', ': ', 400)\n",
      "('Number of images loaded from ', 'data/Animal', ': ', 600)\n",
      "('Number of images loaded from ', 'data/Animal', ': ', 800)\n",
      "('Number of images loaded from ', 'data/Animal', ': ', 1000)\n",
      "('Number of images loaded from ', 'data/Animal', ': ', 1200)\n",
      "('Number of images loaded from ', 'data/Animal', ': ', 1400)\n",
      "('Number of images loaded from ', 'data/Animal', ': ', 1600)\n",
      "('Number of images loaded from ', 'data/Person', ': ', 200)\n",
      "('Number of images loaded from ', 'data/Person', ': ', 400)\n",
      "('Number of images loaded from ', 'data/Person', ': ', 600)\n",
      "('Number of images loaded from ', 'data/Person', ': ', 800)\n",
      "('Number of images loaded from ', 'data/Person', ': ', 1000)\n",
      "('Number of images loaded from ', 'data/Person', ': ', 1200)\n"
     ]
    }
   ],
   "source": [
    "animal_data = get_category_data(animal_path,animal_data)\n",
    "person_data = get_category_data(person_path,person_data)"
   ]
  },
  {
   "cell_type": "code",
   "execution_count": 25,
   "metadata": {
    "collapsed": false
   },
   "outputs": [],
   "source": [
    "# Standard preprocessing of data\n",
    "scale = preprocessing.StandardScaler().fit(animal_data)\n",
    "scaled_animal_data = scale.transform(animal_data)\n",
    "\n",
    "scale = preprocessing.StandardScaler().fit(person_data)\n",
    "scaled_person_data = scale.transform(person_data)"
   ]
  },
  {
   "cell_type": "code",
   "execution_count": 26,
   "metadata": {
    "collapsed": false
   },
   "outputs": [
    {
     "name": "stdout",
     "output_type": "stream",
     "text": [
      "((345, 256), (1377, 256))\n",
      "((278, 256), (1109, 256))\n"
     ]
    }
   ],
   "source": [
    "# split data into training and testing data\n",
    "training_animal_data,testing_animal_data = train_test_split(scaled_animal_data, train_size=0.8, random_state=42)\n",
    "training_person_data,testing_person_data = train_test_split(scaled_person_data, train_size=0.8, random_state=42)\n",
    "\n",
    "print(testing_animal_data.shape,training_animal_data.shape)\n",
    "print(testing_person_data.shape,training_person_data.shape)"
   ]
  },
  {
   "cell_type": "code",
   "execution_count": 27,
   "metadata": {
    "collapsed": false
   },
   "outputs": [
    {
     "name": "stdout",
     "output_type": "stream",
     "text": [
      "(100, 256) (100, 256)\n",
      "(100, 256) (100, 256)\n"
     ]
    }
   ],
   "source": [
    "training_animal_data = training_animal_data[:100]\n",
    "testing_animal_data = testing_animal_data[:100]\n",
    "training_person_data = training_person_data[:100]\n",
    "testing_person_data = testing_person_data[:100]\n",
    "\n",
    "all_training = np.vstack((training_person_data,training_animal_data))\n",
    "all_testing = np.vstack((testing_person_data,testing_animal_data))\n",
    "\n",
    "print training_person_data.shape,testing_person_data.shape\n",
    "print training_animal_data.shape,testing_animal_data.shape"
   ]
  },
  {
   "cell_type": "code",
   "execution_count": 40,
   "metadata": {
    "collapsed": false,
    "scrolled": true
   },
   "outputs": [],
   "source": [
    "def AutoEncoder(data ,number_iterations, lr, total_errors, data_layers, scale_isSparse, isSparse=False):\n",
    "    layer_sizes = [int(scale_isSparse * item) for item in data_layers]\n",
    "    data_shape_1 = data.shape[1]\n",
    "\n",
    "    sess = tf.Session()\n",
    "\n",
    "    with sess.as_default():\n",
    "\n",
    "        hidden_size = data_layers[0]\n",
    "        input_size = data_shape_1\n",
    "        x = tf.placeholder(\"float\", [None, input_size])\n",
    "        W_1 = tf.Variable(tf.random_uniform([input_size, hidden_size], -1.0 / math.sqrt(input_size),\\\n",
    "                                          1.0 / math.sqrt(input_size)))\n",
    "        b_1 = tf.Variable(tf.zeros([hidden_size]))\n",
    "        z_1 = tf.nn.tanh(tf.matmul(x,W_1) + b_1)\n",
    "        \n",
    "        if isSparse:\n",
    "            values, idx = tf.nn.top_k(z_1,layer_sizes[0])\n",
    "            largest_element = tf.reduce_min(values,reduction_indices=[1])\n",
    "            largest_element = tf.cast(largest_element,tf.float32)\n",
    "            largest_element = tf.reshape(largest_element,[batch_size,1])\n",
    "            z_updated = tf.sub(z_1,largest_element)\n",
    "            z_updated = tf.nn.relu(z_updated)\n",
    "        else:\n",
    "            z_updated = z_1\n",
    "        \n",
    "        input_size = hidden_size\n",
    "        hidden_size = data_layers[1]\n",
    "        W_2 = tf.Variable(tf.random_uniform([input_size, hidden_size], -1.0 / math.sqrt(input_size),\\\n",
    "                                          1.0 / math.sqrt(input_size)))\n",
    "        b_2 = tf.Variable(tf.zeros([hidden_size]))\n",
    "        z_2 = tf.nn.tanh(tf.matmul(z_1,W_2) + b_2)\n",
    "        \n",
    "        if isSparse:\n",
    "            values,idx = tf.nn.top_k(z_2,layer_sizes[1])\n",
    "            largest_element = tf.reduce_min(values,reduction_indices=[1])\n",
    "            largest_element = tf.cast(largest_element,tf.float32)\n",
    "            largest_element = tf.reshape(largest_element,[batch_size,1])\n",
    "            z_updated = tf.sub(z_2,largest_element)\n",
    "            z_updated = tf.nn.relu(z_updated)\n",
    "        else:\n",
    "            z_updated = z_2\n",
    "\n",
    "       \n",
    "        Wdash2 = tf.transpose(W_2)\n",
    "        bdash2 = tf.Variable(tf.zeros([data_layers[0]]))\n",
    "        reconstructed_x_2 = tf.nn.tanh(tf.matmul(z_updated,Wdash2) + bdash2)\n",
    "        \n",
    "        W_dash_1 = tf.transpose(W_1)\n",
    "        b_dash_1 = tf.Variable(tf.zeros([data_shape_1]))\n",
    "        reconstructed_x_1 = tf.nn.tanh(tf.matmul(reconstructed_x_2,W_dash_1) + b_dash_1)\n",
    "        \n",
    "\n",
    "        error = tf.reduce_mean(tf.square(x-reconstructed_x_1))\n",
    "        train_step = tf.train.GradientDescentOptimizer(lr).minimize(error)\n",
    "        init = tf.initialize_all_variables()\n",
    "        sess.run(init)\n",
    "\n",
    "        for i in range(number_iterations): \n",
    "            batch_rows = np.random.choice(range(0,data.shape[0]), batch_size, replace=False)\n",
    "            batch = data[batch_rows][:]\n",
    "            sess.run(train_step, feed_dict={x: batch})\n",
    "            total_errors.append(sess.run(error, feed_dict={x: batch}))\n",
    "\n",
    "        print(\"Training completed for learning rate\",lr)\n",
    "        \n",
    "        W_1_final = sess.run(W_1)\n",
    "        b_1_final = sess.run(b_1)\n",
    "        W_2_final = sess.run(W_2)\n",
    "        b_2_final = sess.run(b_2)\n",
    "\n",
    "        W_1_dash_final = sess.run(W_dash_1)\n",
    "        b_1_dash_final = sess.run(b_dash_1)\n",
    "        W_2_dash_final = sess.run(Wdash2)\n",
    "        b_2_dash_final = sess.run(bdash2)\n",
    "        \n",
    "    print \"Completed running autoencoder\"\n",
    "\n",
    "    return [W_1_final,W_2_final],[W_1_dash_final,W_2_dash_final],\\\n",
    "                [b_1_final, b_2_final],[b_1_dash_final,b_2_dash_final]"
   ]
  },
  {
   "cell_type": "code",
   "execution_count": 41,
   "metadata": {
    "collapsed": false
   },
   "outputs": [],
   "source": [
    "def cal_test_errors(data,WS,BS,WS_,BS_,isSparse=False):\n",
    "    \n",
    "    total_errors = []\n",
    "    sess = tf.Session()\n",
    "    input_shape_1 = data.shape[1]\n",
    "    with sess.as_default():\n",
    "\n",
    "        input_shape_1 = tf.Variable(WS[0],dtype=tf.float32)\n",
    "        b_1 = tf.Variable(BS[0],dtype=tf.float32)\n",
    "        w_2 = tf.Variable(WS[1],dtype=tf.float32)\n",
    "        b_2 = tf.Variable(BS[1],dtype=tf.float32)\n",
    "\n",
    "        w_1_ = tf.Variable(WS_[0],dtype=tf.float32)\n",
    "        b_1_ = tf.Variable(BS_[0],dtype=tf.float32)\n",
    "        w_2_ = tf.Variable(WS_[1],dtype=tf.float32)\n",
    "        b_2_ = tf.Variable(BS_[1],dtype=tf.float32)\n",
    "        \n",
    "        x = tf.placeholder(\"float\", [None, input_shape_1])\n",
    "        z_1 = tf.nn.tanh(tf.matmul(x,w_1) + b_1) \n",
    "        \n",
    "        if isSparse:\n",
    "\n",
    "            values,idxs = tf.nn.top_k(z_1,top_k_layers[0])\n",
    "            largest_value = tf.reduce_min(values,reduction_indices=[1])\n",
    "            largest_value = tf.cast(largest_value,tf.float32)\n",
    "            largest_value = tf.reshape(largest_value,[1,1])\n",
    "            z_new = tf.sub(z_1,largest_value)\n",
    "            z_new = tf.nn.relu(z_new)\n",
    "        else:\n",
    "            z_new = z_1\n",
    "            \n",
    "        z2 = tf.nn.tanh(tf.matmul(z_new,w_2) + b_2) \n",
    "\n",
    "        if isSparse:\n",
    "\n",
    "            values,idxs = tf.nn.top_k(z_1,top_k_layers[1])\n",
    "            largest_value = tf.reduce_min(values,reduction_indices=[1])\n",
    "            largest_value = tf.cast(largest_value,tf.float32)\n",
    "            largest_value = tf.reshape(largest_value,[1,1])\n",
    "            z_new = tf.sub(z2,largest_value)\n",
    "            z_new = tf.nn.relu(z_new)\n",
    "        else:\n",
    "            z_new = z2\n",
    "            \n",
    "        x_1_reconstructed = tf.nn.tanh(tf.matmul(z_new,w_2_) + b_2_)\n",
    "        x_reconstructed = tf.nn.tanh(tf.matmul(x_1_reconstructed,w_1_) + b_1_)\n",
    "        error = tf.reduce_mean(tf.square(x-x_reconstructed))\n",
    "        init = tf.initialize_all_variables()\n",
    "        sess.run(init)\n",
    "\n",
    "        for i in range(len(data)): \n",
    "            batch = data[i][:].reshape((1,input_shape_1))\n",
    "            total_errors.append(sess.run(error, feed_dict={x: batch}))\n",
    "\n",
    "        return np.mean(total_errors)"
   ]
  },
  {
   "cell_type": "markdown",
   "metadata": {},
   "source": [
    "# Dataset 1 - Person\n",
    "    Train using the sparse encoder with sparsity 0.7 where we scale the number of hidden units to 70% of the input units."
   ]
  },
  {
   "cell_type": "markdown",
   "metadata": {},
   "source": [
    "### Learning rates vs test error"
   ]
  },
  {
   "cell_type": "code",
   "execution_count": 43,
   "metadata": {
    "collapsed": false,
    "scrolled": true
   },
   "outputs": [],
   "source": [
    "learning_rates = [0.8,0.6,0.4]\n",
    "layer_sizes = [70,80]\n",
    "errors_for_varying_learning_rates = []\n",
    "for lr in learning_rates:\n",
    "    errors_for_persons = []\n",
    "    WS,WS_,BS,BS_ = AutoEncoder(training_person_data,1000,lr,errors_for_persons,layer_sizes,0.9,True)\n",
    "    errors_for_varying_learning_rates.append(cal_test_errors(testing_person_data,WS,WS_,BS,BS_,isSparse=False))"
   ]
  },
  {
   "cell_type": "code",
   "execution_count": 51,
   "metadata": {
    "collapsed": false
   },
   "outputs": [
    {
     "data": {
      "image/png": "[encoded data removed]",
      "text/plain": [
       "<matplotlib.figure.Figure at 0x11381ff10>"
      ]
     },
     "metadata": {},
     "output_type": "display_data"
    }
   ],
   "source": [
    "plt.figure(figsize=(10,5))\n",
    "plt.axis([0,len(learning_rates)-1,0.0,1.0])\n",
    "plt.plot(learning_rates,'ko-', color='green', linewidth=2.0)\n",
    "plt.title(\"Plottting errors\")\n",
    "plt.xlabel(\"Learning Rates\")\n",
    "plt.ylabel(\"Errors\")\n",
    "plt.show()"
   ]
  },
  {
   "cell_type": "markdown",
   "metadata": {},
   "source": [
    "### SUMMARY\n",
    "\n",
    "The error rate increases for different learning rates for fixed number of iterations as lower learning rates take a longer time to converge. For more iterations, slower learning rates may give better accuracy."
   ]
  },
  {
   "cell_type": "code",
   "execution_count": 52,
   "metadata": {
    "collapsed": false,
    "scrolled": true
   },
   "outputs": [],
   "source": [
    "### Sparsity level vs test error\n",
    "sparsity_levels = [0.9,0.5,0.1]\n",
    "errors_sparsity, person_errors_sparse= [], []\n",
    "layers = [50,60]\n",
    "for sparsity_level in sparsity_levels:\n",
    "    errors = []\n",
    "    ws,ws_dash,bs,bs_dash = auto_encoder(training_data_person,1000,0.3,errors,layers,sparsity_level,True)\n",
    "    person_errors_sparse.append(errors)\n",
    "    test_error = get_test_error(testing_data_person,ws,bs,ws_dash,bs_dash,sparse=True)\n",
    "    errors_sparsity_p.append(test_error)"
   ]
  },
  {
   "cell_type": "code",
   "execution_count": 54,
   "metadata": {
    "collapsed": false
   },
   "outputs": [
    {
     "data": {
      "image/png": "[encoded data removed]",
      "text/plain": [
       "<matplotlib.figure.Figure at 0x113657150>"
      ]
     },
     "metadata": {},
     "output_type": "display_data"
    }
   ],
   "source": [
    "plt.figure(figsize=(8,5))\n",
    "plt.axis([0,len(errors_sparsity),0.0,1.0])\n",
    "plt.plot(errors_sparsity,'ko-', color='green', linewidth=2.0)\n",
    "plt.title(\"Plotting errors based on sparsity\")\n",
    "plt.xlabel(\"Sparsity Levels\")\n",
    "plt.ylabel(\"Errors\")\n",
    "plt.show()"
   ]
  },
  {
   "cell_type": "markdown",
   "metadata": {},
   "source": [
    "### Summary\n",
    "\n",
    "    Increasing sparsity gives higher errors. We need to modulate the sparsity and hidden layers to obtain an optimal value"
   ]
  },
  {
   "cell_type": "markdown",
   "metadata": {
    "collapsed": true
   },
   "source": [
    "### Number of neurons in the hidden layer vs Testing error"
   ]
  },
  {
   "cell_type": "code",
   "execution_count": 55,
   "metadata": {
    "collapsed": false,
    "scrolled": true
   },
   "outputs": [],
   "source": [
    "for hidden_dim in hidden_units:\n",
    "    errors = []\n",
    "    ws,ws_dash,bs,bs_dash = auto_encoder(training_data_person,1000,0.5,errors,[hidden_dim,60],sparsity_level,True)\n",
    "    person_errors_hidden.append(errors)\n",
    "    test_error = get_test_error(testing_data_person,ws,bs,ws_dash,bs_dash,sparse=True)\n",
    "    errors_hidden_unit_p.append(test_error)"
   ]
  },
  {
   "cell_type": "code",
   "execution_count": 60,
   "metadata": {
    "collapsed": false
   },
   "outputs": [
    {
     "data": {
      "image/png": "[encoded data removed]",
      "text/plain": [
       "<matplotlib.figure.Figure at 0x111c50510>"
      ]
     },
     "metadata": {},
     "output_type": "display_data"
    }
   ],
   "source": [
    "plt.figure(figsize=(10,5))\n",
    "plt.title(\"Number of neurons in the hidden layer vs Testing error\")\n",
    "plt.xlabel(\"No of hidden units\")\n",
    "plt.ylabel(\"Errors\")\n",
    "plt.plot(hidden_units,errors_hidden_unit_p,color='green',linewidth=1.0)\n",
    "plt.show()"
   ]
  },
  {
   "cell_type": "markdown",
   "metadata": {},
   "source": [
    "# Dataset 2 - Animal\n",
    "\n",
    "__Plotting errors for varying learning rates__"
   ]
  },
  {
   "cell_type": "code",
   "execution_count": 61,
   "metadata": {
    "collapsed": false,
    "scrolled": true
   },
   "outputs": [],
   "source": [
    "for lr in learning_rates:\n",
    "    layers = [50,40]\n",
    "    animal_errors = []\n",
    "    ws,ws_dash,bs,bs_dash = AutoEncoder(training_data_animal,2000,lr,animal_errors,layers,0.2,True)\n",
    "    errors_learning_rates_s.append(calc_test_error(testing_data_animal,ws,bs,ws_dash,bs_dash,sparse=False))"
   ]
  },
  {
   "cell_type": "code",
   "execution_count": 63,
   "metadata": {
    "collapsed": false
   },
   "outputs": [
    {
     "data": {
      "image/png": "[encoded data removed]",
      "text/plain": [
       "<matplotlib.figure.Figure at 0x11288f9d0>"
      ]
     },
     "metadata": {},
     "output_type": "display_data"
    }
   ],
   "source": [
    "plt.figure(figsize=(10,5))\n",
    "plt.axis([0,len(learning_rates)-1,0.0,1.0])\n",
    "plt.plot(learning_rates,'ko-', color='green', linewidth=1.0)\n",
    "plt.title(\"Plotting errors for varying learning rates\")\n",
    "plt.xlabel(\"Learning Rates\")\n",
    "plt.ylabel(\"Errors\")\n",
    "plt.show()"
   ]
  },
  {
   "cell_type": "markdown",
   "metadata": {},
   "source": [
    "__Sparsity level vs test error__"
   ]
  },
  {
   "cell_type": "code",
   "execution_count": 64,
   "metadata": {
    "collapsed": false
   },
   "outputs": [],
   "source": [
    "for sparsity_level in sparsity_levels:\n",
    "    errors = []\n",
    "    ws,ws_dash,bs,bs_dash = auto_encoder(training_data_animal,1000,0.5,errors_animal,layers,sparsity_level,True)\n",
    "    test_error = get_test_error(testing_data_animal,ws,bs,ws_dash,bs_dash,sparse=True)\n",
    "    errors_animal_sparse.append(test_error)"
   ]
  },
  {
   "cell_type": "code",
   "execution_count": 245,
   "metadata": {
    "collapsed": false
   },
   "outputs": [
    {
     "data": {
      "image/png": "[encoded data removed]",
      "text/plain": [
       "<matplotlib.figure.Figure at 0x7f49c070e890>"
      ]
     },
     "metadata": {},
     "output_type": "display_data"
    }
   ],
   "source": [
    "plt.figure(figsize=(10,5))\n",
    "plt.axis([0,len(errors_animal_sparse)-1,0.0,1.0])\n",
    "plt.plot(errors_animal_sparse,'ko-', color='blue', linewidth=1.0)\n",
    "plt.grid(True)\n",
    "plt.show()"
   ]
  },
  {
   "cell_type": "markdown",
   "metadata": {},
   "source": [
    "#### Hidden units vs test error"
   ]
  },
  {
   "cell_type": "code",
   "execution_count": 65,
   "metadata": {
    "collapsed": false
   },
   "outputs": [],
   "source": [
    "for hidden_dim in hidden_units:\n",
    "    errors = []\n",
    "    ws,ws_dash,bs,bs_dash = auto_encoder(training_data_animal,1000,0.3,errors,[hidden_dim,60],sparsity_level,True)\n",
    "    animal_errors_sparse.append(errors)\n",
    "    test_error = get_test_error(testing_data_animal,ws,bs,ws_dash,bs_dash,sparse=True)\n",
    "    errors_hidden_unit.append(test_error)"
   ]
  },
  {
   "cell_type": "code",
   "execution_count": 68,
   "metadata": {
    "collapsed": false
   },
   "outputs": [
    {
     "data": {
      "image/png": "[encoded data removed]",
      "text/plain": [
       "<matplotlib.figure.Figure at 0x1135f0650>"
      ]
     },
     "metadata": {},
     "output_type": "display_data"
    }
   ],
   "source": [
    "hidden_units_sizes = [200,100,50,40]\n",
    "plt.figure(figsize=(10,5))\n",
    "plt.axis([0,250,0,1])\n",
    "plt.plot(hidden_units_sizes,errors_hidden_unit,'ko-',color='green',linewidth=1.0)\n",
    "plt.show()"
   ]
  },
  {
   "cell_type": "markdown",
   "metadata": {},
   "source": [
    "# Combined -  Person and Animal"
   ]
  },
  {
   "cell_type": "markdown",
   "metadata": {},
   "source": [
    "__Learning rates vs test error__"
   ]
  },
  {
   "cell_type": "code",
   "execution_count": 69,
   "metadata": {
    "collapsed": false
   },
   "outputs": [],
   "source": [
    "errors_combined = []\n",
    "for lr in learning_rates:\n",
    "    layers = [50,40]\n",
    "    errors = []\n",
    "    ws,ws_dash,bs,bs_dash = auto_encoder(all_training,1000,lr,errors,layers,0.9,True)\n",
    "    e = get_test_error(all_testing,ws,bs,ws_dash,bs_dash,sparse=True)\n",
    "    errors_combined.append(e)"
   ]
  },
  {
   "cell_type": "code",
   "execution_count": 78,
   "metadata": {
    "collapsed": false
   },
   "outputs": [
    {
     "data": {
      "image/png": "[encoded data removed]",
      "text/plain": [
       "<matplotlib.figure.Figure at 0x110345e50>"
      ]
     },
     "metadata": {},
     "output_type": "display_data"
    }
   ],
   "source": [
    "plt.figure(figsize=(8,5))\n",
    "plt.axis([0,len(errors_combined)-1,0.0,1.0])\n",
    "plt.plot(errors_combined,'ko-', color='green', linewidth=2.0)\n",
    "plt.show()"
   ]
  },
  {
   "cell_type": "markdown",
   "metadata": {},
   "source": [
    "__Sparsity level vs test error__"
   ]
  },
  {
   "cell_type": "code",
   "execution_count": 79,
   "metadata": {
    "collapsed": false
   },
   "outputs": [],
   "source": [
    "for sparsity_level in sparsity_levels:\n",
    "    ws,ws_dash,bs,bs_dash = auto_encoder(all_training,1000,0.5,errors,layers,sparsity_level,True)\n",
    "    test_error = get_test_error(all_testing,ws,bs,ws_dash,bs_dash,sparse=True)\n",
    "    errors_all_sparse.append(test_error)"
   ]
  },
  {
   "cell_type": "code",
   "execution_count": 82,
   "metadata": {
    "collapsed": false
   },
   "outputs": [
    {
     "data": {
      "image/png": "[encoded data removed]",
      "text/plain": [
       "<matplotlib.figure.Figure at 0x11380ac50>"
      ]
     },
     "metadata": {},
     "output_type": "display_data"
    }
   ],
   "source": [
    "plt.figure(figsize=(8,5))\n",
    "plt.axis([0,len(errors_all_sparse)-1,0.0,1.0])\n",
    "plt.plot(errors_all_sparse,'ko-', color='green', linewidth=2.0)\n",
    "plt.show()"
   ]
  },
  {
   "cell_type": "markdown",
   "metadata": {},
   "source": [
    "__Hidden units vs test error__"
   ]
  },
  {
   "cell_type": "code",
   "execution_count": 83,
   "metadata": {
    "collapsed": false
   },
   "outputs": [],
   "source": [
    "for hidden_dim in hidden_units:\n",
    "    ws,ws_dash,bs,bs_dash = auto_encoder(all_training,1000,0.3,errors,[hidden_dim,60],sparsity_level,True)\n",
    "    errors_hidden.append(get_test_error(all_testing,ws,bs,ws_dash,bs_dash,sparse=True))"
   ]
  },
  {
   "cell_type": "code",
   "execution_count": 95,
   "metadata": {
    "collapsed": false
   },
   "outputs": [
    {
     "data": {
      "image/png": "[encoded data removed]",
      "text/plain": [
       "<matplotlib.figure.Figure at 0x112a67b90>"
      ]
     },
     "metadata": {},
     "output_type": "display_data"
    }
   ],
   "source": [
    "plt.figure(figsize=(10,5))\n",
    "plt.axis([0,250,0.5,2])\n",
    "plt.plot(range(len(errors_hidden)),errors_hidden,errors_hidden,color = 'green',linewidth=2.0)\n",
    "plt.show()"
   ]
  },
  {
   "cell_type": "markdown",
   "metadata": {},
   "source": [
    "### Summary\n",
    "\n",
    "As the number of hidden units increase, the error increases. This could be due to high drop out due to dropping values for more than k neurons. However, we do observe a decrease at 60 units, which implies that certain high values of k can reduce the error rate."
   ]
  },
  {
   "cell_type": "markdown",
   "metadata": {},
   "source": [
    "# Comparing all methods\n",
    "\n",
    "    The below 3 cells run 3 different types of K autoencoders for different data sets:\n",
    "    * Only with Persons dataset\n",
    "    * Only with Animal dataset\n",
    "    * Combining Persons dataset and Animal dataset\n",
    "    "
   ]
  },
  {
   "cell_type": "code",
   "execution_count": 99,
   "metadata": {
    "collapsed": false
   },
   "outputs": [
    {
     "name": "stdout",
     "output_type": "stream",
     "text": [
      "Completed running autoencoder\n"
     ]
    }
   ],
   "source": [
    "ws_p,ws_dash_p,bs_p,bs_dash_p = auto_encoder(training_data_person,max_iter,lr,errors,layers,0.5,True)\n",
    "errors_person = get_test_error(testing_data_person,ws_p,bs_p,ws_dash_p,bs_dash_p,sparse=True)\n",
    "print \"Completed running autoencoder\""
   ]
  },
  {
   "cell_type": "code",
   "execution_count": 100,
   "metadata": {
    "collapsed": false
   },
   "outputs": [
    {
     "name": "stdout",
     "output_type": "stream",
     "text": [
      "Completed running autoencoder\n"
     ]
    }
   ],
   "source": [
    "ws_s,ws_dash_s,bs_s,bs_dash_s = auto_encoder(training_data_animal,max_iter,lr,errors,layers,0.5,True)\n",
    "errors_animal = get_test_error(testing_data_sport,ws_s,bs_s,ws_dash_s,bs_dash_s,sparse=True)\n",
    "print \"Completed running autoencoder\""
   ]
  },
  {
   "cell_type": "code",
   "execution_count": 101,
   "metadata": {
    "collapsed": false
   },
   "outputs": [
    {
     "name": "stdout",
     "output_type": "stream",
     "text": [
      "Completed running autoencoder\n"
     ]
    }
   ],
   "source": [
    "ws_c,ws_dash_c,bs_c,bs_dash_c = auto_encoder(all_training,max_iter,lr,errors,layers,0.5,True)\n",
    "errors_all = get_test_error(all_testing,ws_c,bs_c,ws_dash_c,bs_dash_c,sparse=True)\n",
    "print \"Completed running autoencoder\""
   ]
  },
  {
   "cell_type": "code",
   "execution_count": 115,
   "metadata": {
    "collapsed": false
   },
   "outputs": [
    {
     "name": "stdout",
     "output_type": "stream",
     "text": [
      "The error for Persons dataset is 0.263487\n",
      "The error for Animal dataset is 0.334245\n",
      "The error for All datasets is 0.252445\n"
     ]
    }
   ],
   "source": [
    "print \"The error for Persons dataset is %f\" % errors_person\n",
    "print \"The error for Animal dataset is %f\" % errors_animal\n",
    "print \"The error for All datasets is %f\" % errors_all"
   ]
  },
  {
   "cell_type": "markdown",
   "metadata": {},
   "source": [
    "### Summary\n",
    "    * We observe that the combined datasets perform better as this prevents overfitting and provides a more generalized weights and bias. This proves that we must use larger datasets to prevent overfitting.\n",
    "    \n",
    "    * We also observe that learning rates must be small enough to cause convergence, but large enough to ensure that the weights and bias converge soon.\n",
    "    \n",
    "    * Sparsity levels within 50% provide good accuracy, and extremes so not perform well."
   ]
  }
 ],
 "metadata": {
  "kernelspec": {
   "display_name": "Python 2",
   "language": "python",
   "name": "python2"
  },
  "language_info": {
   "codemirror_mode": {
    "name": "ipython",
    "version": 3
   },
   "file_extension": ".py",
   "mimetype": "text/x-python",
   "name": "python",
   "nbconvert_exporter": "python",
   "pygments_lexer": "ipython3",
   "version": "3.5.1"
  }
 },
 "nbformat": 4,
 "nbformat_minor": 0
}
