{
 "cells": [
  {
   "cell_type": "code",
   "execution_count": 1,
   "metadata": {
    "collapsed": false
   },
   "outputs": [
    {
     "ename": "ImportError",
     "evalue": "No module named 'tensorflow'",
     "output_type": "error",
     "traceback": [
      "\u001b[0;31m---------------------------------------------------------------------------\u001b[0m",
      "\u001b[0;31mImportError\u001b[0m                               Traceback (most recent call last)",
      "\u001b[0;32m<ipython-input-1-d35779e3f4d6>\u001b[0m in \u001b[0;36m<module>\u001b[0;34m()\u001b[0m\n\u001b[1;32m      4\u001b[0m \u001b[0;32mimport\u001b[0m \u001b[0mos\u001b[0m\u001b[0;34m\u001b[0m\u001b[0m\n\u001b[1;32m      5\u001b[0m \u001b[0;32mfrom\u001b[0m \u001b[0msklearn\u001b[0m \u001b[0;32mimport\u001b[0m \u001b[0mpreprocessing\u001b[0m\u001b[0;34m\u001b[0m\u001b[0m\n\u001b[0;32m----> 6\u001b[0;31m \u001b[0;32mimport\u001b[0m \u001b[0mtensorflow\u001b[0m \u001b[0;32mas\u001b[0m \u001b[0mtf\u001b[0m\u001b[0;34m\u001b[0m\u001b[0m\n\u001b[0m\u001b[1;32m      7\u001b[0m \u001b[0;32mimport\u001b[0m \u001b[0mmath\u001b[0m\u001b[0;34m\u001b[0m\u001b[0m\n\u001b[1;32m      8\u001b[0m \u001b[0;32mimport\u001b[0m \u001b[0mmatplotlib\u001b[0m\u001b[0;34m.\u001b[0m\u001b[0mpyplot\u001b[0m \u001b[0;32mas\u001b[0m \u001b[0mplt\u001b[0m\u001b[0;34m\u001b[0m\u001b[0m\n",
      "\u001b[0;31mImportError\u001b[0m: No module named 'tensorflow'"
     ]
    }
   ],
   "source": [
    "%matplotlib inline\n",
    "from PIL import Image\n",
    "import numpy as np\n",
    "import os\n",
    "from sklearn import preprocessing\n",
    "import tensorflow as tf\n",
    "import math\n",
    "import matplotlib.pyplot as plt\n",
    "from sklearn.metrics import mean_squared_error\n",
    "from matplotlib.pyplot import imshow"
   ]
  },
  {
   "cell_type": "code",
   "execution_count": 40,
   "metadata": {
    "collapsed": false
   },
   "outputs": [],
   "source": [
    "folders = ['Data/Person']\n",
    "final_size = (10,10)\n",
    "count = 0\n",
    "enco_bat_size = 100\n",
    "fol_counts = [0,0]\n",
    "\n",
    "for i in range(2):\n",
    "    fdirs = os.listdir(folders[i])\n",
    "    fol_counts[i] += len(fdirs)\n",
    "\n",
    "original_data_person = np.zeros(shape=(fol_counts[0],final_size[0]*final_size[1]))\n",
    "original_data_sport = np.zeros(shape=(fol_counts[1],final_size[0]*final_size[1]))\n"
   ]
  },
  {
   "cell_type": "code",
   "execution_count": 15,
   "metadata": {
    "collapsed": false
   },
   "outputs": [
    {
     "name": "stdout",
     "output_type": "stream",
     "text": [
      "('./data/Person', ' ', 500)\n",
      "('./data/Person', ' ', 1000)\n",
      "('./data/Sport', ' ', 500)\n",
      "('./data/Sport', ' ', 1000)\n",
      "('./data/Sport', ' ', 1500)\n"
     ]
    }
   ],
   "source": [
    "def get_image_data(path):\n",
    "    img = Image.open(path)\n",
    "    arr = np.array(img.resize(final_size).convert('L')).flatten()\n",
    "    img.close()\n",
    "    return arr\n",
    "\n",
    "\n",
    "def get_fol_data(fol,data):\n",
    "    image = 0\n",
    "    fdirs = os.listdir(fol)\n",
    "    for fil in fdirs:\n",
    "        path = fol + \"/\" + fil\n",
    "        data[image] = get_image_data(path)\n",
    "        image = image+1\n",
    "        if image%500 == 0:\n",
    "            print(fol,\" \",image)\n",
    "    return data\n",
    "\n",
    "original_data_person = get_fol_data(folders[0],original_data_person)\n",
    "original_data_sport = get_fol_data(folders[1],original_data_sport)            "
   ]
  },
  {
   "cell_type": "code",
   "execution_count": 16,
   "metadata": {
    "collapsed": false
   },
   "outputs": [
    {
     "name": "stdout",
     "output_type": "stream",
     "text": [
      "((1242, 100), (1888, 100))\n"
     ]
    }
   ],
   "source": [
    "print(original_data_person.shape,original_data_sport.shape)"
   ]
  },
  {
   "cell_type": "code",
   "execution_count": 17,
   "metadata": {
    "collapsed": true
   },
   "outputs": [],
   "source": [
    "std_scale = preprocessing.StandardScaler().fit(original_data_person)\n",
    "scaled_original_data_person = std_scale.transform(original_data_person)\n",
    "\n",
    "std_scale = preprocessing.StandardScaler().fit(original_data_sport)\n",
    "scaled_original_data_sport = std_scale.transform(original_data_sport)"
   ]
  },
  {
   "cell_type": "code",
   "execution_count": 18,
   "metadata": {
    "collapsed": true
   },
   "outputs": [],
   "source": [
    "def sigmoid(x):\n",
    "    return 1. / 1. + np.exp(-x)"
   ]
  },
  {
   "cell_type": "code",
   "execution_count": 19,
   "metadata": {
    "collapsed": false
   },
   "outputs": [
    {
     "name": "stdout",
     "output_type": "stream",
     "text": [
      "(249, 100) (993, 100)\n",
      "(378, 100) (1510, 100)\n"
     ]
    }
   ],
   "source": [
    "boundary_person = int(0.8*scaled_original_data_person.shape[0])\n",
    "boundary_sport = int(0.8*scaled_original_data_sport.shape[0])\n",
    "\n",
    "training_data_person = scaled_original_data_person[0:boundary_person,:]\n",
    "testing_data_person = scaled_original_data_person[boundary_person:,:]\n",
    "\n",
    "training_data_sport = scaled_original_data_sport[0:boundary_sport,:]\n",
    "testing_data_sport = scaled_original_data_sport[boundary_sport:,:]\n",
    "\n",
    "print testing_data_person.shape,training_data_person.shape\n",
    "print testing_data_sport.shape,training_data_sport.shape"
   ]
  },
  {
   "cell_type": "code",
   "execution_count": 104,
   "metadata": {
    "collapsed": false,
    "scrolled": true
   },
   "outputs": [],
   "source": [
    "def auto_encoder(training_data,number_iterations,learning_rate, errors, layers, sparsity_level, sparse=False):\n",
    "    top_k_layers = [int(sparsity_level * a) for a in layers]\n",
    "    sess = tf.Session()\n",
    "    start = 0\n",
    "    end = start + enco_bat_size\n",
    "    original_data_dim = training_data.shape[1]\n",
    "    with sess.as_default():\n",
    "        hidden_dim = layers[0]\n",
    "        input_dim = original_data_dim\n",
    "        x = tf.placeholder(\"float\", [None, input_dim])\n",
    "        W1 = tf.Variable(tf.random_uniform([input_dim, hidden_dim], -1.0 / math.sqrt(input_dim),\\\n",
    "                                          1.0 / math.sqrt(input_dim)))\n",
    "        b1 = tf.Variable(tf.zeros([hidden_dim]))\n",
    "        z1 = tf.nn.tanh(tf.matmul(x,W1) + b1)\n",
    "        \n",
    "        if sparse:\n",
    "            vals,indices = tf.nn.top_k(z1,top_k_layers[0])\n",
    "            k_largest = tf.reduce_min(vals,reduction_indices=[1])\n",
    "            k_largest = tf.cast(k_largest,tf.float32)\n",
    "            k_largest = tf.reshape(k_largest,[enco_bat_size,1])\n",
    "            z_new = tf.sub(z1,k_largest)\n",
    "            z_new = tf.nn.relu(z_new)\n",
    "        else:\n",
    "            z_new = z1\n",
    "        \n",
    "        input_dim = hidden_dim\n",
    "        hidden_dim = layers[1]\n",
    "        W2 = tf.Variable(tf.random_uniform([input_dim, hidden_dim], -1.0 / math.sqrt(input_dim),\\\n",
    "                                          1.0 / math.sqrt(input_dim)))\n",
    "        b2 = tf.Variable(tf.zeros([hidden_dim]))\n",
    "        z2 = tf.nn.tanh(tf.matmul(z1,W2) + b2)\n",
    "        \n",
    "        if sparse:\n",
    "            vals,indices = tf.nn.top_k(z2,top_k_layers[1])\n",
    "            k_largest = tf.reduce_min(vals,reduction_indices=[1])\n",
    "            k_largest = tf.cast(k_largest,tf.float32)\n",
    "            k_largest = tf.reshape(k_largest,[enco_bat_size,1])\n",
    "            z_new = tf.sub(z2,k_largest)\n",
    "            z_new = tf.nn.relu(z_new)\n",
    "        else:\n",
    "            z_new = z2\n",
    "        \n",
    "        Wdash2 = tf.transpose(W2)\n",
    "        bdash2 = tf.Variable(tf.zeros([layers[0]]))\n",
    "        reconstructed_x1 = tf.nn.tanh(tf.matmul(z_new,Wdash2) + bdash2)\n",
    "        \n",
    "        \n",
    "        Wdash1 = tf.transpose(W1)\n",
    "        bdash1 = tf.Variable(tf.zeros([original_data_dim]))\n",
    "        reconstructed_x = tf.nn.tanh(tf.matmul(reconstructed_x1,Wdash1) + bdash1)\n",
    "        \n",
    "\n",
    "        error = tf.reduce_mean(tf.square(x-reconstructed_x))\n",
    "        train_step = tf.train.GradientDescentOptimizer(learning_rate).minimize(error)\n",
    "        init = tf.initialize_all_variables()\n",
    "        sess.run(init)\n",
    "\n",
    "        for i in range(number_iterations): \n",
    "            batch_rows = np.random.choice(range(0,training_data.shape[0]), enco_bat_size, replace=False)\n",
    "            batch = training_data[batch_rows][:]\n",
    "            sess.run(train_step, feed_dict={x: batch})\n",
    "            e = sess.run(error, feed_dict={x: batch})\n",
    "            errors.append(e)\n",
    "        print \"Autoencoder training done\"\n",
    "        w1_final = sess.run(W1)\n",
    "        b1_final = sess.run(b1)\n",
    "        w2_final = sess.run(W2)\n",
    "        b2_final = sess.run(b2)\n",
    "        w1_dash_final = sess.run(Wdash1)\n",
    "        b1_dash_final = sess.run(bdash1)\n",
    "        w2_dash_final = sess.run(Wdash2)\n",
    "        b2_dash_final = sess.run(bdash2)\n",
    "        ws = [w1_final,w2_final]\n",
    "        ws_dash = [w1_dash_final,w2_dash_final]\n",
    "        bs = [b1_final, b2_final]\n",
    "        bs_dash = [b1_dash_final,b2_dash_final]\n",
    "    return ws,ws_dash,bs,bs_dash\n",
    "\n"
   ]
  },
  {
   "cell_type": "code",
   "execution_count": 105,
   "metadata": {
    "collapsed": false
   },
   "outputs": [],
   "source": [
    "def get_test_error(testing_data,ws,bs,ws_dash,bs_dash,sparse=False):\n",
    "    errors = []\n",
    "    sess2 = tf.Session()\n",
    "    input_dim = testing_data.shape[1]\n",
    "    with sess2.as_default():\n",
    "        w1 = tf.Variable(ws[0],dtype=tf.float32)\n",
    "        b1 = tf.Variable(bs[0],dtype=tf.float32)\n",
    "        w2 = tf.Variable(ws[1],dtype=tf.float32)\n",
    "        b2 = tf.Variable(bs[1],dtype=tf.float32)\n",
    "\n",
    "        w1_dash = tf.Variable(ws_dash[0],dtype=tf.float32)\n",
    "        b1_dash = tf.Variable(bs_dash[0],dtype=tf.float32)\n",
    "        w2_dash = tf.Variable(ws_dash[1],dtype=tf.float32)\n",
    "        b2_dash = tf.Variable(bs_dash[1],dtype=tf.float32)\n",
    "        \n",
    "        x = tf.placeholder(\"float\", [None, input_dim])\n",
    "        z1 = tf.nn.tanh(tf.matmul(x,w1) + b1) \n",
    "        \n",
    "        if sparse:\n",
    "            vals,indices = tf.nn.top_k(z1,top_k_layers[0])\n",
    "            k_largest = tf.reduce_min(vals,reduction_indices=[1])\n",
    "            k_largest = tf.cast(k_largest,tf.float32)\n",
    "            k_largest = tf.reshape(k_largest,[1,1])\n",
    "            z_new = tf.sub(z1,k_largest)\n",
    "            z_new = tf.nn.relu(z_new)\n",
    "        else:\n",
    "            z_new = z1\n",
    "            \n",
    "        z2 = tf.nn.tanh(tf.matmul(z_new,w2) + b2) \n",
    "        if sparse:\n",
    "            vals,indices = tf.nn.top_k(z1,top_k_layers[1])\n",
    "            k_largest = tf.reduce_min(vals,reduction_indices=[1])\n",
    "            k_largest = tf.cast(k_largest,tf.float32)\n",
    "            k_largest = tf.reshape(k_largest,[1,1])\n",
    "            z_new = tf.sub(z2,k_largest)\n",
    "            z_new = tf.nn.relu(z_new)\n",
    "        else:\n",
    "            z_new = z2\n",
    "            \n",
    "        reconstructed_x1 = tf.nn.tanh(tf.matmul(z_new,w2_dash) + b2_dash)\n",
    "        reconstructed_x = tf.nn.tanh(tf.matmul(reconstructed_x1,w1_dash) + b1_dash)\n",
    "        error = tf.reduce_mean(tf.square(x-reconstructed_x))\n",
    "        init = tf.initialize_all_variables()\n",
    "        sess2.run(init)\n",
    "\n",
    "        for i in range(len(testing_data)): \n",
    "            batch = testing_data[i][:].reshape((1,input_dim))\n",
    "            e = sess2.run(error, feed_dict={x: batch})\n",
    "            errors.append(e)\n",
    "        print \"Test error calculated\"\n",
    "        return np.mean(errors)"
   ]
  },
  {
   "cell_type": "code",
   "execution_count": 93,
   "metadata": {
    "collapsed": false
   },
   "outputs": [],
   "source": [
    "# person_errors_train = []\n",
    "# ws,ws_dash,bs,bs_dash = auto_encoder(training_data_person,10000,0.03,person_errors,False)\n",
    "# print get_test_error(testing_data_person,ws,bs,ws_dash,bs_dash,sparse=False)\n"
   ]
  },
  {
   "cell_type": "code",
   "execution_count": 118,
   "metadata": {
    "collapsed": false
   },
   "outputs": [
    {
     "name": "stdout",
     "output_type": "stream",
     "text": [
      "Autoencoder training done\n",
      "Test error calculated\n",
      "Autoencoder training done\n",
      "Test error calculated\n",
      "Autoencoder training done\n",
      "Test error calculated\n",
      "Autoencoder training done\n",
      "Test error calculated\n",
      "Autoencoder training done\n",
      "Test error calculated\n",
      "Autoencoder training done\n",
      "Test error calculated\n",
      "Autoencoder training done\n",
      "Test error calculated\n",
      "Autoencoder training done\n",
      "Test error calculated\n",
      "Autoencoder training done\n",
      "Test error calculated\n"
     ]
    }
   ],
   "source": [
    "sparsity_levels = [0.9,0.8,0.7,0.6,0.5,0.4,0.3,0.2,0.1]\n",
    "errors_sparsity = []\n",
    "person_errors_sparse = []\n",
    "layers = [50,40]\n",
    "for sparsity_level in sparsity_levels:\n",
    "    errors = []\n",
    "    ws,ws_dash,bs,bs_dash = auto_encoder(training_data_person,10000,0.03,errors,layers,sparsity_level,True)\n",
    "    person_errors_sparse.append(errors)\n",
    "    test_error = get_test_error(testing_data_person,ws,bs,ws_dash,bs_dash,sparse=True)\n",
    "    errors_sparsity.append(test_error)"
   ]
  },
  {
   "cell_type": "code",
   "execution_count": 119,
   "metadata": {
    "collapsed": false
   },
   "outputs": [
    {
     "data": {
      "image/png": "[encoded data removed]",
      "text/plain": [
       "<matplotlib.figure.Figure at 0x7f49f8e28090>"
      ]
     },
     "metadata": {},
     "output_type": "display_data"
    }
   ],
   "source": [
    "plt.figure(figsize=(10,5))\n",
    "plt.axis([0,len(errors_sparsity)-1,0.0,1.0])\n",
    "plt.plot(errors_sparsity,'ko-', color='blue', linewidth=1.0)\n",
    "plt.show()"
   ]
  },
  {
   "cell_type": "code",
   "execution_count": 120,
   "metadata": {
    "collapsed": false
   },
   "outputs": [
    {
     "data": {
      "text/plain": [
       "[0.57578313,\n",
       " 0.68344754,\n",
       " 0.58005559,\n",
       " 0.56254178,\n",
       " 0.59918457,\n",
       " 0.53991282,\n",
       " 0.6635384,\n",
       " 0.67937416,\n",
       " 0.9310469]"
      ]
     },
     "execution_count": 120,
     "metadata": {},
     "output_type": "execute_result"
    }
   ],
   "source": [
    "errors_sparsity"
   ]
  },
  {
   "cell_type": "code",
   "execution_count": 80,
   "metadata": {
    "collapsed": false
   },
   "outputs": [],
   "source": [
    "# plt.figure(figsize=(20,10))\n",
    "# plt.plot(person_errors,c='b')\n",
    "# plt.plot(person_errors_sparse,c='g')\n",
    "# plt.show()\n",
    "\n",
    "# print min(person_errors),min(person_errors_sparse)"
   ]
  },
  {
   "cell_type": "code",
   "execution_count": null,
   "metadata": {
    "collapsed": false
   },
   "outputs": [],
   "source": [
    "std_scale = preprocessing.StandardScaler().fit(errors)\n",
    "scaled_errors_train = std_scale.transform(errors)\n",
    "# std_scale = preprocessing.StandardScaler().fit(errors_test)\n",
    "# scaled_errors = std_scale.transform(errors_test)"
   ]
  },
  {
   "cell_type": "code",
   "execution_count": null,
   "metadata": {
    "collapsed": false
   },
   "outputs": [],
   "source": [
    "plt.figure()\n",
    "plt.plot(scaled_errors_train)\n",
    "plt.show()"
   ]
  },
  {
   "cell_type": "code",
   "execution_count": null,
   "metadata": {
    "collapsed": false
   },
   "outputs": [],
   "source": [
    "plt.figure()\n",
    "plt.plot(e)\n",
    "plt.show()"
   ]
  },
  {
   "cell_type": "code",
   "execution_count": null,
   "metadata": {
    "collapsed": true
   },
   "outputs": [],
   "source": []
  }
 ],
 "metadata": {
  "kernelspec": {
   "display_name": "Python 2",
   "language": "python",
   "name": "python2"
  },
  "language_info": {
   "codemirror_mode": {
    "name": "ipython",
    "version": 3
   },
   "file_extension": ".py",
   "mimetype": "text/x-python",
   "name": "python",
   "nbconvert_exporter": "python",
   "pygments_lexer": "ipython3",
   "version": "3.5.1"
  }
 },
 "nbformat": 4,
 "nbformat_minor": 0
}
