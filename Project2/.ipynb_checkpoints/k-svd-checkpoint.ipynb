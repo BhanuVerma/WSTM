{
 "cells": [
  {
   "cell_type": "markdown",
   "metadata": {
    "collapsed": true
   },
   "source": [
    "# CSE 6240 - Web Search & Text Mining - Project 2"
   ]
  },
  {
   "cell_type": "code",
   "execution_count": 1,
   "metadata": {
    "collapsed": true
   },
   "outputs": [],
   "source": [
    "# __author__ = 'Bhanu Verma', 'Nilaksh Das'\n",
    "# GTid = '903151012', '903129996'"
   ]
  },
  {
   "cell_type": "code",
   "execution_count": 2,
   "metadata": {
    "collapsed": true
   },
   "outputs": [],
   "source": [
    "import matplotlib.pyplot as plt\n",
    "import numpy as np\n",
    "from numpy.linalg import norm\n",
    "from scipy.linalg import svd\n",
    "import os, os.path\n",
    "from PIL import Image\n",
    "import random\n",
    "from sklearn.linear_model import orthogonal_mp\n",
    "import time\n",
    "from matplotlib.pyplot import imshow\n",
    "import math\n",
    "%matplotlib inline"
   ]
  },
  {
   "cell_type": "code",
   "execution_count": 3,
   "metadata": {
    "collapsed": true
   },
   "outputs": [],
   "source": [
    "# Ignore warnings\n",
    "import warnings\n",
    "warnings.filterwarnings('ignore')"
   ]
  },
  {
   "cell_type": "code",
   "execution_count": 4,
   "metadata": {
    "collapsed": false
   },
   "outputs": [],
   "source": [
    "categoryArr = []\n",
    "animalPath = 'Data/Animal'\n",
    "fungusPath = 'Data/Fungus'\n",
    "geoPath = 'Data/Geological Formation'\n",
    "personPath = 'Data/Person'\n",
    "plantPath = 'Data/Plant, flora, plant life'\n",
    "sportPath = 'Data/Sport'\n",
    "\n",
    "# animal:0, fungus:1, geo:2, person:3, plant:4, sport:5\n",
    "categoryArr = [animalPath, fungusPath, geoPath, personPath, plantPath, sportPath]"
   ]
  },
  {
   "cell_type": "code",
   "execution_count": 5,
   "metadata": {
    "collapsed": true
   },
   "outputs": [],
   "source": [
    "def ksvd(Y, K, T, D=None, max_err=0, max_iter=10):\n",
    "    (row_size, col_size) = Y.shape\n",
    "\n",
    "    if D is None:\n",
    "        D = np.random.rand(row_size, K)\n",
    "        \n",
    "    # normalize dictionary\n",
    "    for i in range(K):\n",
    "        D[:,i] /= norm(D[:,i])\n",
    "    \n",
    "    err = np.inf\n",
    "    iter_val = 0\n",
    "    X = np.zeros((K,row_size))\n",
    "    \n",
    "    while iter_val < max_iter and err > max_err:\n",
    "        X = orthogonal_mp(D, Y, T, max_err)\n",
    "\n",
    "        atoms_pos =[]\n",
    "        for x in range(K):\n",
    "            atoms_pos.append(x)\n",
    "    \n",
    "        np.random.shuffle(atoms_pos)\n",
    "\n",
    "        redund_atoms = []\n",
    "\n",
    "        for (i, j) in zip(atoms_pos, range(K)):\n",
    "            # find non-zero values\n",
    "            nonzero_x = np.nonzero(X[i,:])[0]\n",
    "        \n",
    "            if len(nonzero_x) == 0:\n",
    "                redund_atoms.append(i)\n",
    "                continue\n",
    "\n",
    "            X[i,nonzero_x] = 0\n",
    "            res_err = Y[:,nonzero_x] - np.dot(D,X[:,nonzero_x])\n",
    "\n",
    "            # dictionary and weights are updated here\n",
    "            U, s, Vt = svd(res_err)\n",
    "            D[:,i] = U[:,0]\n",
    "            X[i,nonzero_x] = s[0]*Vt.T[:,0]\n",
    "\n",
    "        err_repr = Y - np.dot(D,X)\n",
    "        err_repr_norm = (norm(err_repr[:,n]) for n in range(col_size))\n",
    "\n",
    "        indices = sorted(zip(err_repr_norm, range(col_size)), reverse=True)\n",
    "\n",
    "        for (redund_ind, tuple_err) in zip(redund_atoms, indices):\n",
    "            (err, err_indices) = tuple_err\n",
    "\n",
    "            d = Y[:,err_indices].copy()\n",
    "            d -= mean(d)\n",
    "            d /= norm(d)\n",
    "            D[:,redund_ind] = d\n",
    "\n",
    "\n",
    "        err_repr_norm = [norm(err_repr[:,n]) for n in range(col_size)]\n",
    "        err = max(err_repr_norm)\n",
    "\n",
    "        iter_val += 1\n",
    "    \n",
    "    return D,X"
   ]
  },
  {
   "cell_type": "code",
   "execution_count": 6,
   "metadata": {
    "collapsed": true
   },
   "outputs": [],
   "source": [
    "def psnr(img1, img2):\n",
    "    mse = np.mean((img1 - img2) ** 2 )\n",
    "    if mse == 0:\n",
    "        return 100\n",
    "    PIXEL_MAX = 255.0\n",
    "    return 20 * math.log10(PIXEL_MAX / math.sqrt(mse))"
   ]
  },
  {
   "cell_type": "code",
   "execution_count": 7,
   "metadata": {
    "collapsed": true
   },
   "outputs": [],
   "source": [
    "# Ignore warnings\n",
    "import warnings\n",
    "warnings.filterwarnings('ignore')"
   ]
  },
  {
   "cell_type": "code",
   "execution_count": 8,
   "metadata": {
    "collapsed": false
   },
   "outputs": [],
   "source": [
    "def calculate_KSVD_for_Image(img_arr,k):\n",
    "    try:\n",
    "        D,X = ksvd(img_arr, k, None, D=None, max_err=0, max_iter=20)\n",
    "    except:\n",
    "        print(\"SVD error\")\n",
    "        D = 'Error'\n",
    "        X = 'Error'\n",
    "\n",
    "    return D,X"
   ]
  },
  {
   "cell_type": "code",
   "execution_count": 9,
   "metadata": {
    "collapsed": true
   },
   "outputs": [],
   "source": [
    "def get_image_for_index(index, mapper):\n",
    "    filepath = mapper[index]\n",
    "    img = Image.open(filepath)\n",
    "    img_size = tuple([int(x) for x in img.size])\n",
    "    img = img.resize(img_size)\n",
    "    img = img.convert('L')\n",
    "    img_arr = np.array(img)\n",
    "    img_arr = img_arr/255.0\n",
    "    \n",
    "    return img_arr"
   ]
  },
  {
   "cell_type": "code",
   "execution_count": 10,
   "metadata": {
    "collapsed": true
   },
   "outputs": [],
   "source": [
    "def plot_images(before, after):\n",
    "    plt.figure(i, figsize=(20, 7))\n",
    "\n",
    "    plt.subplot(1,2,1)\n",
    "    imshow(before, cmap = plt.get_cmap('gray'))\n",
    "\n",
    "    plt.subplot(1,2,2)\n",
    "    imshow(after, cmap = plt.get_cmap('gray'))\n",
    "\n",
    "    plt.show()\n",
    "\n",
    "    print('PSNR Value is: ', psnr(np.asarray(before),after))"
   ]
  },
  {
   "cell_type": "code",
   "execution_count": 11,
   "metadata": {
    "collapsed": false
   },
   "outputs": [],
   "source": [
    "def run_svd(index_to_name, index, total_count,k):\n",
    "    if index < 0 or index >= total_count:\n",
    "        print('Error: Index out of range')\n",
    "    else:\n",
    "        input_img = get_image_for_index(index, index_to_name)\n",
    "        D,X = calculate_KSVD_for_Image(input_img,k)\n",
    "\n",
    "        if D == 'Error' or X == 'Error':\n",
    "            print('Error Occurred')\n",
    "        else:\n",
    "            reconst_img = np.dot(D,X)\n",
    "            reconst_img = reconst_img * 255.0\n",
    "            input_img = input_img * 255.0\n",
    "            plot_images(input_img, reconst_img)"
   ]
  },
  {
   "cell_type": "markdown",
   "metadata": {},
   "source": [
    "# Few Examples"
   ]
  },
  {
   "cell_type": "code",
   "execution_count": 12,
   "metadata": {
    "collapsed": true
   },
   "outputs": [],
   "source": [
    "count = 0\n",
    "name_dict = {}\n",
    "\n",
    "for a,category in enumerate(categoryArr):\n",
    "    dirList = os.listdir(category)\n",
    "\n",
    "    for i,fname in enumerate(dirList):\n",
    "        img_path = category+'/'+fname\n",
    "        name_dict[count] = img_path\n",
    "        count+=1"
   ]
  },
  {
   "cell_type": "code",
   "execution_count": 13,
   "metadata": {
    "collapsed": false
   },
   "outputs": [
    {
     "name": "stdout",
     "output_type": "stream",
     "text": [
      "8987\n"
     ]
    }
   ],
   "source": [
    "print(count)"
   ]
  },
  {
   "cell_type": "code",
   "execution_count": 14,
   "metadata": {
    "collapsed": false
   },
   "outputs": [
    {
     "name": "stdout",
     "output_type": "stream",
     "text": [
      "SVD error\n",
      "Error Occurred\n"
     ]
    }
   ],
   "source": [
    "run_svd(name_dict,0,count,50)"
   ]
  },
  {
   "cell_type": "code",
   "execution_count": 15,
   "metadata": {
    "collapsed": false
   },
   "outputs": [
    {
     "name": "stdout",
     "output_type": "stream",
     "text": [
      "SVD error\n",
      "Error Occurred\n"
     ]
    }
   ],
   "source": [
    "run_svd(name_dict,4,count,50)"
   ]
  },
  {
   "cell_type": "code",
   "execution_count": 16,
   "metadata": {
    "collapsed": false
   },
   "outputs": [
    {
     "name": "stdout",
     "output_type": "stream",
     "text": [
      "SVD error\n",
      "Error Occurred\n"
     ]
    }
   ],
   "source": [
    "run_svd(name_dict,1000,count,50)"
   ]
  },
  {
   "cell_type": "code",
   "execution_count": 17,
   "metadata": {
    "collapsed": false
   },
   "outputs": [
    {
     "name": "stdout",
     "output_type": "stream",
     "text": [
      "SVD error\n",
      "Error Occurred\n"
     ]
    }
   ],
   "source": [
    "run_svd(name_dict,2000,count,50)"
   ]
  },
  {
   "cell_type": "code",
   "execution_count": 18,
   "metadata": {
    "collapsed": false
   },
   "outputs": [
    {
     "ename": "TypeError",
     "evalue": "run_svd() missing 2 required positional arguments: 'total_count' and 'k'",
     "output_type": "error",
     "traceback": [
      "\u001b[0;31m---------------------------------------------------------------------------\u001b[0m",
      "\u001b[0;31mTypeError\u001b[0m                                 Traceback (most recent call last)",
      "\u001b[0;32m<ipython-input-18-511ac57c1272>\u001b[0m in \u001b[0;36m<module>\u001b[0;34m()\u001b[0m\n\u001b[0;32m----> 1\u001b[0;31m \u001b[0mrun_svd\u001b[0m\u001b[0;34m(\u001b[0m\u001b[0mname_dict\u001b[0m\u001b[0;34m,\u001b[0m\u001b[0;36m3000\u001b[0m\u001b[0;34m)\u001b[0m\u001b[0;34m\u001b[0m\u001b[0m\n\u001b[0m",
      "\u001b[0;31mTypeError\u001b[0m: run_svd() missing 2 required positional arguments: 'total_count' and 'k'"
     ]
    }
   ],
   "source": [
    "run_svd(name_dict,3000,count,50)"
   ]
  },
  {
   "cell_type": "code",
   "execution_count": null,
   "metadata": {
    "collapsed": false
   },
   "outputs": [],
   "source": [
    "run_svd(name_dict,4000,count,50)"
   ]
  },
  {
   "cell_type": "code",
   "execution_count": null,
   "metadata": {
    "collapsed": false
   },
   "outputs": [],
   "source": [
    "run_svd(name_dict,5000,count,50)"
   ]
  },
  {
   "cell_type": "code",
   "execution_count": null,
   "metadata": {
    "collapsed": false
   },
   "outputs": [],
   "source": [
    "run_svd(name_dict,6000,count,50)"
   ]
  },
  {
   "cell_type": "code",
   "execution_count": null,
   "metadata": {
    "collapsed": false
   },
   "outputs": [],
   "source": [
    "run_svd(name_dict,7000,count,50)"
   ]
  },
  {
   "cell_type": "code",
   "execution_count": null,
   "metadata": {
    "collapsed": false
   },
   "outputs": [],
   "source": [
    "run_svd(name_dict,8000,count,50)"
   ]
  },
  {
   "cell_type": "code",
   "execution_count": null,
   "metadata": {
    "collapsed": false
   },
   "outputs": [],
   "source": [
    "run_svd(name_dict,8200,count,50)"
   ]
  },
  {
   "cell_type": "code",
   "execution_count": null,
   "metadata": {
    "collapsed": false
   },
   "outputs": [],
   "source": [
    "run_svd(name_dict,9000,count,50)"
   ]
  },
  {
   "cell_type": "code",
   "execution_count": null,
   "metadata": {
    "collapsed": true
   },
   "outputs": [],
   "source": []
  }
 ],
 "metadata": {
  "kernelspec": {
   "display_name": "Python 3",
   "language": "python",
   "name": "python3"
  },
  "language_info": {
   "codemirror_mode": {
    "name": "ipython",
    "version": 3
   },
   "file_extension": ".py",
   "mimetype": "text/x-python",
   "name": "python",
   "nbconvert_exporter": "python",
   "pygments_lexer": "ipython3",
   "version": "3.5.1"
  }
 },
 "nbformat": 4,
 "nbformat_minor": 0
}
