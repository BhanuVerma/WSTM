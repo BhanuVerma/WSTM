{
 "cells": [
  {
   "cell_type": "markdown",
   "metadata": {
    "collapsed": true
   },
   "source": [
    "# CSE 6240 - Web Search & Text Mining - Project 2"
   ]
  },
  {
   "cell_type": "code",
   "execution_count": 1,
   "metadata": {
    "collapsed": true
   },
   "outputs": [],
   "source": [
    "# __author__ = 'Bhanu Verma', 'Nilaksh Das'\n",
    "# GTid = '903151012', '903129996'"
   ]
  },
  {
   "cell_type": "code",
   "execution_count": 2,
   "metadata": {
    "collapsed": true
   },
   "outputs": [],
   "source": [
    "import matplotlib.pyplot as plt\n",
    "import numpy as np\n",
    "from scipy import linalg\n",
    "import os, os.path\n",
    "from PIL import Image\n",
    "from pylab import *\n",
    "import random\n",
    "from sklearn.linear_model import orthogonal_mp\n",
    "from scipy.sparse import csc_matrix\n",
    "import time\n",
    "%matplotlib inline"
   ]
  },
  {
   "cell_type": "code",
   "execution_count": 3,
   "metadata": {
    "collapsed": false
   },
   "outputs": [],
   "source": [
    "categoryArr = []\n",
    "animalPath = 'Data/Animal'\n",
    "fungusPath = 'Data/Fungus'\n",
    "geoPath = 'Data/Geological Formation'\n",
    "personPath = 'Data/Person'\n",
    "plantPath = 'Data/Plant, flora, plant life'\n",
    "sportPath = 'Data/Sport'\n",
    "\n",
    "# animal:0, fungus:1, geo:2, person:3, plant:4, sport:5\n",
    "categoryArr = [animalPath]"
   ]
  },
  {
   "cell_type": "code",
   "execution_count": 4,
   "metadata": {
    "collapsed": true
   },
   "outputs": [],
   "source": [
    "def ksvd(Y, K, T, D=None, max_err=0, max_iter=10, approx=False,preserve_dc=False):\n",
    "    (N, M) = Y.shape\n",
    "\n",
    "    if D is None:\n",
    "        D = rand(N, K)\n",
    "        # D /= np.linalg.norm(D,axis = 0)\n",
    "        \n",
    "    # normalize dictionary\n",
    "    for i in range(K):\n",
    "        D[:,i] /= norm(D[:,i])\n",
    "        \n",
    "#     print(\"running ksvd on \", M, \" \", N, \"- dimensional vectors with K=\", K)\n",
    "    \n",
    "    X = zeros((K,N))\n",
    "    err = inf\n",
    "    iter_num = 0\n",
    "    \n",
    "    while iter_num < max_iter and err > max_err:\n",
    "        X = orthogonal_mp(D, Y, T, max_err)\n",
    "\n",
    "#         print('average l0 norm for ksvd iteration ', iter_num, ' after omp was ', (iter_num, len(nonzero(X)[0])/M))\n",
    "\n",
    "        atom_indices=[]\n",
    "        for x in range(K):\n",
    "            atom_indices.append(x)\n",
    "        # atom_indices = range(K)\n",
    "    \n",
    "        random.shuffle(atom_indices)\n",
    "\n",
    "        unused_atoms = []\n",
    "\n",
    "        for (i, j) in zip(atom_indices, range(K)):\n",
    "            # find nonzero entries\n",
    "            x_using = nonzero(X[i,:])[0]\n",
    "        \n",
    "            if len(x_using) == 0:\n",
    "                unused_atoms.append(i)\n",
    "                continue\n",
    "\n",
    "\n",
    "            X[i,x_using] = 0\n",
    "            Residual_err = Y[:,x_using] - dot(D,X[:,x_using])\n",
    "\n",
    "            # update dictionary and weights -- sparsity-restricted rank-1\n",
    "            # approximation\n",
    "            U, s, Vt = svd(Residual_err)\n",
    "            D[:,i] = U[:,0]\n",
    "            X[i,x_using] = s[0]*Vt.T[:,0]\n",
    "\n",
    "        Repr_err = Y - dot(D,X)\n",
    "        Repr_err_norms = ( norm(Repr_err[:,n]) for n in range(M) )\n",
    "\n",
    "        err_indices = sorted(zip(Repr_err_norms, range(M)), reverse=True)\n",
    "\n",
    "        for (unused_index, err_tuple) in zip(unused_atoms, err_indices):\n",
    "            (err, err_idx) = err_tuple\n",
    "\n",
    "            d = Y[:,err_idx].copy()\n",
    "            if preserve_dc: \n",
    "                d -= mean(d)\n",
    "            d /= norm(d)\n",
    "            D[:,unused_index] = d\n",
    "\n",
    "\n",
    "        Repr_err_norms = [norm(Repr_err[:,n]) for n in range(M)]\n",
    "        err = max(Repr_err_norms)\n",
    "\n",
    "        iter_num += 1\n",
    "\n",
    "#         print(\"maximum representation error for ksvd iteration \", iter_num, \" was \", (iter_num, err))\n",
    "    \n",
    "    return D,X"
   ]
  },
  {
   "cell_type": "code",
   "execution_count": 5,
   "metadata": {
    "collapsed": true
   },
   "outputs": [],
   "source": [
    "def psnr(img1, img2):\n",
    "    mse = np.mean((img1 - img2) ** 2 )\n",
    "    if mse == 0:\n",
    "        return 100\n",
    "    PIXEL_MAX = 255.0\n",
    "    return 20 * math.log10(PIXEL_MAX / math.sqrt(mse))"
   ]
  },
  {
   "cell_type": "code",
   "execution_count": 6,
   "metadata": {
    "collapsed": false
   },
   "outputs": [
    {
     "name": "stdout",
     "output_type": "stream",
     "text": [
      "k-svd run for image  0\n",
      "k-svd run for image  1\n",
      "k-svd run for image  2\n",
      "k-svd run for image  3\n",
      "k-svd run for image  4\n",
      "k-svd run for image  5\n",
      "k-svd run for image  6\n",
      "k-svd run for image  7\n"
     ]
    },
    {
     "ename": "FileNotFoundError",
     "evalue": "[Errno 2] No such file or directory: 'Data/Animal/n00015388_10397.JPEG'",
     "output_type": "error",
     "traceback": [
      "\u001b[0;31m---------------------------------------------------------------------------\u001b[0m",
      "\u001b[0;31mFileNotFoundError\u001b[0m                         Traceback (most recent call last)",
      "\u001b[0;32m<ipython-input-6-1781a3264d09>\u001b[0m in \u001b[0;36m<module>\u001b[0;34m()\u001b[0m\n\u001b[1;32m     14\u001b[0m             \u001b[0;32mbreak\u001b[0m\u001b[0;34m\u001b[0m\u001b[0m\n\u001b[1;32m     15\u001b[0m         \u001b[0mimg_path\u001b[0m \u001b[0;34m=\u001b[0m \u001b[0mcategory\u001b[0m\u001b[0;34m+\u001b[0m\u001b[0;34m'/'\u001b[0m\u001b[0;34m+\u001b[0m\u001b[0mfname\u001b[0m\u001b[0;34m\u001b[0m\u001b[0m\n\u001b[0;32m---> 16\u001b[0;31m         \u001b[0mimg\u001b[0m \u001b[0;34m=\u001b[0m \u001b[0mImage\u001b[0m\u001b[0;34m.\u001b[0m\u001b[0mopen\u001b[0m\u001b[0;34m(\u001b[0m\u001b[0mimg_path\u001b[0m\u001b[0;34m)\u001b[0m\u001b[0;34m\u001b[0m\u001b[0m\n\u001b[0m\u001b[1;32m     17\u001b[0m         \u001b[0mimg\u001b[0m \u001b[0;34m=\u001b[0m \u001b[0mimg\u001b[0m\u001b[0;34m.\u001b[0m\u001b[0mconvert\u001b[0m\u001b[0;34m(\u001b[0m\u001b[0;34m'L'\u001b[0m\u001b[0;34m)\u001b[0m\u001b[0;34m\u001b[0m\u001b[0m\n\u001b[1;32m     18\u001b[0m         \u001b[0mimg_arr\u001b[0m \u001b[0;34m=\u001b[0m \u001b[0mnp\u001b[0m\u001b[0;34m.\u001b[0m\u001b[0marray\u001b[0m\u001b[0;34m(\u001b[0m\u001b[0mimg\u001b[0m\u001b[0;34m)\u001b[0m\u001b[0;34m\u001b[0m\u001b[0m\n",
      "\u001b[0;32m/Users/Mowgli/anaconda/lib/python3.5/site-packages/PIL/Image.py\u001b[0m in \u001b[0;36mopen\u001b[0;34m(fp, mode)\u001b[0m\n\u001b[1;32m   2270\u001b[0m             \u001b[0mfilename\u001b[0m \u001b[0;34m=\u001b[0m \u001b[0mstr\u001b[0m\u001b[0;34m(\u001b[0m\u001b[0mfp\u001b[0m\u001b[0;34m.\u001b[0m\u001b[0mresolve\u001b[0m\u001b[0;34m(\u001b[0m\u001b[0;34m)\u001b[0m\u001b[0;34m)\u001b[0m\u001b[0;34m\u001b[0m\u001b[0m\n\u001b[1;32m   2271\u001b[0m     \u001b[0;32mif\u001b[0m \u001b[0mfilename\u001b[0m\u001b[0;34m:\u001b[0m\u001b[0;34m\u001b[0m\u001b[0m\n\u001b[0;32m-> 2272\u001b[0;31m         \u001b[0mfp\u001b[0m \u001b[0;34m=\u001b[0m \u001b[0mbuiltins\u001b[0m\u001b[0;34m.\u001b[0m\u001b[0mopen\u001b[0m\u001b[0;34m(\u001b[0m\u001b[0mfilename\u001b[0m\u001b[0;34m,\u001b[0m \u001b[0;34m\"rb\"\u001b[0m\u001b[0;34m)\u001b[0m\u001b[0;34m\u001b[0m\u001b[0m\n\u001b[0m\u001b[1;32m   2273\u001b[0m \u001b[0;34m\u001b[0m\u001b[0m\n\u001b[1;32m   2274\u001b[0m     \u001b[0;32mtry\u001b[0m\u001b[0;34m:\u001b[0m\u001b[0;34m\u001b[0m\u001b[0m\n",
      "\u001b[0;31mFileNotFoundError\u001b[0m: [Errno 2] No such file or directory: 'Data/Animal/n00015388_10397.JPEG'"
     ]
    }
   ],
   "source": [
    "start_time = time.time()\n",
    "\n",
    "D_list = []\n",
    "X_list = []\n",
    "index_to_name = {}\n",
    "name_to_index = {}\n",
    "count  = 0\n",
    "\n",
    "for a,category in enumerate(categoryArr):\n",
    "    dirList = os.listdir(category)\n",
    "\n",
    "    for i,fname in enumerate(dirList):\n",
    "        if i > 500:\n",
    "            break\n",
    "        img_path = category+'/'+fname\n",
    "        img = Image.open(img_path)\n",
    "        img = img.convert('L')\n",
    "        img_arr = np.array(img)\n",
    "            \n",
    "        D,X = ksvd(img_arr, 50, None, D=None, max_err=0, max_iter=10, approx=False, preserve_dc=False)\n",
    "        D_list.append(D)\n",
    "        X_list.append(X)\n",
    "        index_to_name[count] = img_path\n",
    "        name_to_index[img_path] = count\n",
    "        \n",
    "        print(\"k-svd run for image \", count)\n",
    "        count += 1\n",
    "        \n",
    "print(\"Time taken: \",(time.time() - start_time)/float(3600.0), ' hours')\n",
    "        "
   ]
  },
  {
   "cell_type": "code",
   "execution_count": null,
   "metadata": {
    "collapsed": false
   },
   "outputs": [],
   "source": [
    "# for a,category in enumerate(categoryArr):\n",
    "#     dirList = os.listdir(category)\n",
    "\n",
    "#     for i,fname in enumerate(dirList):\n",
    "#         if i >= 100:          \n",
    "#             img = Image.open(category+'/'+fname)\n",
    "#             img = img.convert('L')\n",
    "#             img.show()\n",
    "#             before_img = np.array(img)\n",
    "#             print(D)\n",
    "#             D,X = ksvd(before_img, 50, None, D, max_err=0, max_iter=20, approx=False, preserve_dc=False)\n",
    "#             after = dot(D,X)\n",
    "#             after_img = Image.fromarray(after)\n",
    "#             after_img.show()\n",
    "#             print(psnr(im_array,after))\n",
    "#             print(D)\n",
    "#             break"
   ]
  },
  {
   "cell_type": "code",
   "execution_count": null,
   "metadata": {
    "collapsed": true
   },
   "outputs": [],
   "source": []
  }
 ],
 "metadata": {
  "kernelspec": {
   "display_name": "Python 3",
   "language": "python",
   "name": "python3"
  },
  "language_info": {
   "codemirror_mode": {
    "name": "ipython",
    "version": 3
   },
   "file_extension": ".py",
   "mimetype": "text/x-python",
   "name": "python",
   "nbconvert_exporter": "python",
   "pygments_lexer": "ipython3",
   "version": "3.5.1"
  }
 },
 "nbformat": 4,
 "nbformat_minor": 0
}
