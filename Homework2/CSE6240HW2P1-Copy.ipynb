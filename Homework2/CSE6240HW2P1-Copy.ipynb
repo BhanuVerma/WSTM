{
 "cells": [
  {
   "cell_type": "markdown",
   "metadata": {},
   "source": [
    "# CSE 6240 - Homework 2 (Part 1)\n",
    "## submitted by Nilaksh Das\n",
    "---"
   ]
  },
  {
   "cell_type": "code",
   "execution_count": 20,
   "metadata": {
    "collapsed": false
   },
   "outputs": [],
   "source": [
    "import csv\n",
    "import math\n",
    "import numpy as np\n",
    "from scipy.optimize import fmin_bfgs\n",
    "from matplotlib import pyplot as plt"
   ]
  },
  {
   "cell_type": "code",
   "execution_count": 21,
   "metadata": {
    "collapsed": true
   },
   "outputs": [],
   "source": [
    "%matplotlib inline"
   ]
  },
  {
   "cell_type": "markdown",
   "metadata": {},
   "source": [
    "---"
   ]
  },
  {
   "cell_type": "code",
   "execution_count": 22,
   "metadata": {
    "collapsed": false
   },
   "outputs": [],
   "source": [
    "def sigmoid(z):\n",
    "    return 1.0 / (1.0 + (math.e ** (-1.0 * z)))"
   ]
  },
  {
   "cell_type": "code",
   "execution_count": 23,
   "metadata": {
    "collapsed": true
   },
   "outputs": [],
   "source": [
    "def h_theta(theta, X):\n",
    "    theta = theta.reshape(len(theta), 1)\n",
    "    \n",
    "    return sigmoid(X.dot(theta))"
   ]
  },
  {
   "cell_type": "code",
   "execution_count": 37,
   "metadata": {
    "collapsed": false
   },
   "outputs": [],
   "source": [
    "def J_theta(theta, X, y, lambda_reg = 0.0):\n",
    "    m = float(X.shape[0])\n",
    "    \n",
    "    cost = (-1.0 * y) * np.log(h_theta(theta, X)) - ((1.0 - y) * np.log(1.0 - h_theta(theta, X)))\n",
    "    cost += (float(lambda_reg) / (2.0 * m)) * np.sum(theta[1:])\n",
    "    \n",
    "    for i in range(cost.size):\n",
    "        if np.isnan(cost[i][0]):\n",
    "            cost[i][0] = 0\n",
    "        elif (cost[i][0] == np.inf):\n",
    "            cost[i][0] = 10000\n",
    "    \n",
    "    cost = np.sum(cost) / float(m)\n",
    "        \n",
    "    print('cost', cost)\n",
    "    \n",
    "    return cost"
   ]
  },
  {
   "cell_type": "code",
   "execution_count": 25,
   "metadata": {
    "collapsed": false
   },
   "outputs": [],
   "source": [
    "def grad_J_theta(theta, X, y, lambda_reg = 0.0):\n",
    "    m = float(X.shape[0])\n",
    "    \n",
    "    gradient = (1.0 / m) * np.sum((h_theta(theta, X) - y) * X, axis=0)\n",
    "    gradient[1:] += (float(lambda_reg) / m) * theta[1:]\n",
    "    \n",
    "    return gradient"
   ]
  },
  {
   "cell_type": "code",
   "execution_count": 26,
   "metadata": {
    "collapsed": true
   },
   "outputs": [],
   "source": [
    "def train(X, y, regularization_parameter = 0.0):\n",
    "    m, n = X.shape\n",
    "    \n",
    "    X_ = np.concatenate((np.ones((m, 1), dtype=float), X), axis=1)\n",
    "    y_ = y.reshape((m, 1))\n",
    "    \n",
    "    n += 1\n",
    "    \n",
    "    theta = np.random.rand(n, 1)\n",
    "\n",
    "    return fmin_bfgs(J_theta, theta, fprime=grad_J_theta, args=(X_, y_, regularization_parameter))"
   ]
  },
  {
   "cell_type": "code",
   "execution_count": 41,
   "metadata": {
    "collapsed": true
   },
   "outputs": [],
   "source": [
    "def predict(theta, X):\n",
    "    m, n = X.shape\n",
    "    \n",
    "    X_ = np.concatenate((np.ones((m, 1), dtype=float), X), axis=1)\n",
    "    print(X_)\n",
    "    print(theta)\n",
    "    \n",
    "    return (h_theta(theta, X_) > 0.5).astype(int)"
   ]
  },
  {
   "cell_type": "markdown",
   "metadata": {},
   "source": [
    "---"
   ]
  },
  {
   "cell_type": "code",
   "execution_count": 28,
   "metadata": {
    "collapsed": true
   },
   "outputs": [],
   "source": [
    "def load_dataset(filepath = 'data/ex2data1.txt'):\n",
    "    X = []\n",
    "    y = []\n",
    "    \n",
    "    with open(filepath, 'r') as csvfile:\n",
    "        csvreader = csv.reader(csvfile, delimiter=',')\n",
    "        \n",
    "        for row in csvreader:\n",
    "            X.append([float(row[0]), float(row[1])])\n",
    "            y.append([int(row[2])])\n",
    "            \n",
    "    return np.array(X), np.array(y).reshape((len(y), 1))"
   ]
  },
  {
   "cell_type": "code",
   "execution_count": 29,
   "metadata": {
    "collapsed": false
   },
   "outputs": [],
   "source": [
    "X, y = load_dataset('data/ex2data1.txt')"
   ]
  },
  {
   "cell_type": "code",
   "execution_count": 38,
   "metadata": {
    "collapsed": false
   },
   "outputs": [
    {
     "name": "stdout",
     "output_type": "stream",
     "text": [
      "100\n",
      "cost 4000.0\n",
      "100\n",
      "cost 6000.0\n",
      "100\n",
      "cost 112.653160387\n",
      "100\n",
      "cost 6.82311282428\n",
      "100\n",
      "cost 510.880019883\n",
      "100\n",
      "cost 6.46205053567\n",
      "100\n",
      "cost 7.4572288779\n",
      "100\n",
      "cost 1.06544708783\n",
      "100\n",
      "cost 218.054856786\n",
      "100\n",
      "cost 15.0852199117\n",
      "100\n",
      "cost 0.705297237744\n",
      "100\n",
      "cost 2.04236906465\n",
      "100\n",
      "cost 0.704620393403\n",
      "100\n",
      "cost 0.703306763031\n",
      "100\n",
      "cost 0.699077563726\n",
      "100\n",
      "cost 0.689820739988\n",
      "100\n",
      "cost 0.673794703874\n",
      "100\n",
      "cost 0.645478043041\n",
      "100\n",
      "cost 0.595548521475\n",
      "100\n",
      "cost 0.510484002863\n",
      "100\n",
      "cost 0.381547209325\n",
      "100\n",
      "cost 0.287362133396\n",
      "100\n",
      "cost 0.236251297758\n",
      "100\n",
      "cost 0.214061351907\n",
      "100\n",
      "cost 0.20754577837\n",
      "100\n",
      "cost 0.206340845447\n",
      "100\n",
      "cost 0.206162390329\n",
      "100\n",
      "cost 0.206030632198\n",
      "100\n",
      "cost 0.205820254851\n",
      "100\n",
      "cost 0.205621233875\n",
      "100\n",
      "cost 0.205545293551\n",
      "100\n",
      "cost 0.205529259909\n",
      "100\n",
      "cost 0.205528932361\n",
      "100\n",
      "cost 0.205529152439\n",
      "100\n",
      "cost 0.205528947658\n",
      "100\n",
      "cost 0.205528934076\n",
      "100\n",
      "cost 0.205528932566\n",
      "100\n",
      "cost 0.205528932386\n",
      "100\n",
      "cost 0.205528932364\n",
      "100\n",
      "cost 0.205528932361\n",
      "100\n",
      "cost 0.205528932361\n",
      "100\n",
      "cost 0.205528932361\n",
      "100\n",
      "cost 0.205528932361\n",
      "100\n",
      "cost 0.205529152439\n",
      "100\n",
      "cost 0.205528971481\n",
      "100\n",
      "cost 0.205528941466\n",
      "100\n",
      "cost 0.20552893476\n",
      "100\n",
      "cost 0.205528933011\n",
      "100\n",
      "cost 0.205528932539\n",
      "100\n",
      "cost 0.20552893241\n",
      "100\n",
      "cost 0.205528932374\n",
      "100\n",
      "cost 0.205528932364\n",
      "100\n",
      "cost 0.205528932362\n",
      "100\n",
      "cost 0.205528932361\n",
      "100\n",
      "cost 0.205528932361\n",
      "Warning: Desired error not necessarily achieved due to precision loss.\n",
      "         Current function value: 0.205529\n",
      "         Iterations: 22\n",
      "         Function evaluations: 55\n",
      "         Gradient evaluations: 43\n"
     ]
    },
    {
     "name": "stderr",
     "output_type": "stream",
     "text": [
      "/Users/Mowgli/anaconda/lib/python3.5/site-packages/ipykernel/__main__.py:4: RuntimeWarning: divide by zero encountered in log\n",
      "/Users/Mowgli/anaconda/lib/python3.5/site-packages/ipykernel/__main__.py:4: RuntimeWarning: invalid value encountered in multiply\n",
      "/Users/Mowgli/anaconda/lib/python3.5/site-packages/ipykernel/__main__.py:2: RuntimeWarning: overflow encountered in power\n",
      "  from ipykernel import kernelapp as app\n"
     ]
    }
   ],
   "source": [
    "theta = train(X, y, regularization_parameter=1)"
   ]
  },
  {
   "cell_type": "code",
   "execution_count": 42,
   "metadata": {
    "collapsed": false
   },
   "outputs": [
    {
     "name": "stdout",
     "output_type": "stream",
     "text": [
      "[[  1.          34.62365962  78.02469282]\n",
      " [  1.          30.28671077  43.89499752]\n",
      " [  1.          35.84740877  72.90219803]\n",
      " [  1.          60.18259939  86.3085521 ]\n",
      " [  1.          79.03273605  75.34437644]\n",
      " [  1.          45.08327748  56.31637178]\n",
      " [  1.          61.10666454  96.51142588]\n",
      " [  1.          75.02474557  46.55401354]\n",
      " [  1.          76.0987867   87.42056972]\n",
      " [  1.          84.43281996  43.53339331]\n",
      " [  1.          95.86155507  38.22527806]\n",
      " [  1.          75.01365839  30.60326323]\n",
      " [  1.          82.30705337  76.4819633 ]\n",
      " [  1.          69.36458876  97.71869196]\n",
      " [  1.          39.53833914  76.03681085]\n",
      " [  1.          53.97105215  89.20735014]\n",
      " [  1.          69.07014406  52.74046973]\n",
      " [  1.          67.94685548  46.67857411]\n",
      " [  1.          70.66150955  92.92713789]\n",
      " [  1.          76.97878373  47.57596365]\n",
      " [  1.          67.37202755  42.83843832]\n",
      " [  1.          89.67677575  65.79936593]\n",
      " [  1.          50.53478829  48.85581153]\n",
      " [  1.          34.21206098  44.2095286 ]\n",
      " [  1.          77.92409145  68.97235999]\n",
      " [  1.          62.27101367  69.95445795]\n",
      " [  1.          80.19018075  44.82162893]\n",
      " [  1.          93.1143888   38.80067034]\n",
      " [  1.          61.83020602  50.25610789]\n",
      " [  1.          38.7858038   64.99568096]\n",
      " [  1.          61.37928945  72.80788731]\n",
      " [  1.          85.40451939  57.05198398]\n",
      " [  1.          52.10797973  63.12762377]\n",
      " [  1.          52.04540477  69.43286012]\n",
      " [  1.          40.23689374  71.16774802]\n",
      " [  1.          54.63510555  52.21388588]\n",
      " [  1.          33.91550011  98.86943574]\n",
      " [  1.          64.17698887  80.90806059]\n",
      " [  1.          74.78925296  41.57341523]\n",
      " [  1.          34.18364003  75.23772034]\n",
      " [  1.          83.90239366  56.30804622]\n",
      " [  1.          51.54772027  46.85629026]\n",
      " [  1.          94.44336777  65.56892161]\n",
      " [  1.          82.36875376  40.61825516]\n",
      " [  1.          51.04775177  45.82270146]\n",
      " [  1.          62.22267576  52.06099195]\n",
      " [  1.          77.19303493  70.4582    ]\n",
      " [  1.          97.77159928  86.72782233]\n",
      " [  1.          62.0730638   96.76882412]\n",
      " [  1.          91.5649745   88.69629255]\n",
      " [  1.          79.94481794  74.16311935]\n",
      " [  1.          99.27252693  60.999031  ]\n",
      " [  1.          90.54671411  43.39060181]\n",
      " [  1.          34.52451385  60.39634246]\n",
      " [  1.          50.28649612  49.80453881]\n",
      " [  1.          49.58667722  59.80895099]\n",
      " [  1.          97.64563396  68.86157272]\n",
      " [  1.          32.57720017  95.59854761]\n",
      " [  1.          74.24869137  69.82457123]\n",
      " [  1.          71.79646206  78.45356225]\n",
      " [  1.          75.39561147  85.75993667]\n",
      " [  1.          35.28611282  47.02051395]\n",
      " [  1.          56.2538175   39.26147251]\n",
      " [  1.          30.05882245  49.59297387]\n",
      " [  1.          44.66826172  66.45008615]\n",
      " [  1.          66.56089447  41.09209808]\n",
      " [  1.          40.45755098  97.53518549]\n",
      " [  1.          49.07256322  51.88321182]\n",
      " [  1.          80.27957401  92.11606081]\n",
      " [  1.          66.74671857  60.99139403]\n",
      " [  1.          32.72283304  43.30717306]\n",
      " [  1.          64.03932042  78.03168802]\n",
      " [  1.          72.34649423  96.22759297]\n",
      " [  1.          60.45788574  73.0949981 ]\n",
      " [  1.          58.84095622  75.85844831]\n",
      " [  1.          99.8278578   72.36925193]\n",
      " [  1.          47.26426911  88.475865  ]\n",
      " [  1.          50.4581598   75.80985953]\n",
      " [  1.          60.45555629  42.50840944]\n",
      " [  1.          82.22666158  42.71987854]\n",
      " [  1.          88.91389642  69.8037889 ]\n",
      " [  1.          94.83450672  45.6943068 ]\n",
      " [  1.          67.31925747  66.58935318]\n",
      " [  1.          57.23870632  59.51428198]\n",
      " [  1.          80.366756    90.9601479 ]\n",
      " [  1.          68.46852179  85.5943071 ]\n",
      " [  1.          42.07545454  78.844786  ]\n",
      " [  1.          75.47770201  90.424539  ]\n",
      " [  1.          78.63542435  96.64742717]\n",
      " [  1.          52.34800399  60.76950526]\n",
      " [  1.          94.09433113  77.15910509]\n",
      " [  1.          90.44855097  87.50879176]\n",
      " [  1.          55.48216114  35.57070347]\n",
      " [  1.          74.49269242  84.84513685]\n",
      " [  1.          89.84580671  45.35828361]\n",
      " [  1.          83.48916274  48.3802858 ]\n",
      " [  1.          42.26170081  87.10385094]\n",
      " [  1.          99.31500881  68.77540947]\n",
      " [  1.          55.34001756  64.93193801]\n",
      " [  1.          74.775893    89.5298129 ]]\n",
      "[-25.04340302   0.20522117   0.20057984]\n",
      "Training Accuracy:  89.0\n"
     ]
    }
   ],
   "source": [
    "p = predict(theta, X)\n",
    "\n",
    "print ('Training Accuracy: ' , ((float(y[np.where(p == y)].size) / float(y.size)) * 100.0))"
   ]
  },
  {
   "cell_type": "code",
   "execution_count": null,
   "metadata": {
    "collapsed": true
   },
   "outputs": [],
   "source": []
  }
 ],
 "metadata": {
  "kernelspec": {
   "display_name": "Python 2",
   "language": "python",
   "name": "python2"
  },
  "language_info": {
   "codemirror_mode": {
    "name": "ipython",
    "version": 3
   },
   "file_extension": ".py",
   "mimetype": "text/x-python",
   "name": "python",
   "nbconvert_exporter": "python",
   "pygments_lexer": "ipython3",
   "version": "3.5.1"
  }
 },
 "nbformat": 4,
 "nbformat_minor": 0
}
