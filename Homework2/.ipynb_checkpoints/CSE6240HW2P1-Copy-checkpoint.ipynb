{
 "cells": [
  {
   "cell_type": "markdown",
   "metadata": {},
   "source": [
    "# CSE 6240 - Homework 2 (Part 1)\n",
    "## submitted by Nilaksh Das\n",
    "---"
   ]
  },
  {
   "cell_type": "code",
   "execution_count": 20,
   "metadata": {
    "collapsed": false
   },
   "outputs": [],
   "source": [
    "import csv\n",
    "import math\n",
    "import numpy as np\n",
    "from scipy.optimize import fmin_bfgs\n",
    "from matplotlib import pyplot as plt"
   ]
  },
  {
   "cell_type": "code",
   "execution_count": 21,
   "metadata": {
    "collapsed": true
   },
   "outputs": [],
   "source": [
    "%matplotlib inline"
   ]
  },
  {
   "cell_type": "markdown",
   "metadata": {},
   "source": [
    "---"
   ]
  },
  {
   "cell_type": "code",
   "execution_count": 22,
   "metadata": {
    "collapsed": false
   },
   "outputs": [],
   "source": [
    "def sigmoid(z):\n",
    "    return 1.0 / (1.0 + (math.e ** (-1.0 * z)))"
   ]
  },
  {
   "cell_type": "code",
   "execution_count": 23,
   "metadata": {
    "collapsed": true
   },
   "outputs": [],
   "source": [
    "def h_theta(theta, X):\n",
    "    theta = theta.reshape(len(theta), 1)\n",
    "    \n",
    "    return sigmoid(X.dot(theta))"
   ]
  },
  {
   "cell_type": "code",
   "execution_count": 37,
   "metadata": {
    "collapsed": false
   },
   "outputs": [],
   "source": [
    "def J_theta(theta, X, y, lambda_reg = 0.0):\n",
    "    m = float(X.shape[0])\n",
    "    \n",
    "    cost = (-1.0 * y) * np.log(h_theta(theta, X)) - ((1.0 - y) * np.log(1.0 - h_theta(theta, X)))\n",
    "    cost += (float(lambda_reg) / (2.0 * m)) * np.sum(theta[1:])\n",
    "    \n",
    "    for i in range(cost.size):\n",
    "        if np.isnan(cost[i][0]):\n",
    "            cost[i][0] = 0\n",
    "        elif (cost[i][0] == np.inf):\n",
    "            cost[i][0] = 10000\n",
    "    \n",
    "    cost = np.sum(cost) / float(m)\n",
    "        \n",
    "    print('cost', cost)\n",
    "    \n",
    "    return cost"
   ]
  },
  {
   "cell_type": "code",
   "execution_count": 25,
   "metadata": {
    "collapsed": false
   },
   "outputs": [],
   "source": [
    "def grad_J_theta(theta, X, y, lambda_reg = 0.0):\n",
    "    m = float(X.shape[0])\n",
    "    \n",
    "    gradient = (1.0 / m) * np.sum((h_theta(theta, X) - y) * X, axis=0)\n",
    "    gradient[1:] += (float(lambda_reg) / m) * theta[1:]\n",
    "    \n",
    "    return gradient"
   ]
  },
  {
   "cell_type": "code",
   "execution_count": 26,
   "metadata": {
    "collapsed": true
   },
   "outputs": [],
   "source": [
    "def train(X, y, regularization_parameter = 0.0):\n",
    "    m, n = X.shape\n",
    "    \n",
    "    X_ = np.concatenate((np.ones((m, 1), dtype=float), X), axis=1)\n",
    "    y_ = y.reshape((m, 1))\n",
    "    \n",
    "    n += 1\n",
    "    \n",
    "    theta = np.random.rand(n, 1)\n",
    "\n",
    "    return fmin_bfgs(J_theta, theta, fprime=grad_J_theta, args=(X_, y_, regularization_parameter))"
   ]
  },
  {
   "cell_type": "code",
   "execution_count": 27,
   "metadata": {
    "collapsed": true
   },
   "outputs": [],
   "source": [
    "def predict(theta, X):\n",
    "    m, n = X.shape\n",
    "    \n",
    "    X_ = np.concatenate((np.ones((m, 1), dtype=float), X), axis=1)\n",
    "    \n",
    "    return (h_theta(theta, X_) > 0.5).astype(int)"
   ]
  },
  {
   "cell_type": "markdown",
   "metadata": {},
   "source": [
    "---"
   ]
  },
  {
   "cell_type": "code",
   "execution_count": 28,
   "metadata": {
    "collapsed": true
   },
   "outputs": [],
   "source": [
    "def load_dataset(filepath = 'data/ex2data1.txt'):\n",
    "    X = []\n",
    "    y = []\n",
    "    \n",
    "    with open(filepath, 'r') as csvfile:\n",
    "        csvreader = csv.reader(csvfile, delimiter=',')\n",
    "        \n",
    "        for row in csvreader:\n",
    "            X.append([float(row[0]), float(row[1])])\n",
    "            y.append([int(row[2])])\n",
    "            \n",
    "    return np.array(X), np.array(y).reshape((len(y), 1))"
   ]
  },
  {
   "cell_type": "code",
   "execution_count": 29,
   "metadata": {
    "collapsed": false
   },
   "outputs": [],
   "source": [
    "X, y = load_dataset('data/ex2data1.txt')"
   ]
  },
  {
   "cell_type": "code",
   "execution_count": 38,
   "metadata": {
    "collapsed": false
   },
   "outputs": [
    {
     "name": "stdout",
     "output_type": "stream",
     "text": [
      "100\n",
      "cost 4000.0\n",
      "100\n",
      "cost 6000.0\n",
      "100\n",
      "cost 112.653160387\n",
      "100\n",
      "cost 6.82311282428\n",
      "100\n",
      "cost 510.880019883\n",
      "100\n",
      "cost 6.46205053567\n",
      "100\n",
      "cost 7.4572288779\n",
      "100\n",
      "cost 1.06544708783\n",
      "100\n",
      "cost 218.054856786\n",
      "100\n",
      "cost 15.0852199117\n",
      "100\n",
      "cost 0.705297237744\n",
      "100\n",
      "cost 2.04236906465\n",
      "100\n",
      "cost 0.704620393403\n",
      "100\n",
      "cost 0.703306763031\n",
      "100\n",
      "cost 0.699077563726\n",
      "100\n",
      "cost 0.689820739988\n",
      "100\n",
      "cost 0.673794703874\n",
      "100\n",
      "cost 0.645478043041\n",
      "100\n",
      "cost 0.595548521475\n",
      "100\n",
      "cost 0.510484002863\n",
      "100\n",
      "cost 0.381547209325\n",
      "100\n",
      "cost 0.287362133396\n",
      "100\n",
      "cost 0.236251297758\n",
      "100\n",
      "cost 0.214061351907\n",
      "100\n",
      "cost 0.20754577837\n",
      "100\n",
      "cost 0.206340845447\n",
      "100\n",
      "cost 0.206162390329\n",
      "100\n",
      "cost 0.206030632198\n",
      "100\n",
      "cost 0.205820254851\n",
      "100\n",
      "cost 0.205621233875\n",
      "100\n",
      "cost 0.205545293551\n",
      "100\n",
      "cost 0.205529259909\n",
      "100\n",
      "cost 0.205528932361\n",
      "100\n",
      "cost 0.205529152439\n",
      "100\n",
      "cost 0.205528947658\n",
      "100\n",
      "cost 0.205528934076\n",
      "100\n",
      "cost 0.205528932566\n",
      "100\n",
      "cost 0.205528932386\n",
      "100\n",
      "cost 0.205528932364\n",
      "100\n",
      "cost 0.205528932361\n",
      "100\n",
      "cost 0.205528932361\n",
      "100\n",
      "cost 0.205528932361\n",
      "100\n",
      "cost 0.205528932361\n",
      "100\n",
      "cost 0.205529152439\n",
      "100\n",
      "cost 0.205528971481\n",
      "100\n",
      "cost 0.205528941466\n",
      "100\n",
      "cost 0.20552893476\n",
      "100\n",
      "cost 0.205528933011\n",
      "100\n",
      "cost 0.205528932539\n",
      "100\n",
      "cost 0.20552893241\n",
      "100\n",
      "cost 0.205528932374\n",
      "100\n",
      "cost 0.205528932364\n",
      "100\n",
      "cost 0.205528932362\n",
      "100\n",
      "cost 0.205528932361\n",
      "100\n",
      "cost 0.205528932361\n",
      "Warning: Desired error not necessarily achieved due to precision loss.\n",
      "         Current function value: 0.205529\n",
      "         Iterations: 22\n",
      "         Function evaluations: 55\n",
      "         Gradient evaluations: 43\n"
     ]
    },
    {
     "name": "stderr",
     "output_type": "stream",
     "text": [
      "/Users/Mowgli/anaconda/lib/python3.5/site-packages/ipykernel/__main__.py:4: RuntimeWarning: divide by zero encountered in log\n",
      "/Users/Mowgli/anaconda/lib/python3.5/site-packages/ipykernel/__main__.py:4: RuntimeWarning: invalid value encountered in multiply\n",
      "/Users/Mowgli/anaconda/lib/python3.5/site-packages/ipykernel/__main__.py:2: RuntimeWarning: overflow encountered in power\n",
      "  from ipykernel import kernelapp as app\n"
     ]
    }
   ],
   "source": [
    "theta = train(X, y, regularization_parameter=1)"
   ]
  },
  {
   "cell_type": "code",
   "execution_count": 32,
   "metadata": {
    "collapsed": false
   },
   "outputs": [
    {
     "name": "stdout",
     "output_type": "stream",
     "text": [
      "Training Accuracy:  89.0\n"
     ]
    }
   ],
   "source": [
    "p = predict(theta, X)\n",
    "\n",
    "print ('Training Accuracy: ' , ((float(y[np.where(p == y)].size) / float(y.size)) * 100.0))"
   ]
  },
  {
   "cell_type": "code",
   "execution_count": null,
   "metadata": {
    "collapsed": true
   },
   "outputs": [],
   "source": []
  }
 ],
 "metadata": {
  "kernelspec": {
   "display_name": "Python 2",
   "language": "python",
   "name": "python2"
  },
  "language_info": {
   "codemirror_mode": {
    "name": "ipython",
    "version": 3
   },
   "file_extension": ".py",
   "mimetype": "text/x-python",
   "name": "python",
   "nbconvert_exporter": "python",
   "pygments_lexer": "ipython3",
   "version": "3.5.1"
  }
 },
 "nbformat": 4,
 "nbformat_minor": 0
}
