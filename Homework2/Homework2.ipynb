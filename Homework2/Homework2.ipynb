{
 "cells": [
  {
   "cell_type": "markdown",
   "metadata": {},
   "source": [
    "# CSE 6240 - Web Search & Text Mining - Homework 3"
   ]
  },
  {
   "cell_type": "code",
   "execution_count": 1,
   "metadata": {
    "collapsed": true
   },
   "outputs": [],
   "source": [
    "# __author__ = 'Bhanu Verma'\n",
    "# GTid = '903151012'"
   ]
  },
  {
   "cell_type": "code",
   "execution_count": 2,
   "metadata": {
    "collapsed": true
   },
   "outputs": [],
   "source": [
    "import csv\n",
    "import pprint\n",
    "import math\n",
    "import numpy as np\n",
    "from scipy.optimize import fmin_bfgs\n",
    "import matplotlib.pyplot as plt\n",
    "%matplotlib inline"
   ]
  },
  {
   "cell_type": "code",
   "execution_count": 3,
   "metadata": {
    "collapsed": false
   },
   "outputs": [],
   "source": [
    "def read_data(path, linear):\n",
    "    x = []\n",
    "    y = []\n",
    "    x_n = []\n",
    "    with open(path, 'r') as datafile:\n",
    "        file_reader = csv.reader(datafile, delimiter=',')\n",
    "        \n",
    "        for row in file_reader:\n",
    "            x_1 = float(row[0])\n",
    "            x_2 = float(row[1])\n",
    "            x.append((x_1,x_2))\n",
    "            if (not linear):\n",
    "                x_n.append((x_1, x_2, x_1*x_2, x_1*x_1, x_2*x_2))\n",
    "            y.append(int(row[2]))\n",
    "            \n",
    "    if (linear):\n",
    "        return x, y\n",
    "    else:\n",
    "        return x, x_n ,y"
   ]
  },
  {
   "cell_type": "code",
   "execution_count": 4,
   "metadata": {
    "collapsed": true
   },
   "outputs": [],
   "source": [
    "def get_sigmoid(theta, train_x):\n",
    "    theta = np.reshape(theta,(len(theta),1))        # convert it to a column vector first\n",
    "    z = np.dot(train_x,theta)                       # do matrix multiplication of the vectors\n",
    "    den = 1.0 + math.e ** (-1.0 * z)                # calculate the denominator for the sigmoid\n",
    "    sigmoid_val = 1.0/den\n",
    "    \n",
    "    return sigmoid_val"
   ]
  },
  {
   "cell_type": "code",
   "execution_count": 5,
   "metadata": {
    "collapsed": true
   },
   "outputs": [],
   "source": [
    "def get_h_theta(theta, train_x):\n",
    "    h_theta_val = get_sigmoid(theta, train_x)\n",
    "    \n",
    "    return h_theta_val"
   ]
  },
  {
   "cell_type": "code",
   "execution_count": 6,
   "metadata": {
    "collapsed": true
   },
   "outputs": [],
   "source": [
    "def cost_function(theta, train_x, train_y, lambda_val = 0.0):\n",
    "    training_size = float(train_x.shape[0])\n",
    "    \n",
    "    term_a = (1.0 * train_y) * np.log(get_h_theta(theta, train_x))\n",
    "    term_b = (1.0 - train_y) * np.log(1.0 - get_h_theta(theta, train_x))\n",
    "    cost = -(term_a + term_b)\n",
    "    cost += (float(lambda_val) / (2.0 * training_size)) * np.sum(theta[1:]**2)\n",
    "    \n",
    "    for i in range(cost.size):\n",
    "        if np.isnan(cost[i][0]):\n",
    "            cost[i][0] = 0\n",
    "        elif (cost[i][0] == np.inf):\n",
    "            cost[i][0] = 10000\n",
    "    \n",
    "    cost = np.sum(cost) / training_size\n",
    "    \n",
    "    return cost"
   ]
  },
  {
   "cell_type": "code",
   "execution_count": 7,
   "metadata": {
    "collapsed": true
   },
   "outputs": [],
   "source": [
    "def gradient_function(theta, train_x, train_y, lambda_val):\n",
    "    training_size = float(train_x.shape[0])\n",
    "    delta_val = np.sum((get_h_theta(theta, train_x) - train_y) * train_x, axis=0)\n",
    "    grad = (1.0 / training_size) * delta_val\n",
    "    grad[1:] += (float(lambda_val) / training_size) * theta[1:]\n",
    "    \n",
    "    return grad"
   ]
  },
  {
   "cell_type": "code",
   "execution_count": 8,
   "metadata": {
    "collapsed": true
   },
   "outputs": [],
   "source": [
    "def run_optimization(train_x, train_y, lambda_val):\n",
    "    training_size, dim_size = train_x.shape\n",
    "    train_X = np.concatenate((np.ones((training_size, 1), dtype=float), train_x), axis=1)\n",
    "    train_Y = train_y.reshape((training_size, 1))\n",
    "    dim_size += 1                  # adjusting for theta zero\n",
    "    theta = np.random.rand(dim_size, 1)\n",
    "    optimized_theta = fmin_bfgs(cost_function, theta, fprime=gradient_function, args=(train_X,train_Y,lambda_val))\n",
    "    \n",
    "    return optimized_theta"
   ]
  },
  {
   "cell_type": "code",
   "execution_count": 9,
   "metadata": {
    "collapsed": false
   },
   "outputs": [],
   "source": [
    "def draw_scatter_plot(pos_data, neg_data, plotLabel, x_axis_label, y_axis_label,fig_no):\n",
    "    plt.figure(fig_no, figsize=(10, 7))\n",
    "\n",
    "    plt.subplot(1,1,1)\n",
    "    plt.title(plotLabel)\n",
    "    plt.xlabel(x_axis_label)\n",
    "    plt.ylabel(y_axis_label)\n",
    "\n",
    "    admit_axis_x = pos_data[:,[0]]\n",
    "    admit_axis_y = pos_data[:,[1]]\n",
    "    pos = plt.scatter(admit_axis_x, admit_axis_y, s=50, marker='+', color='green', alpha=0.8)\n",
    "\n",
    "    reject_axis_x = neg_data[:,[0]]\n",
    "    reject_axis_y = neg_data[:,[1]]\n",
    "    neg = plt.scatter(reject_axis_x, reject_axis_y,s=50, marker='o', color='red', alpha=0.8)\n",
    "    plt.legend((pos, neg),('Accepted', 'Not Accepted'),scatterpoints=1,loc='upper right',ncol=3,fontsize=12)\n",
    "    plt.grid(True)\n",
    "    plt.show()"
   ]
  },
  {
   "cell_type": "code",
   "execution_count": 10,
   "metadata": {
    "collapsed": true
   },
   "outputs": [],
   "source": [
    "def plot_decision_boundary(pos_data, neg_data, plotLabel, x_axis_label, y_axis_label,fig_no,x_points,y_points):\n",
    "    plt.figure(fig_no, figsize=(10, 7))\n",
    "\n",
    "    plt.subplot(1,1,1)\n",
    "    plt.title(plotLabel)\n",
    "    plt.xlabel(x_axis_label)\n",
    "    plt.ylabel(y_axis_label)\n",
    "\n",
    "    admit_axis_x = pos_data[:,[0]]\n",
    "    admit_axis_y = pos_data[:,[1]]\n",
    "    pos = plt.scatter(admit_axis_x, admit_axis_y, s=50, marker='+', color='green', alpha=0.8)\n",
    "\n",
    "    reject_axis_x = neg_data[:,[0]]\n",
    "    reject_axis_y = neg_data[:,[1]]\n",
    "    neg = plt.scatter(reject_axis_x, reject_axis_y,s=50, marker='o', color='red', alpha=0.8)\n",
    "    plt.legend((pos, neg),('Accepted', 'Not Accepted'),scatterpoints=1,loc='upper right',ncol=3,fontsize=12)\n",
    "    plt.plot(x_points, y_points, linewidth=2.0)\n",
    "    plt.grid(True)\n",
    "    plt.show()"
   ]
  },
  {
   "cell_type": "code",
   "execution_count": 11,
   "metadata": {
    "collapsed": true
   },
   "outputs": [],
   "source": [
    "def make_prediction(opt_theta, train_x_item):\n",
    "    train_X_item = np.concatenate((np.ones(1, dtype=float), train_x_item))\n",
    "    val = get_h_theta(opt_theta, train_X_item)\n",
    "    \n",
    "    if val >= 0.5:\n",
    "        return 1\n",
    "    else:\n",
    "        return 0"
   ]
  },
  {
   "cell_type": "code",
   "execution_count": 12,
   "metadata": {
    "collapsed": true
   },
   "outputs": [],
   "source": [
    "def get_accuracy(optimized_theta, train_x):\n",
    "    ind = 0\n",
    "    success_count = 0\n",
    "    for row in train_x:\n",
    "        pred_val = make_prediction(optimized_theta,row)\n",
    "        if pred_val == train_y[ind]:\n",
    "            success_count += 1\n",
    "        ind += 1\n",
    "\n",
    "    accuracy = success_count/(float(train_y.shape[0]))\n",
    "    \n",
    "    return accuracy"
   ]
  },
  {
   "cell_type": "markdown",
   "metadata": {},
   "source": [
    "# Question 1 for exam data"
   ]
  },
  {
   "cell_type": "code",
   "execution_count": 13,
   "metadata": {
    "collapsed": false
   },
   "outputs": [],
   "source": [
    "filePath = 'data/ex2data1.txt'\n",
    "x, y = read_data(filePath, True)\n",
    "train_x = np.array(x)\n",
    "train_y = np.array(y).reshape((len(y),1))"
   ]
  },
  {
   "cell_type": "code",
   "execution_count": 14,
   "metadata": {
    "collapsed": false
   },
   "outputs": [
    {
     "data": {
      "image/png": "[encoded data removed]",
      "text/plain": [
       "<matplotlib.figure.Figure at 0x1041b6c50>"
      ]
     },
     "metadata": {},
     "output_type": "display_data"
    }
   ],
   "source": [
    "accept_x = []\n",
    "reject_x = []\n",
    "ind = 0\n",
    "for row in train_y:\n",
    "    if row[0] == 0:\n",
    "        reject_x.append(train_x[ind])\n",
    "    else:\n",
    "        accept_x.append(train_x[ind])\n",
    "    ind += 1\n",
    "    \n",
    "accept_x = np.array(accept_x)\n",
    "reject_x = np.array(reject_x)\n",
    "draw_scatter_plot(accept_x, reject_x, 'Plot for admission data', 'Exam 1 Score', 'Exam 2 Score',1)"
   ]
  },
  {
   "cell_type": "markdown",
   "metadata": {},
   "source": [
    "As you can see from the plot above that a straight line can be used a decision boundary for this dataset and hence we can make do with only two theta parameters"
   ]
  },
  {
   "cell_type": "code",
   "execution_count": 15,
   "metadata": {
    "collapsed": true
   },
   "outputs": [],
   "source": [
    "# Ignore warnings\n",
    "import warnings\n",
    "warnings.filterwarnings('ignore')"
   ]
  },
  {
   "cell_type": "code",
   "execution_count": 16,
   "metadata": {
    "collapsed": false
   },
   "outputs": [
    {
     "name": "stdout",
     "output_type": "stream",
     "text": [
      "Optimization terminated successfully.\n",
      "         Current function value: 0.203912\n",
      "         Iterations: 25\n",
      "         Function evaluations: 37\n",
      "         Gradient evaluations: 37\n"
     ]
    }
   ],
   "source": [
    "optimized_theta = run_optimization(train_x, train_y, 1)"
   ]
  },
  {
   "cell_type": "code",
   "execution_count": 17,
   "metadata": {
    "collapsed": false
   },
   "outputs": [
    {
     "name": "stdout",
     "output_type": "stream",
     "text": [
      "[-25.05200633   0.20535328   0.20058243]\n"
     ]
    }
   ],
   "source": [
    "print(optimized_theta)"
   ]
  },
  {
   "cell_type": "code",
   "execution_count": 18,
   "metadata": {
    "collapsed": false
   },
   "outputs": [
    {
     "name": "stdout",
     "output_type": "stream",
     "text": [
      "Accuracy for admission data:  89.0\n"
     ]
    }
   ],
   "source": [
    "accuracy_score = get_accuracy(optimized_theta, train_x)\n",
    "print(\"Accuracy for admission data: \", accuracy_score*100)"
   ]
  },
  {
   "cell_type": "code",
   "execution_count": 19,
   "metadata": {
    "collapsed": true
   },
   "outputs": [],
   "source": [
    "x_points = np.array([min(train_x[:,[0]]),max(train_x[:,[0]])])\n",
    "y_points = -1/optimized_theta[2] * (x_points * optimized_theta[1] + optimized_theta[0])"
   ]
  },
  {
   "cell_type": "code",
   "execution_count": 20,
   "metadata": {
    "collapsed": false
   },
   "outputs": [
    {
     "data": {
      "image/png": "[encoded data removed]",
      "text/plain": [
       "<matplotlib.figure.Figure at 0x107b03198>"
      ]
     },
     "metadata": {},
     "output_type": "display_data"
    }
   ],
   "source": [
    "accept_x = []\n",
    "reject_x = []\n",
    "ind = 0\n",
    "for row in train_y:\n",
    "    if row[0] == 0:\n",
    "        reject_x.append(train_x[ind])\n",
    "    else:\n",
    "        accept_x.append(train_x[ind])\n",
    "    ind += 1\n",
    "    \n",
    "accept_x = np.array(accept_x)\n",
    "reject_x = np.array(reject_x)\n",
    "plot_decision_boundary(accept_x, reject_x, 'Decision Boundary', 'Exam 1 Score', 'Exam 2 Score',2, x_points, y_points)"
   ]
  },
  {
   "cell_type": "markdown",
   "metadata": {},
   "source": [
    "# Question 1 for microchip data"
   ]
  },
  {
   "cell_type": "code",
   "execution_count": 21,
   "metadata": {
    "collapsed": false
   },
   "outputs": [],
   "source": [
    "filePath = 'data/ex2data2.txt'\n",
    "x, x_n, y = read_data(filePath, False)\n",
    "train_x = np.array(x)\n",
    "train_X = np.array(x_n)\n",
    "train_y = np.array(y).reshape((len(y),1))"
   ]
  },
  {
   "cell_type": "code",
   "execution_count": 22,
   "metadata": {
    "collapsed": false
   },
   "outputs": [
    {
     "data": {
      "image/png": "[encoded data removed]",
      "text/plain": [
       "<matplotlib.figure.Figure at 0x107f5ba90>"
      ]
     },
     "metadata": {},
     "output_type": "display_data"
    }
   ],
   "source": [
    "accept_x = []\n",
    "reject_x = []\n",
    "ind = 0\n",
    "for row in train_y:\n",
    "    if row[0] == 0:\n",
    "        reject_x.append(train_x[ind])\n",
    "    else:\n",
    "        accept_x.append(train_x[ind])\n",
    "    ind += 1\n",
    "    \n",
    "accept_x = np.array(accept_x)\n",
    "reject_x = np.array(reject_x)\n",
    "\n",
    "draw_scatter_plot(accept_x, reject_x, 'Plot for microchip data', 'Test 1 Score', 'Test 2 Score',3)"
   ]
  },
  {
   "cell_type": "code",
   "execution_count": 23,
   "metadata": {
    "collapsed": false
   },
   "outputs": [
    {
     "name": "stdout",
     "output_type": "stream",
     "text": [
      "Optimization terminated successfully.\n",
      "         Current function value: 0.582863\n",
      "         Iterations: 34\n",
      "         Function evaluations: 35\n",
      "         Gradient evaluations: 35\n"
     ]
    }
   ],
   "source": [
    "optimized_theta = run_optimization(train_X, train_y, 1)"
   ]
  },
  {
   "cell_type": "code",
   "execution_count": 24,
   "metadata": {
    "collapsed": false
   },
   "outputs": [
    {
     "name": "stdout",
     "output_type": "stream",
     "text": [
      "[ 1.19936611  0.35020688  0.67133403 -0.95707054 -2.78169695 -2.39009654]\n"
     ]
    }
   ],
   "source": [
    "print(optimized_theta)"
   ]
  },
  {
   "cell_type": "code",
   "execution_count": 25,
   "metadata": {
    "collapsed": false
   },
   "outputs": [
    {
     "name": "stdout",
     "output_type": "stream",
     "text": [
      "Accuracy for microchip data:  81.35593220338984\n"
     ]
    }
   ],
   "source": [
    "accuracy_score = get_accuracy(optimized_theta, train_X)\n",
    "print(\"Accuracy for microchip data: \", accuracy_score*100)"
   ]
  },
  {
   "cell_type": "code",
   "execution_count": null,
   "metadata": {
    "collapsed": true
   },
   "outputs": [],
   "source": []
  }
 ],
 "metadata": {
  "kernelspec": {
   "display_name": "Python 3",
   "language": "python",
   "name": "python3"
  },
  "language_info": {
   "codemirror_mode": {
    "name": "ipython",
    "version": 3
   },
   "file_extension": ".py",
   "mimetype": "text/x-python",
   "name": "python",
   "nbconvert_exporter": "python",
   "pygments_lexer": "ipython3",
   "version": "3.5.1"
  }
 },
 "nbformat": 4,
 "nbformat_minor": 0
}
